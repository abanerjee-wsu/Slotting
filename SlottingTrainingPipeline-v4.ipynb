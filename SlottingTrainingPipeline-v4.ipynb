{
 "cells": [
  {
   "cell_type": "markdown",
   "metadata": {},
   "source": [
    "### Imports"
   ]
  },
  {
   "cell_type": "code",
   "execution_count": 1,
   "metadata": {},
   "outputs": [],
   "source": [
    "import pandas as pd\n",
    "import numpy as np\n",
    "from sklearn.cluster import KMeans\n",
    "from scipy.spatial.distance import cdist\n",
    "from sklearn.linear_model import LogisticRegression\n",
    "from sklearn.metrics import silhouette_score\n",
    "\n",
    "import statsmodels.stats.api as sms\n",
    "import statsmodels.api as sm\n",
    "from scipy.stats import pearsonr\n",
    "\n",
    "%matplotlib inline\n",
    "import matplotlib.pyplot as plt\n",
    "import seaborn as sns; sns.set()  # for plot styling\n",
    "\n",
    "pd.set_option('display.float_format',lambda x: '%.5f' %x)\n",
    "\n",
    "import warnings\n",
    "warnings.filterwarnings(\"ignore\")"
   ]
  },
  {
   "cell_type": "markdown",
   "metadata": {},
   "source": [
    "### Load the dataset"
   ]
  },
  {
   "cell_type": "code",
   "execution_count": 2,
   "metadata": {},
   "outputs": [
    {
     "name": "stdout",
     "output_type": "stream",
     "text": [
      "----- Feature Set ----- \n",
      " ['UniqueId', 'Department', 'Category', 'SubCategory', 'Material', 'Style', 'Dimension', 'ProductSize', 'Volume', 'InventorySegment', 'Color', 'UPC', 'Season_SKU_Introduced', 'Year_SKU_Introduced', 'History_Size_Pct', 'Month', 'Season', 'Year', 'Quarter', 'PlannedUnits', 'PDXPlannedUnits', 'Orders', 'Ordered_Units', 'Avg_Daily_Ordered_Units', 'Days_Ordered', 'Order_Volume', 'Avg_Daily_Volume', 'Experiment_Id']\n"
     ]
    }
   ],
   "source": [
    "# # Load the datasets for 2019 data\n",
    "# data2019 = pd.read_csv(r'C:\\Users\\abandyopadhyay\\ALOKPARNA\\RCV_SLOTTING\\Dataset\\Slotting_2019.csv', header=0, encoding = 'unicode_escape')\n",
    "# print(\"----- Feature Set ----- \\n\", list(data2019.columns))\n",
    "\n",
    "# data2019 = data2019.fillna(0)\n",
    "\n",
    "# Load the datasets for 2018 data\n",
    "data2019 = pd.read_csv(r'C:\\Users\\abandyopadhyay\\ALOKPARNA\\RCV_SLOTTING\\Dataset\\Slotting_2018.csv', header=0, encoding = 'unicode_escape')\n",
    "print(\"----- Feature Set ----- \\n\", list(data2019.columns))\n",
    "\n",
    "this_year = 2018\n",
    "\n",
    "data2019 = data2019.fillna(0)"
   ]
  },
  {
   "cell_type": "markdown",
   "metadata": {},
   "source": [
    "### Function Definitions"
   ]
  },
  {
   "cell_type": "code",
   "execution_count": 3,
   "metadata": {},
   "outputs": [],
   "source": [
    "# Function to identify whether a product is new or not and add that as a feature in the dataset\n",
    "def add_new_product(data):\n",
    "    data.loc[(data.Year_SKU_Introduced < this_year) | ((data['Year_SKU_Introduced']).isnull()), 'NewProduct'] = '0' # Existing product\n",
    "    data.loc[data.Year_SKU_Introduced >= this_year, 'NewProduct'] = '1' # New product\n",
    "    return (data)"
   ]
  },
  {
   "cell_type": "code",
   "execution_count": 4,
   "metadata": {},
   "outputs": [],
   "source": [
    "# Function to add 'Demand' as a feature in the dataset\n",
    "def add_demand(data):\n",
    "    data.loc[data.PlannedUnits != 0, 'Demand'] = data['PlannedUnits']\n",
    "    data.loc[data.PlannedUnits == 0, 'Demand'] = data['PDXPlannedUnits']\n",
    "\n",
    "    return (data)"
   ]
  },
  {
   "cell_type": "code",
   "execution_count": 5,
   "metadata": {},
   "outputs": [],
   "source": [
    "# Function to Group products by Experiment Id\n",
    "def group_by_expId(data):\n",
    "    groupedData = data.groupby(['Experiment_Id']).agg({'Demand': 'sum', 'Orders': 'sum', 'Ordered_Units': 'sum', 'Days_Ordered': 'sum', 'Order_Volume': 'sum', 'Avg_Daily_Volume': 'mean'})\n",
    "    # Remove the index and flatten the 2019 dataset\n",
    "    groupedData.reset_index(inplace=True)\n",
    "    print(\"Grouped dataset (by Experiment Id) shape: \", groupedData.shape)\n",
    "    return (groupedData)"
   ]
  },
  {
   "cell_type": "code",
   "execution_count": 6,
   "metadata": {},
   "outputs": [],
   "source": [
    "# Function to Group products by Experiment Id and Seasons\n",
    "def group_by_Seasons(data):\n",
    "    groupedData = data.groupby(['Experiment_Id', 'Season']).agg({'Demand': 'sum', 'Orders': 'sum', 'Ordered_Units': 'sum', 'Days_Ordered': 'sum', 'Order_Volume': 'sum', 'Avg_Daily_Volume': 'mean'})\n",
    "    # Remove the index and flatten the 2019 dataset\n",
    "    groupedData.reset_index(inplace=True)\n",
    "    print(\"Grouped dataset (by Experiment Id and Seasons) shape: \", groupedData.shape)\n",
    "    return (groupedData)"
   ]
  },
  {
   "cell_type": "code",
   "execution_count": 7,
   "metadata": {},
   "outputs": [],
   "source": [
    "# Function to Group products by Experiment Id and Categorical Descriptions\n",
    "def group_by_Categoricals(data):\n",
    "    groupedData = data.groupby(['Experiment_Id', 'Department', 'Category', 'SubCategory', 'Material', 'Style', 'Dimension', 'ProductSize', 'Volume', 'InventorySegment', 'Color', 'UPC', 'NewProduct']).agg({'Demand': 'sum', 'Orders': 'sum','Ordered_Units': 'sum', 'Avg_Daily_Ordered_Units': 'sum', 'Days_Ordered': 'sum', 'Order_Volume': 'sum', 'Avg_Daily_Volume': 'mean'})\n",
    "    # Remove index and flatten the dataset\n",
    "    groupedData.reset_index(inplace=True)\n",
    "    print(\"Grouped dataset (Experiment Id and Categoricals) shape: \", groupedData.shape)\n",
    "    return (groupedData)"
   ]
  },
  {
   "cell_type": "code",
   "execution_count": 8,
   "metadata": {},
   "outputs": [],
   "source": [
    "# Function to Group products by Experiment Id, Seasons and Categorical Descriptions\n",
    "def group_by_SeasonsAndCategoricals(data):\n",
    "    groupedData = data.groupby(['Experiment_Id', 'Season', 'Department', 'Category', 'SubCategory', 'Material', 'Style', 'Dimension', 'ProductSize', 'Volume', 'InventorySegment', 'Color', 'UPC', 'NewProduct']).agg({'Demand': 'sum', 'Orders': 'sum','Ordered_Units': 'sum', 'Avg_Daily_Ordered_Units': 'sum', 'Days_Ordered': 'sum', 'Order_Volume': 'sum', 'Avg_Daily_Volume': 'mean'})\n",
    "    # Remove index and flatten the dataset\n",
    "    groupedData.reset_index(inplace=True)\n",
    "    print(\"\\nGrouped dataset (Experiment Id, Seasons and Categoricals) shape: \", groupedData.shape)\n",
    "    return (groupedData)"
   ]
  },
  {
   "cell_type": "code",
   "execution_count": 9,
   "metadata": {},
   "outputs": [],
   "source": [
    "# Function to select the Top80 selling products\n",
    "def get_Top80(data):\n",
    "    # Calculate % Ordered_Units \n",
    "    totalOrdUnits = data['Ordered_Units'].sum()\n",
    "    data['Pct_OrdUnits'] = (data['Ordered_Units']/totalOrdUnits)*100\n",
    "\n",
    "    # Sort the dataset based on % Ordered_Units \n",
    "    data = data.sort_values('Pct_OrdUnits',ascending=False)\n",
    "    data['Cumsum_Pct_OrdUnits'] = data['Pct_OrdUnits'].cumsum()\n",
    "\n",
    "    # Find the orders with Top 80 sales (ordered units)\n",
    "    dataTop80 = data[data.Cumsum_Pct_OrdUnits <= 80]\n",
    "\n",
    "    # Drop the Pct_OrdUnits and Cumsum_Pct_OrdUnits columns\n",
    "    dataTop80 = dataTop80.drop(['Pct_OrdUnits', 'Cumsum_Pct_OrdUnits'], axis=1)\n",
    "\n",
    "    print(\"Dataset shape after retaining the Top80 selling products: \", dataTop80.shape)\n",
    "    return (dataTop80)"
   ]
  },
  {
   "cell_type": "code",
   "execution_count": 10,
   "metadata": {},
   "outputs": [],
   "source": [
    "# Function for K-Means clustering\n",
    "def KMeans_clusterLabels(data, n):# Cluster data using k-means and get the cluster labels\n",
    "    model = KMeans(n_clusters=n, random_state=1)\n",
    "    model.fit(data)\n",
    "    model2019 = model.predict(data)\n",
    "    # Get cluster labels\n",
    "    cluster_label = model.labels_\n",
    "    #Plot the clusters\n",
    "    plt.scatter(data.iloc[:, 0], data.iloc[:, 1], c=model2019, s=50, cmap='viridis')\n",
    "    centers = model.cluster_centers_\n",
    "    plt.scatter(centers[:, 0], centers[:, 1], c='black', s=200, alpha=0.5)\n",
    "    \n",
    "    # Recoding the Cluster '0' as Cluster 'n'\n",
    "    for i in range(len(cluster_label)): \n",
    "        if cluster_label[i] == 0:\n",
    "            cluster_label[i] = n\n",
    "    \n",
    "    return (cluster_label)"
   ]
  },
  {
   "cell_type": "code",
   "execution_count": 11,
   "metadata": {},
   "outputs": [],
   "source": [
    "# Function for adding binary values for ClusterLabels\n",
    "def add_binary_response_clusterLabels(data):\n",
    "    data.loc[data.Cluster3_Label == 1, 'Cluster_1'] = '1'\n",
    "    data.loc[data.Cluster3_Label != 1, 'Cluster_1'] = '0'\n",
    "    \n",
    "    data.loc[data.Cluster3_Label == 2, 'Cluster_2'] = '1'\n",
    "    data.loc[data.Cluster3_Label != 2, 'Cluster_2'] = '0'\n",
    "    \n",
    "    data.loc[data.Cluster3_Label == 3, 'Cluster_3'] = '1'\n",
    "    data.loc[data.Cluster3_Label != 3, 'Cluster_3'] = '0'\n",
    "    \n",
    "    return (data)"
   ]
  },
  {
   "cell_type": "code",
   "execution_count": 12,
   "metadata": {},
   "outputs": [],
   "source": [
    "# Function for creating Classification Dataset\n",
    "def create_Classification_Dataset(data):\n",
    "    # Add the new feature 'Suggested_Storage_Type' and the target 'Class' based on the 'Avg_Daily_Volume'\n",
    "    data.loc[data.Avg_Daily_Volume <= 4216.22, 'Suggested_Storage_Type'] = 'Flat Rack'\n",
    "    data.loc[data.Avg_Daily_Volume <= 4216.22, 'Class'] = '1'\n",
    "    data.loc[(data.Avg_Daily_Volume > 4216.22) & (data.Avg_Daily_Volume <= 21081.6), 'Suggested_Storage_Type'] = 'Flow Rack' \n",
    "    data.loc[(data.Avg_Daily_Volume > 4216.22) & (data.Avg_Daily_Volume <= 21081.6), 'Class'] = '2' \n",
    "    data.loc[data.Avg_Daily_Volume > 21081.6, 'Suggested_Storage_Type'] = 'Big Pack'\n",
    "    data.loc[data.Avg_Daily_Volume > 21081.6, 'Class'] = '3'\n",
    "\n",
    "    return (data)"
   ]
  },
  {
   "cell_type": "code",
   "execution_count": 13,
   "metadata": {},
   "outputs": [],
   "source": [
    "# Function to calculate Pearson Co-edfficient and p-values of a matrix\n",
    "def corrcoef_loop(matrix):\n",
    "    rows, cols = matrix.shape[0], matrix.shape[1]\n",
    "    r = np.ones(shape=(rows, rows))\n",
    "    p = np.ones(shape=(rows, rows))\n",
    "    for i in range(rows):\n",
    "        for j in range(i+1, rows):\n",
    "            r_, p_ = pearsonr(matrix[i], matrix[j])\n",
    "            r[i, j] = r[j, i] = r_\n",
    "            p[i, j] = p[j, i] = p_\n",
    "    return r, p"
   ]
  },
  {
   "cell_type": "markdown",
   "metadata": {},
   "source": [
    "### Dataset ETL and Selection of Top80 Sales"
   ]
  },
  {
   "cell_type": "code",
   "execution_count": 14,
   "metadata": {
    "scrolled": true
   },
   "outputs": [
    {
     "name": "stdout",
     "output_type": "stream",
     "text": [
      "0: Existing Product; 1: New Product\n",
      "0    131966\n",
      "1     25081\n",
      "Name: NewProduct, dtype: int64\n",
      "\n",
      "Grouped dataset (Experiment Id, Seasons and Categoricals) shape:  (33005, 21)\n",
      "Spring2019 with categorical dataset shape:  (15050, 20)\n",
      "Fall2019 with categorical dataset shape:  (17955, 20)\n",
      "Dataset shape after retaining the Top80 selling products:  (2280, 20)\n",
      "Dataset shape after retaining the Top80 selling products:  (2548, 20)\n",
      "\n",
      "----- Feature Set : dfCatSpring2019_Top80 ----- \n",
      " ['Experiment_Id', 'Department', 'Category', 'SubCategory', 'Material', 'Style', 'Dimension', 'ProductSize', 'Volume', 'InventorySegment', 'Color', 'UPC', 'NewProduct', 'Demand', 'Orders', 'Ordered_Units', 'Avg_Daily_Ordered_Units', 'Days_Ordered', 'Order_Volume', 'Avg_Daily_Volume']\n",
      "\n",
      "----- Feature Set : dfCatFall2019_Top80 ----- \n",
      " ['Experiment_Id', 'Department', 'Category', 'SubCategory', 'Material', 'Style', 'Dimension', 'ProductSize', 'Volume', 'InventorySegment', 'Color', 'UPC', 'NewProduct', 'Demand', 'Orders', 'Ordered_Units', 'Avg_Daily_Ordered_Units', 'Days_Ordered', 'Order_Volume', 'Avg_Daily_Volume']\n"
     ]
    }
   ],
   "source": [
    "# Remove those Data for which there are no Orders\n",
    "dfOrders2019 = data2019[data2019.Orders != 0]\n",
    "\n",
    "# Add a new feature to identify whether a product is New or Existing\n",
    "dfOrders2019 = add_new_product(dfOrders2019)\n",
    "print(\"0: Existing Product; 1: New Product\")\n",
    "print(dfOrders2019['NewProduct'].value_counts())\n",
    "\n",
    "# Add a new feature 'Demand'\n",
    "dfOrders2019 = add_demand(dfOrders2019)\n",
    "\n",
    "# # Group 2019 dataset by Experiment_Id\n",
    "# grouped2019 = group_by_expId(dfOrders2019)\n",
    "\n",
    "# # Group 2019 dataset by Experiment_Id and Seasons\n",
    "# groupedSeasons2019 = group_by_Seasons(dfOrders2019)\n",
    "# groupedSpring2019 = groupedSeasons2019.loc[groupedSeasons2019['Season'] == 0].drop(['Season'], axis=1)\n",
    "# groupedFall2019 = groupedSeasons2019.loc[groupedSeasons2019['Season'] == 1].drop(['Season'], axis=1)\n",
    "# print(\"Spring2019 dataset shape: \", groupedSpring2019.shape)\n",
    "# print(\"Fall2019 dataset shape: \", groupedFall2019.shape)\n",
    "\n",
    "# # Group 2019 dataset by Experiment_Id and Categorical Descriptions\n",
    "# groupedCat2019 = group_by_Categoricals(dfOrders2019)\n",
    "\n",
    "# Group 2019 dataset by Experiment_Id, Seasons and Categoricals\n",
    "groupedCatSeasons2019 = group_by_SeasonsAndCategoricals(dfOrders2019)\n",
    "\n",
    "groupedCatSpring2019 = groupedCatSeasons2019.loc[groupedCatSeasons2019['Season'] == 0].drop(['Season'], axis=1)\n",
    "groupedCatFall2019 = groupedCatSeasons2019.loc[groupedCatSeasons2019['Season'] == 1].drop(['Season'], axis=1)\n",
    "print(\"Spring2019 with categorical dataset shape: \", groupedCatSpring2019.shape)\n",
    "print(\"Fall2019 with categorical dataset shape: \", groupedCatFall2019.shape)\n",
    "\n",
    "# Get Top80 most sold products\n",
    "# df2019_Top80 = get_Top80(grouped2019)\n",
    "# dfSpring2019_Top80 = get_Top80(groupedSpring2019)\n",
    "# dfFall2019_Top80 = get_Top80(groupedFall2019)\n",
    "\n",
    "# dfCat2019_Top80 = get_Top80(groupedCat2019)\n",
    "dfCatSpring2019_Top80 = get_Top80(groupedCatSpring2019)\n",
    "dfCatFall2019_Top80 = get_Top80(groupedCatFall2019)\n",
    "\n",
    "print(\"\\n----- Feature Set : dfCatSpring2019_Top80 ----- \\n\", list(dfCatSpring2019_Top80.columns))\n",
    "print(\"\\n----- Feature Set : dfCatFall2019_Top80 ----- \\n\", list(dfCatFall2019_Top80.columns))"
   ]
  },
  {
   "cell_type": "code",
   "execution_count": 15,
   "metadata": {},
   "outputs": [],
   "source": [
    "# # Cluster 2019 dataset (without categorical descriptions) by K-Means Clustering\n",
    "# df2019_Top80_kmeans = df2019_Top80.copy()\n",
    "\n",
    "# # Add the cluster labels to the dataset\n",
    "# # Number of clusters : 3\n",
    "# cluster3_label = KMeans_clusterLabels(df2019_Top80, 3)\n",
    "# df2019_Top80_kmeans['Cluster3_Label'] = cluster3_label\n",
    "\n",
    "# print(\"\\n----- 2019 Cluster_Label counts -----\")\n",
    "# print(df2019_Top80_kmeans['Cluster3_Label'].value_counts())"
   ]
  },
  {
   "cell_type": "code",
   "execution_count": 16,
   "metadata": {},
   "outputs": [],
   "source": [
    "# # Number of clusters : 4\n",
    "# cluster4_label = KMeans_clusterLabels(df2019_Top80, 4)\n",
    "# df2019_Top80_kmeans['Cluster4_Label'] = cluster4_label\n",
    "\n",
    "# print(\"\\n----- 2019 Cluster_Label counts -----\")\n",
    "# print(df2019_Top80_kmeans['Cluster4_Label'].value_counts())"
   ]
  },
  {
   "cell_type": "code",
   "execution_count": 17,
   "metadata": {},
   "outputs": [],
   "source": [
    "# # Remove the order details and retain only the cluster labels along with the Experiment_Id\n",
    "# df2019_Top80_kmeans_labels = df2019_Top80_kmeans.drop(['Demand', 'Orders', 'Ordered_Units', 'Days_Ordered', 'Order_Volume', 'Avg_Daily_Volume'], axis=1)\n",
    "# print(\"Dataset shape: \", df2019_Top80_kmeans_labels.shape)\n",
    "\n",
    "# # Clustering Accuracy : Calculate Silhouette Coefficient\n",
    "# # Evaluate the 3-cluster model\n",
    "# accuracyCluster3 = silhouette_score(df2019_Top80, cluster3_label)\n",
    "# print(\"Accuracy of kmeans with n=3: \", accuracyCluster3)\n",
    "# # Evaluate the 4-cluster model\n",
    "# accuracyCluster4 = silhouette_score(df2019_Top80, cluster4_label)\n",
    "# print(\"Accuracy of kmeans with n=4: \", accuracyCluster4)"
   ]
  },
  {
   "cell_type": "markdown",
   "metadata": {},
   "source": [
    "### Feature Selection for Clustering"
   ]
  },
  {
   "cell_type": "code",
   "execution_count": 77,
   "metadata": {},
   "outputs": [],
   "source": [
    "CLUSTERING_FEATURE_SET_1 = ['Volume', 'Orders', 'Ordered_Units', 'Days_Ordered', 'Order_Volume']\n",
    "CLUSTERING_FEATURE_SET_2 = ['Volume', 'Orders', 'Avg_Daily_Ordered_Units', 'Days_Ordered', 'Order_Volume']\n",
    "CLUSTERING_FEATURE_SET_3 = ['Volume', 'Orders', 'Ordered_Units', 'Days_Ordered', 'Avg_Daily_Volume']\n",
    "CLUSTERING_FEATURE_SET_4 = ['Volume', 'Orders', 'Avg_Daily_Ordered_Units', 'Days_Ordered', 'Avg_Daily_Volume']\n",
    "\n",
    "CLUSTERING_FEATURE_SET = CLUSTERING_FEATURE_SET_4\n",
    "\n",
    "dfSpring2019_Top80_kmeans = dfCatSpring2019_Top80[CLUSTERING_FEATURE_SET]\n",
    "dfFall2019_Top80_kmeans = dfCatFall2019_Top80[CLUSTERING_FEATURE_SET]"
   ]
  },
  {
   "cell_type": "markdown",
   "metadata": {},
   "source": [
    "### Calculate Corelation of Selected Features"
   ]
  },
  {
   "cell_type": "code",
   "execution_count": 78,
   "metadata": {
    "scrolled": true
   },
   "outputs": [
    {
     "data": {
      "text/html": [
       "<style  type=\"text/css\" >\n",
       "    #T_512cb6fa_cfec_11e9_9699_605718ad0862row0_col0 {\n",
       "            background-color:  #b40426;\n",
       "            color:  #f1f1f1;\n",
       "        }    #T_512cb6fa_cfec_11e9_9699_605718ad0862row0_col1 {\n",
       "            background-color:  #506bda;\n",
       "            color:  #000000;\n",
       "        }    #T_512cb6fa_cfec_11e9_9699_605718ad0862row0_col2 {\n",
       "            background-color:  #516ddb;\n",
       "            color:  #000000;\n",
       "        }    #T_512cb6fa_cfec_11e9_9699_605718ad0862row0_col3 {\n",
       "            background-color:  #5470de;\n",
       "            color:  #000000;\n",
       "        }    #T_512cb6fa_cfec_11e9_9699_605718ad0862row0_col4 {\n",
       "            background-color:  #a6c4fe;\n",
       "            color:  #000000;\n",
       "        }    #T_512cb6fa_cfec_11e9_9699_605718ad0862row1_col0 {\n",
       "            background-color:  #506bda;\n",
       "            color:  #000000;\n",
       "        }    #T_512cb6fa_cfec_11e9_9699_605718ad0862row1_col1 {\n",
       "            background-color:  #b40426;\n",
       "            color:  #f1f1f1;\n",
       "        }    #T_512cb6fa_cfec_11e9_9699_605718ad0862row1_col2 {\n",
       "            background-color:  #ee8669;\n",
       "            color:  #000000;\n",
       "        }    #T_512cb6fa_cfec_11e9_9699_605718ad0862row1_col3 {\n",
       "            background-color:  #c5d6f2;\n",
       "            color:  #000000;\n",
       "        }    #T_512cb6fa_cfec_11e9_9699_605718ad0862row1_col4 {\n",
       "            background-color:  #9ebeff;\n",
       "            color:  #000000;\n",
       "        }    #T_512cb6fa_cfec_11e9_9699_605718ad0862row2_col0 {\n",
       "            background-color:  #516ddb;\n",
       "            color:  #000000;\n",
       "        }    #T_512cb6fa_cfec_11e9_9699_605718ad0862row2_col1 {\n",
       "            background-color:  #ee8669;\n",
       "            color:  #000000;\n",
       "        }    #T_512cb6fa_cfec_11e9_9699_605718ad0862row2_col2 {\n",
       "            background-color:  #b40426;\n",
       "            color:  #f1f1f1;\n",
       "        }    #T_512cb6fa_cfec_11e9_9699_605718ad0862row2_col3 {\n",
       "            background-color:  #799cf8;\n",
       "            color:  #000000;\n",
       "        }    #T_512cb6fa_cfec_11e9_9699_605718ad0862row2_col4 {\n",
       "            background-color:  #e7d7ce;\n",
       "            color:  #000000;\n",
       "        }    #T_512cb6fa_cfec_11e9_9699_605718ad0862row3_col0 {\n",
       "            background-color:  #5470de;\n",
       "            color:  #000000;\n",
       "        }    #T_512cb6fa_cfec_11e9_9699_605718ad0862row3_col1 {\n",
       "            background-color:  #c5d6f2;\n",
       "            color:  #000000;\n",
       "        }    #T_512cb6fa_cfec_11e9_9699_605718ad0862row3_col2 {\n",
       "            background-color:  #799cf8;\n",
       "            color:  #000000;\n",
       "        }    #T_512cb6fa_cfec_11e9_9699_605718ad0862row3_col3 {\n",
       "            background-color:  #b40426;\n",
       "            color:  #f1f1f1;\n",
       "        }    #T_512cb6fa_cfec_11e9_9699_605718ad0862row3_col4 {\n",
       "            background-color:  #3b4cc0;\n",
       "            color:  #f1f1f1;\n",
       "        }    #T_512cb6fa_cfec_11e9_9699_605718ad0862row4_col0 {\n",
       "            background-color:  #a6c4fe;\n",
       "            color:  #000000;\n",
       "        }    #T_512cb6fa_cfec_11e9_9699_605718ad0862row4_col1 {\n",
       "            background-color:  #9ebeff;\n",
       "            color:  #000000;\n",
       "        }    #T_512cb6fa_cfec_11e9_9699_605718ad0862row4_col2 {\n",
       "            background-color:  #e7d7ce;\n",
       "            color:  #000000;\n",
       "        }    #T_512cb6fa_cfec_11e9_9699_605718ad0862row4_col3 {\n",
       "            background-color:  #3b4cc0;\n",
       "            color:  #f1f1f1;\n",
       "        }    #T_512cb6fa_cfec_11e9_9699_605718ad0862row4_col4 {\n",
       "            background-color:  #b40426;\n",
       "            color:  #f1f1f1;\n",
       "        }</style><table id=\"T_512cb6fa_cfec_11e9_9699_605718ad0862\" ><thead>    <tr>        <th class=\"blank level0\" ></th>        <th class=\"col_heading level0 col0\" >Volume</th>        <th class=\"col_heading level0 col1\" >Orders</th>        <th class=\"col_heading level0 col2\" >Avg_Daily_Ordered_Units</th>        <th class=\"col_heading level0 col3\" >Days_Ordered</th>        <th class=\"col_heading level0 col4\" >Avg_Daily_Volume</th>    </tr></thead><tbody>\n",
       "                <tr>\n",
       "                        <th id=\"T_512cb6fa_cfec_11e9_9699_605718ad0862level0_row0\" class=\"row_heading level0 row0\" >Volume</th>\n",
       "                        <td id=\"T_512cb6fa_cfec_11e9_9699_605718ad0862row0_col0\" class=\"data row0 col0\" >1</td>\n",
       "                        <td id=\"T_512cb6fa_cfec_11e9_9699_605718ad0862row0_col1\" class=\"data row0 col1\" >-0.17904</td>\n",
       "                        <td id=\"T_512cb6fa_cfec_11e9_9699_605718ad0862row0_col2\" class=\"data row0 col2\" >-0.170369</td>\n",
       "                        <td id=\"T_512cb6fa_cfec_11e9_9699_605718ad0862row0_col3\" class=\"data row0 col3\" >-0.162131</td>\n",
       "                        <td id=\"T_512cb6fa_cfec_11e9_9699_605718ad0862row0_col4\" class=\"data row0 col4\" >0.140378</td>\n",
       "            </tr>\n",
       "            <tr>\n",
       "                        <th id=\"T_512cb6fa_cfec_11e9_9699_605718ad0862level0_row1\" class=\"row_heading level0 row1\" >Orders</th>\n",
       "                        <td id=\"T_512cb6fa_cfec_11e9_9699_605718ad0862row1_col0\" class=\"data row1 col0\" >-0.17904</td>\n",
       "                        <td id=\"T_512cb6fa_cfec_11e9_9699_605718ad0862row1_col1\" class=\"data row1 col1\" >1</td>\n",
       "                        <td id=\"T_512cb6fa_cfec_11e9_9699_605718ad0862row1_col2\" class=\"data row1 col2\" >0.739503</td>\n",
       "                        <td id=\"T_512cb6fa_cfec_11e9_9699_605718ad0862row1_col3\" class=\"data row1 col3\" >0.261513</td>\n",
       "                        <td id=\"T_512cb6fa_cfec_11e9_9699_605718ad0862row1_col4\" class=\"data row1 col4\" >0.108798</td>\n",
       "            </tr>\n",
       "            <tr>\n",
       "                        <th id=\"T_512cb6fa_cfec_11e9_9699_605718ad0862level0_row2\" class=\"row_heading level0 row2\" >Avg_Daily_Ordered_Units</th>\n",
       "                        <td id=\"T_512cb6fa_cfec_11e9_9699_605718ad0862row2_col0\" class=\"data row2 col0\" >-0.170369</td>\n",
       "                        <td id=\"T_512cb6fa_cfec_11e9_9699_605718ad0862row2_col1\" class=\"data row2 col1\" >0.739503</td>\n",
       "                        <td id=\"T_512cb6fa_cfec_11e9_9699_605718ad0862row2_col2\" class=\"data row2 col2\" >1</td>\n",
       "                        <td id=\"T_512cb6fa_cfec_11e9_9699_605718ad0862row2_col3\" class=\"data row2 col3\" >-0.0215096</td>\n",
       "                        <td id=\"T_512cb6fa_cfec_11e9_9699_605718ad0862row2_col4\" class=\"data row2 col4\" >0.417626</td>\n",
       "            </tr>\n",
       "            <tr>\n",
       "                        <th id=\"T_512cb6fa_cfec_11e9_9699_605718ad0862level0_row3\" class=\"row_heading level0 row3\" >Days_Ordered</th>\n",
       "                        <td id=\"T_512cb6fa_cfec_11e9_9699_605718ad0862row3_col0\" class=\"data row3 col0\" >-0.162131</td>\n",
       "                        <td id=\"T_512cb6fa_cfec_11e9_9699_605718ad0862row3_col1\" class=\"data row3 col1\" >0.261513</td>\n",
       "                        <td id=\"T_512cb6fa_cfec_11e9_9699_605718ad0862row3_col2\" class=\"data row3 col2\" >-0.0215096</td>\n",
       "                        <td id=\"T_512cb6fa_cfec_11e9_9699_605718ad0862row3_col3\" class=\"data row3 col3\" >1</td>\n",
       "                        <td id=\"T_512cb6fa_cfec_11e9_9699_605718ad0862row3_col4\" class=\"data row3 col4\" >-0.268774</td>\n",
       "            </tr>\n",
       "            <tr>\n",
       "                        <th id=\"T_512cb6fa_cfec_11e9_9699_605718ad0862level0_row4\" class=\"row_heading level0 row4\" >Avg_Daily_Volume</th>\n",
       "                        <td id=\"T_512cb6fa_cfec_11e9_9699_605718ad0862row4_col0\" class=\"data row4 col0\" >0.140378</td>\n",
       "                        <td id=\"T_512cb6fa_cfec_11e9_9699_605718ad0862row4_col1\" class=\"data row4 col1\" >0.108798</td>\n",
       "                        <td id=\"T_512cb6fa_cfec_11e9_9699_605718ad0862row4_col2\" class=\"data row4 col2\" >0.417626</td>\n",
       "                        <td id=\"T_512cb6fa_cfec_11e9_9699_605718ad0862row4_col3\" class=\"data row4 col3\" >-0.268774</td>\n",
       "                        <td id=\"T_512cb6fa_cfec_11e9_9699_605718ad0862row4_col4\" class=\"data row4 col4\" >1</td>\n",
       "            </tr>\n",
       "    </tbody></table>"
      ],
      "text/plain": [
       "<pandas.io.formats.style.Styler at 0x22db9f981d0>"
      ]
     },
     "execution_count": 78,
     "metadata": {},
     "output_type": "execute_result"
    }
   ],
   "source": [
    "corr_Spring = dfSpring2019_Top80_kmeans.corr()\n",
    "corr_Spring.style.background_gradient(cmap='coolwarm', axis=None)"
   ]
  },
  {
   "cell_type": "code",
   "execution_count": 79,
   "metadata": {},
   "outputs": [
    {
     "data": {
      "text/html": [
       "<style  type=\"text/css\" >\n",
       "    #T_51811e10_cfec_11e9_a6b3_605718ad0862row0_col0 {\n",
       "            background-color:  #b40426;\n",
       "            color:  #f1f1f1;\n",
       "        }    #T_51811e10_cfec_11e9_a6b3_605718ad0862row0_col1 {\n",
       "            background-color:  #94b6ff;\n",
       "            color:  #000000;\n",
       "        }    #T_51811e10_cfec_11e9_a6b3_605718ad0862row0_col2 {\n",
       "            background-color:  #90b2fe;\n",
       "            color:  #000000;\n",
       "        }    #T_51811e10_cfec_11e9_a6b3_605718ad0862row0_col3 {\n",
       "            background-color:  #6384eb;\n",
       "            color:  #000000;\n",
       "        }    #T_51811e10_cfec_11e9_a6b3_605718ad0862row0_col4 {\n",
       "            background-color:  #f1cdba;\n",
       "            color:  #000000;\n",
       "        }    #T_51811e10_cfec_11e9_a6b3_605718ad0862row1_col0 {\n",
       "            background-color:  #94b6ff;\n",
       "            color:  #000000;\n",
       "        }    #T_51811e10_cfec_11e9_a6b3_605718ad0862row1_col1 {\n",
       "            background-color:  #b40426;\n",
       "            color:  #f1f1f1;\n",
       "        }    #T_51811e10_cfec_11e9_a6b3_605718ad0862row1_col2 {\n",
       "            background-color:  #f59c7d;\n",
       "            color:  #000000;\n",
       "        }    #T_51811e10_cfec_11e9_a6b3_605718ad0862row1_col3 {\n",
       "            background-color:  #d1dae9;\n",
       "            color:  #000000;\n",
       "        }    #T_51811e10_cfec_11e9_a6b3_605718ad0862row1_col4 {\n",
       "            background-color:  #c1d4f4;\n",
       "            color:  #000000;\n",
       "        }    #T_51811e10_cfec_11e9_a6b3_605718ad0862row2_col0 {\n",
       "            background-color:  #90b2fe;\n",
       "            color:  #000000;\n",
       "        }    #T_51811e10_cfec_11e9_a6b3_605718ad0862row2_col1 {\n",
       "            background-color:  #f59c7d;\n",
       "            color:  #000000;\n",
       "        }    #T_51811e10_cfec_11e9_a6b3_605718ad0862row2_col2 {\n",
       "            background-color:  #b40426;\n",
       "            color:  #f1f1f1;\n",
       "        }    #T_51811e10_cfec_11e9_a6b3_605718ad0862row2_col3 {\n",
       "            background-color:  #90b2fe;\n",
       "            color:  #000000;\n",
       "        }    #T_51811e10_cfec_11e9_a6b3_605718ad0862row2_col4 {\n",
       "            background-color:  #dbdcde;\n",
       "            color:  #000000;\n",
       "        }    #T_51811e10_cfec_11e9_a6b3_605718ad0862row3_col0 {\n",
       "            background-color:  #6384eb;\n",
       "            color:  #000000;\n",
       "        }    #T_51811e10_cfec_11e9_a6b3_605718ad0862row3_col1 {\n",
       "            background-color:  #d1dae9;\n",
       "            color:  #000000;\n",
       "        }    #T_51811e10_cfec_11e9_a6b3_605718ad0862row3_col2 {\n",
       "            background-color:  #90b2fe;\n",
       "            color:  #000000;\n",
       "        }    #T_51811e10_cfec_11e9_a6b3_605718ad0862row3_col3 {\n",
       "            background-color:  #b40426;\n",
       "            color:  #f1f1f1;\n",
       "        }    #T_51811e10_cfec_11e9_a6b3_605718ad0862row3_col4 {\n",
       "            background-color:  #3b4cc0;\n",
       "            color:  #f1f1f1;\n",
       "        }    #T_51811e10_cfec_11e9_a6b3_605718ad0862row4_col0 {\n",
       "            background-color:  #f1cdba;\n",
       "            color:  #000000;\n",
       "        }    #T_51811e10_cfec_11e9_a6b3_605718ad0862row4_col1 {\n",
       "            background-color:  #c1d4f4;\n",
       "            color:  #000000;\n",
       "        }    #T_51811e10_cfec_11e9_a6b3_605718ad0862row4_col2 {\n",
       "            background-color:  #dbdcde;\n",
       "            color:  #000000;\n",
       "        }    #T_51811e10_cfec_11e9_a6b3_605718ad0862row4_col3 {\n",
       "            background-color:  #3b4cc0;\n",
       "            color:  #f1f1f1;\n",
       "        }    #T_51811e10_cfec_11e9_a6b3_605718ad0862row4_col4 {\n",
       "            background-color:  #b40426;\n",
       "            color:  #f1f1f1;\n",
       "        }</style><table id=\"T_51811e10_cfec_11e9_a6b3_605718ad0862\" ><thead>    <tr>        <th class=\"blank level0\" ></th>        <th class=\"col_heading level0 col0\" >Volume</th>        <th class=\"col_heading level0 col1\" >Orders</th>        <th class=\"col_heading level0 col2\" >Avg_Daily_Ordered_Units</th>        <th class=\"col_heading level0 col3\" >Days_Ordered</th>        <th class=\"col_heading level0 col4\" >Avg_Daily_Volume</th>    </tr></thead><tbody>\n",
       "                <tr>\n",
       "                        <th id=\"T_51811e10_cfec_11e9_a6b3_605718ad0862level0_row0\" class=\"row_heading level0 row0\" >Volume</th>\n",
       "                        <td id=\"T_51811e10_cfec_11e9_a6b3_605718ad0862row0_col0\" class=\"data row0 col0\" >1</td>\n",
       "                        <td id=\"T_51811e10_cfec_11e9_a6b3_605718ad0862row0_col1\" class=\"data row0 col1\" >-0.052581</td>\n",
       "                        <td id=\"T_51811e10_cfec_11e9_a6b3_605718ad0862row0_col2\" class=\"data row0 col2\" >-0.0693867</td>\n",
       "                        <td id=\"T_51811e10_cfec_11e9_a6b3_605718ad0862row0_col3\" class=\"data row0 col3\" >-0.258583</td>\n",
       "                        <td id=\"T_51811e10_cfec_11e9_a6b3_605718ad0862row0_col4\" class=\"data row0 col4\" >0.410069</td>\n",
       "            </tr>\n",
       "            <tr>\n",
       "                        <th id=\"T_51811e10_cfec_11e9_a6b3_605718ad0862level0_row1\" class=\"row_heading level0 row1\" >Orders</th>\n",
       "                        <td id=\"T_51811e10_cfec_11e9_a6b3_605718ad0862row1_col0\" class=\"data row1 col0\" >-0.052581</td>\n",
       "                        <td id=\"T_51811e10_cfec_11e9_a6b3_605718ad0862row1_col1\" class=\"data row1 col1\" >1</td>\n",
       "                        <td id=\"T_51811e10_cfec_11e9_a6b3_605718ad0862row1_col2\" class=\"data row1 col2\" >0.627742</td>\n",
       "                        <td id=\"T_51811e10_cfec_11e9_a6b3_605718ad0862row1_col3\" class=\"data row1 col3\" >0.210558</td>\n",
       "                        <td id=\"T_51811e10_cfec_11e9_a6b3_605718ad0862row1_col4\" class=\"data row1 col4\" >0.137326</td>\n",
       "            </tr>\n",
       "            <tr>\n",
       "                        <th id=\"T_51811e10_cfec_11e9_a6b3_605718ad0862level0_row2\" class=\"row_heading level0 row2\" >Avg_Daily_Ordered_Units</th>\n",
       "                        <td id=\"T_51811e10_cfec_11e9_a6b3_605718ad0862row2_col0\" class=\"data row2 col0\" >-0.0693867</td>\n",
       "                        <td id=\"T_51811e10_cfec_11e9_a6b3_605718ad0862row2_col1\" class=\"data row2 col1\" >0.627742</td>\n",
       "                        <td id=\"T_51811e10_cfec_11e9_a6b3_605718ad0862row2_col2\" class=\"data row2 col2\" >1</td>\n",
       "                        <td id=\"T_51811e10_cfec_11e9_a6b3_605718ad0862row2_col3\" class=\"data row2 col3\" >-0.070216</td>\n",
       "                        <td id=\"T_51811e10_cfec_11e9_a6b3_605718ad0862row2_col4\" class=\"data row2 col4\" >0.267411</td>\n",
       "            </tr>\n",
       "            <tr>\n",
       "                        <th id=\"T_51811e10_cfec_11e9_a6b3_605718ad0862level0_row3\" class=\"row_heading level0 row3\" >Days_Ordered</th>\n",
       "                        <td id=\"T_51811e10_cfec_11e9_a6b3_605718ad0862row3_col0\" class=\"data row3 col0\" >-0.258583</td>\n",
       "                        <td id=\"T_51811e10_cfec_11e9_a6b3_605718ad0862row3_col1\" class=\"data row3 col1\" >0.210558</td>\n",
       "                        <td id=\"T_51811e10_cfec_11e9_a6b3_605718ad0862row3_col2\" class=\"data row3 col2\" >-0.070216</td>\n",
       "                        <td id=\"T_51811e10_cfec_11e9_a6b3_605718ad0862row3_col3\" class=\"data row3 col3\" >1</td>\n",
       "                        <td id=\"T_51811e10_cfec_11e9_a6b3_605718ad0862row3_col4\" class=\"data row3 col4\" >-0.445695</td>\n",
       "            </tr>\n",
       "            <tr>\n",
       "                        <th id=\"T_51811e10_cfec_11e9_a6b3_605718ad0862level0_row4\" class=\"row_heading level0 row4\" >Avg_Daily_Volume</th>\n",
       "                        <td id=\"T_51811e10_cfec_11e9_a6b3_605718ad0862row4_col0\" class=\"data row4 col0\" >0.410069</td>\n",
       "                        <td id=\"T_51811e10_cfec_11e9_a6b3_605718ad0862row4_col1\" class=\"data row4 col1\" >0.137326</td>\n",
       "                        <td id=\"T_51811e10_cfec_11e9_a6b3_605718ad0862row4_col2\" class=\"data row4 col2\" >0.267411</td>\n",
       "                        <td id=\"T_51811e10_cfec_11e9_a6b3_605718ad0862row4_col3\" class=\"data row4 col3\" >-0.445695</td>\n",
       "                        <td id=\"T_51811e10_cfec_11e9_a6b3_605718ad0862row4_col4\" class=\"data row4 col4\" >1</td>\n",
       "            </tr>\n",
       "    </tbody></table>"
      ],
      "text/plain": [
       "<pandas.io.formats.style.Styler at 0x22db9f9eb70>"
      ]
     },
     "execution_count": 79,
     "metadata": {},
     "output_type": "execute_result"
    }
   ],
   "source": [
    "corr_Fall = dfFall2019_Top80_kmeans.corr()\n",
    "corr_Fall.style.background_gradient(cmap='coolwarm', axis=None)"
   ]
  },
  {
   "cell_type": "markdown",
   "metadata": {},
   "source": [
    "### Calculate 'p-value' of Corelation matrix"
   ]
  },
  {
   "cell_type": "code",
   "execution_count": 80,
   "metadata": {},
   "outputs": [
    {
     "data": {
      "text/html": [
       "<style  type=\"text/css\" >\n",
       "    #T_52126dec_cfec_11e9_9745_605718ad0862row0_col0 {\n",
       "            background-color:  #b40426;\n",
       "            color:  #f1f1f1;\n",
       "        }    #T_52126dec_cfec_11e9_9745_605718ad0862row0_col1 {\n",
       "            background-color:  #4961d2;\n",
       "            color:  #f1f1f1;\n",
       "        }    #T_52126dec_cfec_11e9_9745_605718ad0862row0_col2 {\n",
       "            background-color:  #6e90f2;\n",
       "            color:  #000000;\n",
       "        }    #T_52126dec_cfec_11e9_9745_605718ad0862row0_col3 {\n",
       "            background-color:  #afcafc;\n",
       "            color:  #000000;\n",
       "        }    #T_52126dec_cfec_11e9_9745_605718ad0862row0_col4 {\n",
       "            background-color:  #d1493f;\n",
       "            color:  #f1f1f1;\n",
       "        }    #T_52126dec_cfec_11e9_9745_605718ad0862row1_col0 {\n",
       "            background-color:  #4961d2;\n",
       "            color:  #f1f1f1;\n",
       "        }    #T_52126dec_cfec_11e9_9745_605718ad0862row1_col1 {\n",
       "            background-color:  #b40426;\n",
       "            color:  #f1f1f1;\n",
       "        }    #T_52126dec_cfec_11e9_9745_605718ad0862row1_col2 {\n",
       "            background-color:  #3b4cc0;\n",
       "            color:  #f1f1f1;\n",
       "        }    #T_52126dec_cfec_11e9_9745_605718ad0862row1_col3 {\n",
       "            background-color:  #f6a385;\n",
       "            color:  #000000;\n",
       "        }    #T_52126dec_cfec_11e9_9745_605718ad0862row1_col4 {\n",
       "            background-color:  #e7745b;\n",
       "            color:  #000000;\n",
       "        }    #T_52126dec_cfec_11e9_9745_605718ad0862row2_col0 {\n",
       "            background-color:  #6e90f2;\n",
       "            color:  #000000;\n",
       "        }    #T_52126dec_cfec_11e9_9745_605718ad0862row2_col1 {\n",
       "            background-color:  #3b4cc0;\n",
       "            color:  #f1f1f1;\n",
       "        }    #T_52126dec_cfec_11e9_9745_605718ad0862row2_col2 {\n",
       "            background-color:  #b40426;\n",
       "            color:  #f1f1f1;\n",
       "        }    #T_52126dec_cfec_11e9_9745_605718ad0862row2_col3 {\n",
       "            background-color:  #f7ba9f;\n",
       "            color:  #000000;\n",
       "        }    #T_52126dec_cfec_11e9_9745_605718ad0862row2_col4 {\n",
       "            background-color:  #dcdddd;\n",
       "            color:  #000000;\n",
       "        }    #T_52126dec_cfec_11e9_9745_605718ad0862row3_col0 {\n",
       "            background-color:  #afcafc;\n",
       "            color:  #000000;\n",
       "        }    #T_52126dec_cfec_11e9_9745_605718ad0862row3_col1 {\n",
       "            background-color:  #f6a385;\n",
       "            color:  #000000;\n",
       "        }    #T_52126dec_cfec_11e9_9745_605718ad0862row3_col2 {\n",
       "            background-color:  #f7ba9f;\n",
       "            color:  #000000;\n",
       "        }    #T_52126dec_cfec_11e9_9745_605718ad0862row3_col3 {\n",
       "            background-color:  #b40426;\n",
       "            color:  #f1f1f1;\n",
       "        }    #T_52126dec_cfec_11e9_9745_605718ad0862row3_col4 {\n",
       "            background-color:  #4358cb;\n",
       "            color:  #f1f1f1;\n",
       "        }    #T_52126dec_cfec_11e9_9745_605718ad0862row4_col0 {\n",
       "            background-color:  #d1493f;\n",
       "            color:  #f1f1f1;\n",
       "        }    #T_52126dec_cfec_11e9_9745_605718ad0862row4_col1 {\n",
       "            background-color:  #e7745b;\n",
       "            color:  #000000;\n",
       "        }    #T_52126dec_cfec_11e9_9745_605718ad0862row4_col2 {\n",
       "            background-color:  #dcdddd;\n",
       "            color:  #000000;\n",
       "        }    #T_52126dec_cfec_11e9_9745_605718ad0862row4_col3 {\n",
       "            background-color:  #4358cb;\n",
       "            color:  #f1f1f1;\n",
       "        }    #T_52126dec_cfec_11e9_9745_605718ad0862row4_col4 {\n",
       "            background-color:  #b40426;\n",
       "            color:  #f1f1f1;\n",
       "        }</style><table id=\"T_52126dec_cfec_11e9_9745_605718ad0862\" ><thead>    <tr>        <th class=\"blank level0\" ></th>        <th class=\"col_heading level0 col0\" >Volume</th>        <th class=\"col_heading level0 col1\" >Orders</th>        <th class=\"col_heading level0 col2\" >Avg_Daily_Ordered_Units</th>        <th class=\"col_heading level0 col3\" >Days_Ordered</th>        <th class=\"col_heading level0 col4\" >Avg_Daily_Volume</th>    </tr></thead><tbody>\n",
       "                <tr>\n",
       "                        <th id=\"T_52126dec_cfec_11e9_9745_605718ad0862level0_row0\" class=\"row_heading level0 row0\" >Volume</th>\n",
       "                        <td id=\"T_52126dec_cfec_11e9_9745_605718ad0862row0_col0\" class=\"data row0 col0\" >1</td>\n",
       "                        <td id=\"T_52126dec_cfec_11e9_9745_605718ad0862row0_col1\" class=\"data row0 col1\" >0.121236</td>\n",
       "                        <td id=\"T_52126dec_cfec_11e9_9745_605718ad0862row0_col2\" class=\"data row0 col2\" >0.228979</td>\n",
       "                        <td id=\"T_52126dec_cfec_11e9_9745_605718ad0862row0_col3\" class=\"data row0 col3\" >0.400857</td>\n",
       "                        <td id=\"T_52126dec_cfec_11e9_9745_605718ad0862row0_col4\" class=\"data row0 col4\" >0.92289</td>\n",
       "            </tr>\n",
       "            <tr>\n",
       "                        <th id=\"T_52126dec_cfec_11e9_9745_605718ad0862level0_row1\" class=\"row_heading level0 row1\" >Orders</th>\n",
       "                        <td id=\"T_52126dec_cfec_11e9_9745_605718ad0862row1_col0\" class=\"data row1 col0\" >0.121236</td>\n",
       "                        <td id=\"T_52126dec_cfec_11e9_9745_605718ad0862row1_col1\" class=\"data row1 col1\" >1</td>\n",
       "                        <td id=\"T_52126dec_cfec_11e9_9745_605718ad0862row1_col2\" class=\"data row1 col2\" >0.0776738</td>\n",
       "                        <td id=\"T_52126dec_cfec_11e9_9745_605718ad0862row1_col3\" class=\"data row1 col3\" >0.747247</td>\n",
       "                        <td id=\"T_52126dec_cfec_11e9_9745_605718ad0862row1_col4\" class=\"data row1 col4\" >0.846451</td>\n",
       "            </tr>\n",
       "            <tr>\n",
       "                        <th id=\"T_52126dec_cfec_11e9_9745_605718ad0862level0_row2\" class=\"row_heading level0 row2\" >Avg_Daily_Ordered_Units</th>\n",
       "                        <td id=\"T_52126dec_cfec_11e9_9745_605718ad0862row2_col0\" class=\"data row2 col0\" >0.228979</td>\n",
       "                        <td id=\"T_52126dec_cfec_11e9_9745_605718ad0862row2_col1\" class=\"data row2 col1\" >0.0776738</td>\n",
       "                        <td id=\"T_52126dec_cfec_11e9_9745_605718ad0862row2_col2\" class=\"data row2 col2\" >1</td>\n",
       "                        <td id=\"T_52126dec_cfec_11e9_9745_605718ad0862row2_col3\" class=\"data row2 col3\" >0.68439</td>\n",
       "                        <td id=\"T_52126dec_cfec_11e9_9745_605718ad0862row2_col4\" class=\"data row2 col4\" >0.535632</td>\n",
       "            </tr>\n",
       "            <tr>\n",
       "                        <th id=\"T_52126dec_cfec_11e9_9745_605718ad0862level0_row3\" class=\"row_heading level0 row3\" >Days_Ordered</th>\n",
       "                        <td id=\"T_52126dec_cfec_11e9_9745_605718ad0862row3_col0\" class=\"data row3 col0\" >0.400857</td>\n",
       "                        <td id=\"T_52126dec_cfec_11e9_9745_605718ad0862row3_col1\" class=\"data row3 col1\" >0.747247</td>\n",
       "                        <td id=\"T_52126dec_cfec_11e9_9745_605718ad0862row3_col2\" class=\"data row3 col2\" >0.68439</td>\n",
       "                        <td id=\"T_52126dec_cfec_11e9_9745_605718ad0862row3_col3\" class=\"data row3 col3\" >1</td>\n",
       "                        <td id=\"T_52126dec_cfec_11e9_9745_605718ad0862row3_col4\" class=\"data row3 col4\" >0.10418</td>\n",
       "            </tr>\n",
       "            <tr>\n",
       "                        <th id=\"T_52126dec_cfec_11e9_9745_605718ad0862level0_row4\" class=\"row_heading level0 row4\" >Avg_Daily_Volume</th>\n",
       "                        <td id=\"T_52126dec_cfec_11e9_9745_605718ad0862row4_col0\" class=\"data row4 col0\" >0.92289</td>\n",
       "                        <td id=\"T_52126dec_cfec_11e9_9745_605718ad0862row4_col1\" class=\"data row4 col1\" >0.846451</td>\n",
       "                        <td id=\"T_52126dec_cfec_11e9_9745_605718ad0862row4_col2\" class=\"data row4 col2\" >0.535632</td>\n",
       "                        <td id=\"T_52126dec_cfec_11e9_9745_605718ad0862row4_col3\" class=\"data row4 col3\" >0.10418</td>\n",
       "                        <td id=\"T_52126dec_cfec_11e9_9745_605718ad0862row4_col4\" class=\"data row4 col4\" >1</td>\n",
       "            </tr>\n",
       "    </tbody></table>"
      ],
      "text/plain": [
       "<pandas.io.formats.style.Styler at 0x22db9f61908>"
      ]
     },
     "execution_count": 80,
     "metadata": {},
     "output_type": "execute_result"
    }
   ],
   "source": [
    "# Find p-values (p) of Spring Corelation Matrix\n",
    "r, p = corrcoef_loop(corr_Spring.values)\n",
    "\n",
    "# Convert the p-value matrix into a dataframe for plotting\n",
    "p_df = pd.DataFrame(p)\n",
    "p_df.columns = CLUSTERING_FEATURE_SET\n",
    "p_df.index = CLUSTERING_FEATURE_SET\n",
    "\n",
    "p_df.style.background_gradient(cmap='coolwarm', axis=None)"
   ]
  },
  {
   "cell_type": "code",
   "execution_count": 81,
   "metadata": {},
   "outputs": [
    {
     "data": {
      "text/html": [
       "<style  type=\"text/css\" >\n",
       "    #T_525f311c_cfec_11e9_8339_605718ad0862row0_col0 {\n",
       "            background-color:  #b40426;\n",
       "            color:  #f1f1f1;\n",
       "        }    #T_525f311c_cfec_11e9_8339_605718ad0862row0_col1 {\n",
       "            background-color:  #89acfd;\n",
       "            color:  #000000;\n",
       "        }    #T_525f311c_cfec_11e9_8339_605718ad0862row0_col2 {\n",
       "            background-color:  #d2dbe8;\n",
       "            color:  #000000;\n",
       "        }    #T_525f311c_cfec_11e9_8339_605718ad0862row0_col3 {\n",
       "            background-color:  #7597f6;\n",
       "            color:  #000000;\n",
       "        }    #T_525f311c_cfec_11e9_8339_605718ad0862row0_col4 {\n",
       "            background-color:  #97b8ff;\n",
       "            color:  #000000;\n",
       "        }    #T_525f311c_cfec_11e9_8339_605718ad0862row1_col0 {\n",
       "            background-color:  #89acfd;\n",
       "            color:  #000000;\n",
       "        }    #T_525f311c_cfec_11e9_8339_605718ad0862row1_col1 {\n",
       "            background-color:  #b40426;\n",
       "            color:  #f1f1f1;\n",
       "        }    #T_525f311c_cfec_11e9_8339_605718ad0862row1_col2 {\n",
       "            background-color:  #5d7ce6;\n",
       "            color:  #000000;\n",
       "        }    #T_525f311c_cfec_11e9_8339_605718ad0862row1_col3 {\n",
       "            background-color:  #f08b6e;\n",
       "            color:  #000000;\n",
       "        }    #T_525f311c_cfec_11e9_8339_605718ad0862row1_col4 {\n",
       "            background-color:  #f7a98b;\n",
       "            color:  #000000;\n",
       "        }    #T_525f311c_cfec_11e9_8339_605718ad0862row2_col0 {\n",
       "            background-color:  #d2dbe8;\n",
       "            color:  #000000;\n",
       "        }    #T_525f311c_cfec_11e9_8339_605718ad0862row2_col1 {\n",
       "            background-color:  #5d7ce6;\n",
       "            color:  #000000;\n",
       "        }    #T_525f311c_cfec_11e9_8339_605718ad0862row2_col2 {\n",
       "            background-color:  #b40426;\n",
       "            color:  #f1f1f1;\n",
       "        }    #T_525f311c_cfec_11e9_8339_605718ad0862row2_col3 {\n",
       "            background-color:  #f7b497;\n",
       "            color:  #000000;\n",
       "        }    #T_525f311c_cfec_11e9_8339_605718ad0862row2_col4 {\n",
       "            background-color:  #ec8165;\n",
       "            color:  #000000;\n",
       "        }    #T_525f311c_cfec_11e9_8339_605718ad0862row3_col0 {\n",
       "            background-color:  #7597f6;\n",
       "            color:  #000000;\n",
       "        }    #T_525f311c_cfec_11e9_8339_605718ad0862row3_col1 {\n",
       "            background-color:  #f08b6e;\n",
       "            color:  #000000;\n",
       "        }    #T_525f311c_cfec_11e9_8339_605718ad0862row3_col2 {\n",
       "            background-color:  #f7b497;\n",
       "            color:  #000000;\n",
       "        }    #T_525f311c_cfec_11e9_8339_605718ad0862row3_col3 {\n",
       "            background-color:  #b40426;\n",
       "            color:  #f1f1f1;\n",
       "        }    #T_525f311c_cfec_11e9_8339_605718ad0862row3_col4 {\n",
       "            background-color:  #3b4cc0;\n",
       "            color:  #f1f1f1;\n",
       "        }    #T_525f311c_cfec_11e9_8339_605718ad0862row4_col0 {\n",
       "            background-color:  #97b8ff;\n",
       "            color:  #000000;\n",
       "        }    #T_525f311c_cfec_11e9_8339_605718ad0862row4_col1 {\n",
       "            background-color:  #f7a98b;\n",
       "            color:  #000000;\n",
       "        }    #T_525f311c_cfec_11e9_8339_605718ad0862row4_col2 {\n",
       "            background-color:  #ec8165;\n",
       "            color:  #000000;\n",
       "        }    #T_525f311c_cfec_11e9_8339_605718ad0862row4_col3 {\n",
       "            background-color:  #3b4cc0;\n",
       "            color:  #f1f1f1;\n",
       "        }    #T_525f311c_cfec_11e9_8339_605718ad0862row4_col4 {\n",
       "            background-color:  #b40426;\n",
       "            color:  #f1f1f1;\n",
       "        }</style><table id=\"T_525f311c_cfec_11e9_8339_605718ad0862\" ><thead>    <tr>        <th class=\"blank level0\" ></th>        <th class=\"col_heading level0 col0\" >Volume</th>        <th class=\"col_heading level0 col1\" >Orders</th>        <th class=\"col_heading level0 col2\" >Avg_Daily_Ordered_Units</th>        <th class=\"col_heading level0 col3\" >Days_Ordered</th>        <th class=\"col_heading level0 col4\" >Avg_Daily_Volume</th>    </tr></thead><tbody>\n",
       "                <tr>\n",
       "                        <th id=\"T_525f311c_cfec_11e9_8339_605718ad0862level0_row0\" class=\"row_heading level0 row0\" >Volume</th>\n",
       "                        <td id=\"T_525f311c_cfec_11e9_8339_605718ad0862row0_col0\" class=\"data row0 col0\" >1</td>\n",
       "                        <td id=\"T_525f311c_cfec_11e9_8339_605718ad0862row0_col1\" class=\"data row0 col1\" >0.254676</td>\n",
       "                        <td id=\"T_525f311c_cfec_11e9_8339_605718ad0862row0_col2\" class=\"data row0 col2\" >0.468817</td>\n",
       "                        <td id=\"T_525f311c_cfec_11e9_8339_605718ad0862row0_col3\" class=\"data row0 col3\" >0.193734</td>\n",
       "                        <td id=\"T_525f311c_cfec_11e9_8339_605718ad0862row0_col4\" class=\"data row0 col4\" >0.290533</td>\n",
       "            </tr>\n",
       "            <tr>\n",
       "                        <th id=\"T_525f311c_cfec_11e9_8339_605718ad0862level0_row1\" class=\"row_heading level0 row1\" >Orders</th>\n",
       "                        <td id=\"T_525f311c_cfec_11e9_8339_605718ad0862row1_col0\" class=\"data row1 col0\" >0.254676</td>\n",
       "                        <td id=\"T_525f311c_cfec_11e9_8339_605718ad0862row1_col1\" class=\"data row1 col1\" >1</td>\n",
       "                        <td id=\"T_525f311c_cfec_11e9_8339_605718ad0862row1_col2\" class=\"data row1 col2\" >0.127564</td>\n",
       "                        <td id=\"T_525f311c_cfec_11e9_8339_605718ad0862row1_col3\" class=\"data row1 col3\" >0.786327</td>\n",
       "                        <td id=\"T_525f311c_cfec_11e9_8339_605718ad0862row1_col4\" class=\"data row1 col4\" >0.714848</td>\n",
       "            </tr>\n",
       "            <tr>\n",
       "                        <th id=\"T_525f311c_cfec_11e9_8339_605718ad0862level0_row2\" class=\"row_heading level0 row2\" >Avg_Daily_Ordered_Units</th>\n",
       "                        <td id=\"T_525f311c_cfec_11e9_8339_605718ad0862row2_col0\" class=\"data row2 col0\" >0.468817</td>\n",
       "                        <td id=\"T_525f311c_cfec_11e9_8339_605718ad0862row2_col1\" class=\"data row2 col1\" >0.127564</td>\n",
       "                        <td id=\"T_525f311c_cfec_11e9_8339_605718ad0862row2_col2\" class=\"data row2 col2\" >1</td>\n",
       "                        <td id=\"T_525f311c_cfec_11e9_8339_605718ad0862row2_col3\" class=\"data row2 col3\" >0.684091</td>\n",
       "                        <td id=\"T_525f311c_cfec_11e9_8339_605718ad0862row2_col4\" class=\"data row2 col4\" >0.811642</td>\n",
       "            </tr>\n",
       "            <tr>\n",
       "                        <th id=\"T_525f311c_cfec_11e9_8339_605718ad0862level0_row3\" class=\"row_heading level0 row3\" >Days_Ordered</th>\n",
       "                        <td id=\"T_525f311c_cfec_11e9_8339_605718ad0862row3_col0\" class=\"data row3 col0\" >0.193734</td>\n",
       "                        <td id=\"T_525f311c_cfec_11e9_8339_605718ad0862row3_col1\" class=\"data row3 col1\" >0.786327</td>\n",
       "                        <td id=\"T_525f311c_cfec_11e9_8339_605718ad0862row3_col2\" class=\"data row3 col2\" >0.684091</td>\n",
       "                        <td id=\"T_525f311c_cfec_11e9_8339_605718ad0862row3_col3\" class=\"data row3 col3\" >1</td>\n",
       "                        <td id=\"T_525f311c_cfec_11e9_8339_605718ad0862row3_col4\" class=\"data row3 col4\" >0.0168484</td>\n",
       "            </tr>\n",
       "            <tr>\n",
       "                        <th id=\"T_525f311c_cfec_11e9_8339_605718ad0862level0_row4\" class=\"row_heading level0 row4\" >Avg_Daily_Volume</th>\n",
       "                        <td id=\"T_525f311c_cfec_11e9_8339_605718ad0862row4_col0\" class=\"data row4 col0\" >0.290533</td>\n",
       "                        <td id=\"T_525f311c_cfec_11e9_8339_605718ad0862row4_col1\" class=\"data row4 col1\" >0.714848</td>\n",
       "                        <td id=\"T_525f311c_cfec_11e9_8339_605718ad0862row4_col2\" class=\"data row4 col2\" >0.811642</td>\n",
       "                        <td id=\"T_525f311c_cfec_11e9_8339_605718ad0862row4_col3\" class=\"data row4 col3\" >0.0168484</td>\n",
       "                        <td id=\"T_525f311c_cfec_11e9_8339_605718ad0862row4_col4\" class=\"data row4 col4\" >1</td>\n",
       "            </tr>\n",
       "    </tbody></table>"
      ],
      "text/plain": [
       "<pandas.io.formats.style.Styler at 0x22db9fe8860>"
      ]
     },
     "execution_count": 81,
     "metadata": {},
     "output_type": "execute_result"
    }
   ],
   "source": [
    "# Find p-values (p) of Fall Corelation Matrix\n",
    "r, p = corrcoef_loop(corr_Fall.values)\n",
    "\n",
    "# Convert the p-value matrix into a dataframe for plotting\n",
    "p_df = pd.DataFrame(p)\n",
    "p_df.columns = CLUSTERING_FEATURE_SET\n",
    "p_df.index = CLUSTERING_FEATURE_SET\n",
    "\n",
    "p_df.style.background_gradient(cmap='coolwarm', axis=None)"
   ]
  },
  {
   "cell_type": "markdown",
   "metadata": {},
   "source": [
    "### Calculate 'Confidence Interval' of clustering dataset"
   ]
  },
  {
   "cell_type": "code",
   "execution_count": 82,
   "metadata": {},
   "outputs": [
    {
     "name": "stdout",
     "output_type": "stream",
     "text": [
      "\n",
      "----- Confidence interval of Spring2019 dataset -----\n",
      "\n",
      "      Volume     Orders  Avg_Daily_Ordered_Units  Days_Ordered  \\\n",
      "0 223.86573 1622.20359                149.45029     143.12856   \n",
      "1 241.75430 1809.80606                169.12603     145.95916   \n",
      "\n",
      "   Avg_Daily_Volume  \n",
      "0        4939.92146  \n",
      "1        6389.96251  \n",
      "\n",
      "----- Confidence interval of Fall2019 dataset -----\n",
      "\n",
      "      Volume     Orders  Avg_Daily_Ordered_Units  Days_Ordered  \\\n",
      "0 380.62211 1994.16167                207.58686     159.07058   \n",
      "1 411.25511 2180.49767                263.45867     161.96003   \n",
      "\n",
      "   Avg_Daily_Volume  \n",
      "0       13717.61586  \n",
      "1       17234.94586  \n"
     ]
    }
   ],
   "source": [
    "# Calculate confidence interval of Spring2019 dataset\n",
    "confInt_Spring =  pd.DataFrame(sms.DescrStatsW(dfSpring2019_Top80_kmeans).tconfint_mean(),\n",
    "                               columns=CLUSTERING_FEATURE_SET)\n",
    "print('\\n----- Confidence interval of Spring2019 dataset -----\\n\\n', confInt_Spring)\n",
    "\n",
    "# Calculate confidence interval of Fall2019 dataset\n",
    "confInt_Fall = pd.DataFrame(sms.DescrStatsW(dfFall2019_Top80_kmeans).tconfint_mean(),\n",
    "                            columns=CLUSTERING_FEATURE_SET)\n",
    "print('\\n----- Confidence interval of Fall2019 dataset -----\\n\\n', confInt_Fall)"
   ]
  },
  {
   "cell_type": "markdown",
   "metadata": {},
   "source": [
    "### K-Means Clustering"
   ]
  },
  {
   "cell_type": "code",
   "execution_count": 83,
   "metadata": {},
   "outputs": [
    {
     "name": "stdout",
     "output_type": "stream",
     "text": [
      "\n",
      "----- Spring 2019 Cluster_Label counts with n=3 -----\n",
      "3    2193\n",
      "2      80\n",
      "1       7\n",
      "Name: Cluster3_Label, dtype: int64\n",
      "Accuracy of kmeans with n=3 on Spring2019:  0.83418725863884\n"
     ]
    },
    {
     "data": {
      "image/png": "[encoded data removed]",
      "text/plain": [
       "<Figure size 432x288 with 1 Axes>"
      ]
     },
     "metadata": {
      "needs_background": "light"
     },
     "output_type": "display_data"
    }
   ],
   "source": [
    "# Cluster Spring 2019 by K-Means Clustering\n",
    "# Kmeans with n=3 on Spring2019 Data\n",
    "spring_cluster3_label = KMeans_clusterLabels(dfSpring2019_Top80_kmeans, 3)\n",
    "dfCatSpring2019_Top80['Cluster3_Label'] = spring_cluster3_label\n",
    "\n",
    "print(\"\\n----- Spring 2019 Cluster_Label counts with n=3 -----\")\n",
    "print(dfCatSpring2019_Top80['Cluster3_Label'].value_counts())\n",
    "\n",
    "# Clustering Accuracy : Calculate Silhouette Coefficient\n",
    "# Evaluate the 3-cluster model for Spring2019\n",
    "accuracySpring = silhouette_score(dfSpring2019_Top80_kmeans, spring_cluster3_label)\n",
    "print(\"Accuracy of kmeans with n=3 on Spring2019: \", accuracySpring)\n",
    "\n",
    "# Add binary response values for each Cluster Labels\n",
    "dfCatSpring2019_Top80 = add_binary_response_clusterLabels(dfCatSpring2019_Top80)"
   ]
  },
  {
   "cell_type": "code",
   "execution_count": 84,
   "metadata": {},
   "outputs": [
    {
     "name": "stdout",
     "output_type": "stream",
     "text": [
      "\n",
      "----- Spring 2019 Cluster_Label counts with n=4 -----\n",
      "4    1978\n",
      "2     275\n",
      "3      20\n",
      "1       7\n",
      "Name: Cluster4_Label, dtype: int64\n",
      "Accuracy of kmeans with n=4 on Spring2019:  0.7058245181905407\n"
     ]
    },
    {
     "data": {
      "image/png": "[encoded data removed]",
      "text/plain": [
       "<Figure size 432x288 with 1 Axes>"
      ]
     },
     "metadata": {
      "needs_background": "light"
     },
     "output_type": "display_data"
    }
   ],
   "source": [
    "# Cluster Spring 2019 by K-Means Clustering\n",
    "# Kmeans with n=4 on Spring2019 Data\n",
    "spring_cluster4_label = KMeans_clusterLabels(dfSpring2019_Top80_kmeans, 4)\n",
    "dfCatSpring2019_Top80['Cluster4_Label'] = spring_cluster4_label\n",
    "\n",
    "print(\"\\n----- Spring 2019 Cluster_Label counts with n=4 -----\")\n",
    "print(dfCatSpring2019_Top80['Cluster4_Label'].value_counts())\n",
    "\n",
    "# Clustering Accuracy : Calculate Silhouette Coefficient\n",
    "# Evaluate the 4-cluster model for Spring2019\n",
    "accuracySpring = silhouette_score(dfSpring2019_Top80_kmeans, spring_cluster4_label)\n",
    "print(\"Accuracy of kmeans with n=4 on Spring2019: \", accuracySpring)"
   ]
  },
  {
   "cell_type": "code",
   "execution_count": 85,
   "metadata": {},
   "outputs": [
    {
     "name": "stdout",
     "output_type": "stream",
     "text": [
      "\n",
      "----- Fall 2019 Cluster_Label counts with n=3 -----\n",
      "3    2483\n",
      "2      51\n",
      "1      14\n",
      "Name: Cluster3_Label, dtype: int64\n",
      "Accuracy of kmeans with n=3 on Fall2019:  0.9079624981982863\n"
     ]
    },
    {
     "data": {
      "image/png": "[encoded data removed]",
      "text/plain": [
       "<Figure size 432x288 with 1 Axes>"
      ]
     },
     "metadata": {
      "needs_background": "light"
     },
     "output_type": "display_data"
    }
   ],
   "source": [
    "# Cluster Fall 2019 by K-Means Clustering\n",
    "# Kmeans with n=3 on Fall2019 Data\n",
    "fall_cluster3_label = KMeans_clusterLabels(dfFall2019_Top80_kmeans, 3)\n",
    "dfCatFall2019_Top80['Cluster3_Label'] = fall_cluster3_label\n",
    "\n",
    "print(\"\\n----- Fall 2019 Cluster_Label counts with n=3 -----\")\n",
    "print(dfCatFall2019_Top80['Cluster3_Label'].value_counts())\n",
    "\n",
    "# Clustering Accuracy : Calculate Silhouette Coefficient\n",
    "# Evaluate the 3-cluster model for Fall2019\n",
    "accuracyFall = silhouette_score(dfFall2019_Top80_kmeans, fall_cluster3_label)\n",
    "print(\"Accuracy of kmeans with n=3 on Fall2019: \", accuracyFall)\n",
    "\n",
    "# Add binary response values for each Cluster Labels\n",
    "dfCatFall2019_Top80 = add_binary_response_clusterLabels(dfCatFall2019_Top80)"
   ]
  },
  {
   "cell_type": "code",
   "execution_count": 86,
   "metadata": {},
   "outputs": [
    {
     "name": "stdout",
     "output_type": "stream",
     "text": [
      "\n",
      "----- Fall 2019 Cluster_Label counts with n=4 -----\n",
      "4    2346\n",
      "3     170\n",
      "2      22\n",
      "1      10\n",
      "Name: Cluster4_Label, dtype: int64\n",
      "Accuracy of kmeans with n=4 on Fall2019:  0.8068154971965216\n"
     ]
    },
    {
     "data": {
      "image/png": "[encoded data removed]",
      "text/plain": [
       "<Figure size 432x288 with 1 Axes>"
      ]
     },
     "metadata": {
      "needs_background": "light"
     },
     "output_type": "display_data"
    }
   ],
   "source": [
    "# Cluster Fall 2019 by K-Means Clustering\n",
    "# Kmeans with n=4 on Fall2019 Data\n",
    "fall_cluster4_label = KMeans_clusterLabels(dfFall2019_Top80_kmeans, 4)\n",
    "dfCatFall2019_Top80['Cluster4_Label'] = fall_cluster4_label\n",
    "\n",
    "print(\"\\n----- Fall 2019 Cluster_Label counts with n=4 -----\")\n",
    "print(dfCatFall2019_Top80['Cluster4_Label'].value_counts())\n",
    "\n",
    "# Clustering Accuracy : Calculate Silhouette Coefficient\n",
    "# Evaluate the 4-cluster model for Fall2019\n",
    "accuracyFall = silhouette_score(dfFall2019_Top80_kmeans, fall_cluster4_label)\n",
    "print(\"Accuracy of kmeans with n=4 on Fall2019: \", accuracyFall)"
   ]
  },
  {
   "cell_type": "code",
   "execution_count": 28,
   "metadata": {},
   "outputs": [
    {
     "name": "stdout",
     "output_type": "stream",
     "text": [
      "Spring 2019 dataset shape:  (2280, 26)\n",
      "----- Feature Set ----- \n",
      " ['Experiment_Id', 'Department', 'Category', 'SubCategory', 'Material', 'Style', 'Dimension', 'ProductSize', 'Volume', 'InventorySegment', 'Color', 'UPC', 'NewProduct', 'Demand', 'Orders', 'Ordered_Units', 'Avg_Daily_Ordered_Units', 'Days_Ordered', 'Order_Volume', 'Avg_Daily_Volume', 'Cluster3_Label', 'Cluster_1', 'Cluster_2', 'Cluster_3', 'Suggested_Storage_Type', 'Class']\n",
      "\n",
      "\n",
      "Fall 2019 dataset shape:  (2548, 26)\n",
      "----- Feature Set ----- \n",
      " ['Experiment_Id', 'Department', 'Category', 'SubCategory', 'Material', 'Style', 'Dimension', 'ProductSize', 'Volume', 'InventorySegment', 'Color', 'UPC', 'NewProduct', 'Demand', 'Orders', 'Ordered_Units', 'Avg_Daily_Ordered_Units', 'Days_Ordered', 'Order_Volume', 'Avg_Daily_Volume', 'Cluster3_Label', 'Cluster_1', 'Cluster_2', 'Cluster_3', 'Suggested_Storage_Type', 'Class']\n"
     ]
    }
   ],
   "source": [
    "# Create datasets for Classification (2019, Spring2019 and Fall2019)\n",
    "# df2019 = create_Classification_Dataset(dfCat2019_Top80, df2019_Top80_kmeans_labels)\n",
    "# print(\"2019 dataset shape: \", df2019.shape)\n",
    "# print(\"----- Feature Set ----- \\n\", list(df2019.columns))\n",
    "\n",
    "dfSpring2019 = create_Classification_Dataset(dfCatSpring2019_Top80)\n",
    "print(\"Spring 2019 dataset shape: \", dfSpring2019.shape)\n",
    "print(\"----- Feature Set ----- \\n\", list(dfSpring2019.columns))\n",
    "print(\"\\n\")\n",
    "dfFall2019 = create_Classification_Dataset(dfCatFall2019_Top80)\n",
    "print(\"Fall 2019 dataset shape: \", dfFall2019.shape)\n",
    "print(\"----- Feature Set ----- \\n\", list(dfFall2019.columns))"
   ]
  },
  {
   "cell_type": "code",
   "execution_count": 29,
   "metadata": {},
   "outputs": [
    {
     "data": {
      "text/plain": [
       "<matplotlib.axes._subplots.AxesSubplot at 0x22db6e060f0>"
      ]
     },
     "execution_count": 29,
     "metadata": {},
     "output_type": "execute_result"
    },
    {
     "data": {
      "image/png": "[encoded data removed]",
      "text/plain": [
       "<Figure size 432x288 with 1 Axes>"
      ]
     },
     "metadata": {
      "needs_background": "light"
     },
     "output_type": "display_data"
    }
   ],
   "source": [
    "sns.boxplot(x='Suggested_Storage_Type', y='Avg_Daily_Volume', data=dfSpring2019, showfliers=False)"
   ]
  },
  {
   "cell_type": "code",
   "execution_count": 30,
   "metadata": {},
   "outputs": [
    {
     "data": {
      "text/plain": [
       "<matplotlib.axes._subplots.AxesSubplot at 0x22db75ba4a8>"
      ]
     },
     "execution_count": 30,
     "metadata": {},
     "output_type": "execute_result"
    },
    {
     "data": {
      "image/png": "[encoded data removed]",
      "text/plain": [
       "<Figure size 432x288 with 1 Axes>"
      ]
     },
     "metadata": {
      "needs_background": "light"
     },
     "output_type": "display_data"
    }
   ],
   "source": [
    "sns.boxplot(x='Cluster3_Label', y='Avg_Daily_Volume', data=dfSpring2019, showfliers=False)"
   ]
  },
  {
   "cell_type": "code",
   "execution_count": 31,
   "metadata": {},
   "outputs": [],
   "source": [
    "# sns.boxplot(x='Cluster4_Label', y='Avg_Daily_Volume', data=dfSpring2019, showfliers=False)"
   ]
  },
  {
   "cell_type": "code",
   "execution_count": 32,
   "metadata": {},
   "outputs": [
    {
     "data": {
      "text/plain": [
       "<matplotlib.axes._subplots.AxesSubplot at 0x22db7617940>"
      ]
     },
     "execution_count": 32,
     "metadata": {},
     "output_type": "execute_result"
    },
    {
     "data": {
      "image/png": "[encoded data removed]",
      "text/plain": [
       "<Figure size 432x288 with 1 Axes>"
      ]
     },
     "metadata": {
      "needs_background": "light"
     },
     "output_type": "display_data"
    }
   ],
   "source": [
    "sns.boxplot(x='Suggested_Storage_Type', y='Avg_Daily_Volume', data=dfFall2019, showfliers=False)"
   ]
  },
  {
   "cell_type": "code",
   "execution_count": 33,
   "metadata": {},
   "outputs": [
    {
     "data": {
      "text/plain": [
       "<matplotlib.axes._subplots.AxesSubplot at 0x22db8865be0>"
      ]
     },
     "execution_count": 33,
     "metadata": {},
     "output_type": "execute_result"
    },
    {
     "data": {
      "image/png": "[encoded data removed]",
      "text/plain": [
       "<Figure size 432x288 with 1 Axes>"
      ]
     },
     "metadata": {
      "needs_background": "light"
     },
     "output_type": "display_data"
    }
   ],
   "source": [
    "sns.boxplot(x='Cluster3_Label', y='Avg_Daily_Volume', data=dfFall2019, showfliers=False)"
   ]
  },
  {
   "cell_type": "code",
   "execution_count": 34,
   "metadata": {},
   "outputs": [],
   "source": [
    "# sns.boxplot(x='Cluster4_Label', y='Avg_Daily_Volume', data=dfFall2019, showfliers=False)"
   ]
  },
  {
   "cell_type": "markdown",
   "metadata": {},
   "source": [
    "### Classification - Multinomial Logistic Regression"
   ]
  },
  {
   "cell_type": "code",
   "execution_count": 35,
   "metadata": {},
   "outputs": [],
   "source": [
    "# Create one-vs-rest multinomial logistic regression object\n",
    "clf = LogisticRegression(random_state=0, multi_class='ovr', solver='newton-cg')\n",
    "\n",
    "# FEATURE_SET = ['NewProduct', 'Demand', 'Orders', 'Ordered_Units', 'Avg_Daily_Ordered_Units', 'Days_Ordered', 'Order_Volume', 'Avg_Daily_Volume']\n",
    "FEATURE_SET = ['NewProduct', 'Demand', 'Ordered_Units','Order_Volume']\n",
    "\n",
    "TARGET_CLUSTER = ['Cluster3_Label']\n",
    "TARGET_CLASS = ['Class']\n",
    "\n",
    "# SPRING DATA\n",
    "spring_X = dfSpring2019[FEATURE_SET] # Spring Training Set\n",
    "# spring_y1 = dfSpring2019[TARGET_CLUSTER] # Target: 3-cluster labels\n",
    "spring_y2 = dfSpring2019[TARGET_CLASS]    # Target: Class (Dale's classification)\n",
    "spring_cluster_y1 = dfSpring2019['Cluster_1'] # Target: Spring Cluster_1 binary response\n",
    "spring_cluster_y2 = dfSpring2019['Cluster_2'] # Target: Spring Cluster_2 binary response\n",
    "spring_cluster_y3 = dfSpring2019['Cluster_3'] # Target: Spring Cluster_3 binary response\n",
    "\n",
    "# FALL DATA\n",
    "fall_X = dfFall2019[FEATURE_SET] # Fall Training Set\n",
    "# fall_y1 = dfFall2019[TARGET_CLUSTER] # Target: 3-cluster labels\n",
    "fall_y2 = dfFall2019[TARGET_CLASS]    # Target: Class (Dale's classification)\n",
    "fall_cluster_y1 = dfFall2019['Cluster_1'] # Target: Fall Cluster_1 binary response\n",
    "fall_cluster_y2 = dfFall2019['Cluster_2'] # Target: Fall Cluster_2 binary response\n",
    "fall_cluster_y3 = dfFall2019['Cluster_3'] # Target: Fall Cluster_3 binary response"
   ]
  },
  {
   "cell_type": "code",
   "execution_count": 36,
   "metadata": {},
   "outputs": [
    {
     "data": {
      "text/html": [
       "<style  type=\"text/css\" >\n",
       "    #T_fdb9a11a_cfe3_11e9_b6e4_605718ad0862row0_col0 {\n",
       "            background-color:  #b40426;\n",
       "            color:  #f1f1f1;\n",
       "        }    #T_fdb9a11a_cfe3_11e9_b6e4_605718ad0862row0_col1 {\n",
       "            background-color:  #c12b30;\n",
       "            color:  #f1f1f1;\n",
       "        }    #T_fdb9a11a_cfe3_11e9_b6e4_605718ad0862row0_col2 {\n",
       "            background-color:  #3b4cc0;\n",
       "            color:  #f1f1f1;\n",
       "        }    #T_fdb9a11a_cfe3_11e9_b6e4_605718ad0862row1_col0 {\n",
       "            background-color:  #c12b30;\n",
       "            color:  #f1f1f1;\n",
       "        }    #T_fdb9a11a_cfe3_11e9_b6e4_605718ad0862row1_col1 {\n",
       "            background-color:  #b40426;\n",
       "            color:  #f1f1f1;\n",
       "        }    #T_fdb9a11a_cfe3_11e9_b6e4_605718ad0862row1_col2 {\n",
       "            background-color:  #485fd1;\n",
       "            color:  #f1f1f1;\n",
       "        }    #T_fdb9a11a_cfe3_11e9_b6e4_605718ad0862row2_col0 {\n",
       "            background-color:  #3b4cc0;\n",
       "            color:  #f1f1f1;\n",
       "        }    #T_fdb9a11a_cfe3_11e9_b6e4_605718ad0862row2_col1 {\n",
       "            background-color:  #485fd1;\n",
       "            color:  #f1f1f1;\n",
       "        }    #T_fdb9a11a_cfe3_11e9_b6e4_605718ad0862row2_col2 {\n",
       "            background-color:  #b40426;\n",
       "            color:  #f1f1f1;\n",
       "        }</style><table id=\"T_fdb9a11a_cfe3_11e9_b6e4_605718ad0862\" ><thead>    <tr>        <th class=\"blank level0\" ></th>        <th class=\"col_heading level0 col0\" >Demand</th>        <th class=\"col_heading level0 col1\" >Ordered_Units</th>        <th class=\"col_heading level0 col2\" >Order_Volume</th>    </tr></thead><tbody>\n",
       "                <tr>\n",
       "                        <th id=\"T_fdb9a11a_cfe3_11e9_b6e4_605718ad0862level0_row0\" class=\"row_heading level0 row0\" >Demand</th>\n",
       "                        <td id=\"T_fdb9a11a_cfe3_11e9_b6e4_605718ad0862row0_col0\" class=\"data row0 col0\" >1</td>\n",
       "                        <td id=\"T_fdb9a11a_cfe3_11e9_b6e4_605718ad0862row0_col1\" class=\"data row0 col1\" >0.987248</td>\n",
       "                        <td id=\"T_fdb9a11a_cfe3_11e9_b6e4_605718ad0862row0_col2\" class=\"data row0 col2\" >0.650036</td>\n",
       "            </tr>\n",
       "            <tr>\n",
       "                        <th id=\"T_fdb9a11a_cfe3_11e9_b6e4_605718ad0862level0_row1\" class=\"row_heading level0 row1\" >Ordered_Units</th>\n",
       "                        <td id=\"T_fdb9a11a_cfe3_11e9_b6e4_605718ad0862row1_col0\" class=\"data row1 col0\" >0.987248</td>\n",
       "                        <td id=\"T_fdb9a11a_cfe3_11e9_b6e4_605718ad0862row1_col1\" class=\"data row1 col1\" >1</td>\n",
       "                        <td id=\"T_fdb9a11a_cfe3_11e9_b6e4_605718ad0862row1_col2\" class=\"data row1 col2\" >0.666191</td>\n",
       "            </tr>\n",
       "            <tr>\n",
       "                        <th id=\"T_fdb9a11a_cfe3_11e9_b6e4_605718ad0862level0_row2\" class=\"row_heading level0 row2\" >Order_Volume</th>\n",
       "                        <td id=\"T_fdb9a11a_cfe3_11e9_b6e4_605718ad0862row2_col0\" class=\"data row2 col0\" >0.650036</td>\n",
       "                        <td id=\"T_fdb9a11a_cfe3_11e9_b6e4_605718ad0862row2_col1\" class=\"data row2 col1\" >0.666191</td>\n",
       "                        <td id=\"T_fdb9a11a_cfe3_11e9_b6e4_605718ad0862row2_col2\" class=\"data row2 col2\" >1</td>\n",
       "            </tr>\n",
       "    </tbody></table>"
      ],
      "text/plain": [
       "<pandas.io.formats.style.Styler at 0x22db9e108d0>"
      ]
     },
     "execution_count": 36,
     "metadata": {},
     "output_type": "execute_result"
    }
   ],
   "source": [
    "#Corelation matrix of Features: Spring Data\n",
    "corr_Spring = spring_X.corr()\n",
    "corr_Spring.style.background_gradient(cmap='coolwarm', axis=None)"
   ]
  },
  {
   "cell_type": "code",
   "execution_count": 37,
   "metadata": {},
   "outputs": [
    {
     "data": {
      "text/html": [
       "<style  type=\"text/css\" >\n",
       "    #T_fdd014c6_cfe3_11e9_9a40_605718ad0862row0_col0 {\n",
       "            background-color:  #b40426;\n",
       "            color:  #f1f1f1;\n",
       "        }    #T_fdd014c6_cfe3_11e9_9a40_605718ad0862row0_col1 {\n",
       "            background-color:  #455cce;\n",
       "            color:  #f1f1f1;\n",
       "        }    #T_fdd014c6_cfe3_11e9_9a40_605718ad0862row0_col2 {\n",
       "            background-color:  #3b4cc0;\n",
       "            color:  #f1f1f1;\n",
       "        }    #T_fdd014c6_cfe3_11e9_9a40_605718ad0862row1_col0 {\n",
       "            background-color:  #455cce;\n",
       "            color:  #f1f1f1;\n",
       "        }    #T_fdd014c6_cfe3_11e9_9a40_605718ad0862row1_col1 {\n",
       "            background-color:  #b40426;\n",
       "            color:  #f1f1f1;\n",
       "        }    #T_fdd014c6_cfe3_11e9_9a40_605718ad0862row1_col2 {\n",
       "            background-color:  #465ecf;\n",
       "            color:  #f1f1f1;\n",
       "        }    #T_fdd014c6_cfe3_11e9_9a40_605718ad0862row2_col0 {\n",
       "            background-color:  #3b4cc0;\n",
       "            color:  #f1f1f1;\n",
       "        }    #T_fdd014c6_cfe3_11e9_9a40_605718ad0862row2_col1 {\n",
       "            background-color:  #465ecf;\n",
       "            color:  #f1f1f1;\n",
       "        }    #T_fdd014c6_cfe3_11e9_9a40_605718ad0862row2_col2 {\n",
       "            background-color:  #b40426;\n",
       "            color:  #f1f1f1;\n",
       "        }</style><table id=\"T_fdd014c6_cfe3_11e9_9a40_605718ad0862\" ><thead>    <tr>        <th class=\"blank level0\" ></th>        <th class=\"col_heading level0 col0\" >0</th>        <th class=\"col_heading level0 col1\" >1</th>        <th class=\"col_heading level0 col2\" >2</th>    </tr></thead><tbody>\n",
       "                <tr>\n",
       "                        <th id=\"T_fdd014c6_cfe3_11e9_9a40_605718ad0862level0_row0\" class=\"row_heading level0 row0\" >0</th>\n",
       "                        <td id=\"T_fdd014c6_cfe3_11e9_9a40_605718ad0862row0_col0\" class=\"data row0 col0\" >1</td>\n",
       "                        <td id=\"T_fdd014c6_cfe3_11e9_9a40_605718ad0862row0_col1\" class=\"data row0 col1\" >0.0419175</td>\n",
       "                        <td id=\"T_fdd014c6_cfe3_11e9_9a40_605718ad0862row0_col2\" class=\"data row0 col2\" >0.0055824</td>\n",
       "            </tr>\n",
       "            <tr>\n",
       "                        <th id=\"T_fdd014c6_cfe3_11e9_9a40_605718ad0862level0_row1\" class=\"row_heading level0 row1\" >1</th>\n",
       "                        <td id=\"T_fdd014c6_cfe3_11e9_9a40_605718ad0862row1_col0\" class=\"data row1 col0\" >0.0419175</td>\n",
       "                        <td id=\"T_fdd014c6_cfe3_11e9_9a40_605718ad0862row1_col1\" class=\"data row1 col1\" >1</td>\n",
       "                        <td id=\"T_fdd014c6_cfe3_11e9_9a40_605718ad0862row1_col2\" class=\"data row1 col2\" >0.0474999</td>\n",
       "            </tr>\n",
       "            <tr>\n",
       "                        <th id=\"T_fdd014c6_cfe3_11e9_9a40_605718ad0862level0_row2\" class=\"row_heading level0 row2\" >2</th>\n",
       "                        <td id=\"T_fdd014c6_cfe3_11e9_9a40_605718ad0862row2_col0\" class=\"data row2 col0\" >0.0055824</td>\n",
       "                        <td id=\"T_fdd014c6_cfe3_11e9_9a40_605718ad0862row2_col1\" class=\"data row2 col1\" >0.0474999</td>\n",
       "                        <td id=\"T_fdd014c6_cfe3_11e9_9a40_605718ad0862row2_col2\" class=\"data row2 col2\" >1</td>\n",
       "            </tr>\n",
       "    </tbody></table>"
      ],
      "text/plain": [
       "<pandas.io.formats.style.Styler at 0x22db7623a20>"
      ]
     },
     "execution_count": 37,
     "metadata": {},
     "output_type": "execute_result"
    }
   ],
   "source": [
    "# Find p-values (p) of Spring Corelation Matrix\n",
    "r, p = corrcoef_loop(corr_Spring.values)\n",
    "\n",
    "# Convert the p-value matrix into a dataframe for plotting\n",
    "p_df = pd.DataFrame(p)\n",
    "# p_df.columns = FEATURE_SET\n",
    "# p_df.index = FEATURE_SET\n",
    "\n",
    "p_df.style.background_gradient(cmap='coolwarm', axis=None)"
   ]
  },
  {
   "cell_type": "code",
   "execution_count": 38,
   "metadata": {},
   "outputs": [
    {
     "data": {
      "text/html": [
       "<style  type=\"text/css\" >\n",
       "    #T_fde1c3e2_cfe3_11e9_8cae_605718ad0862row0_col0 {\n",
       "            background-color:  #b40426;\n",
       "            color:  #f1f1f1;\n",
       "        }    #T_fde1c3e2_cfe3_11e9_8cae_605718ad0862row0_col1 {\n",
       "            background-color:  #c12b30;\n",
       "            color:  #f1f1f1;\n",
       "        }    #T_fde1c3e2_cfe3_11e9_8cae_605718ad0862row0_col2 {\n",
       "            background-color:  #3b4cc0;\n",
       "            color:  #f1f1f1;\n",
       "        }    #T_fde1c3e2_cfe3_11e9_8cae_605718ad0862row1_col0 {\n",
       "            background-color:  #c12b30;\n",
       "            color:  #f1f1f1;\n",
       "        }    #T_fde1c3e2_cfe3_11e9_8cae_605718ad0862row1_col1 {\n",
       "            background-color:  #b40426;\n",
       "            color:  #f1f1f1;\n",
       "        }    #T_fde1c3e2_cfe3_11e9_8cae_605718ad0862row1_col2 {\n",
       "            background-color:  #3e51c5;\n",
       "            color:  #f1f1f1;\n",
       "        }    #T_fde1c3e2_cfe3_11e9_8cae_605718ad0862row2_col0 {\n",
       "            background-color:  #3b4cc0;\n",
       "            color:  #f1f1f1;\n",
       "        }    #T_fde1c3e2_cfe3_11e9_8cae_605718ad0862row2_col1 {\n",
       "            background-color:  #3e51c5;\n",
       "            color:  #f1f1f1;\n",
       "        }    #T_fde1c3e2_cfe3_11e9_8cae_605718ad0862row2_col2 {\n",
       "            background-color:  #b40426;\n",
       "            color:  #f1f1f1;\n",
       "        }</style><table id=\"T_fde1c3e2_cfe3_11e9_8cae_605718ad0862\" ><thead>    <tr>        <th class=\"blank level0\" ></th>        <th class=\"col_heading level0 col0\" >Demand</th>        <th class=\"col_heading level0 col1\" >Ordered_Units</th>        <th class=\"col_heading level0 col2\" >Order_Volume</th>    </tr></thead><tbody>\n",
       "                <tr>\n",
       "                        <th id=\"T_fde1c3e2_cfe3_11e9_8cae_605718ad0862level0_row0\" class=\"row_heading level0 row0\" >Demand</th>\n",
       "                        <td id=\"T_fde1c3e2_cfe3_11e9_8cae_605718ad0862row0_col0\" class=\"data row0 col0\" >1</td>\n",
       "                        <td id=\"T_fde1c3e2_cfe3_11e9_8cae_605718ad0862row0_col1\" class=\"data row0 col1\" >0.978535</td>\n",
       "                        <td id=\"T_fde1c3e2_cfe3_11e9_8cae_605718ad0862row0_col2\" class=\"data row0 col2\" >0.437726</td>\n",
       "            </tr>\n",
       "            <tr>\n",
       "                        <th id=\"T_fde1c3e2_cfe3_11e9_8cae_605718ad0862level0_row1\" class=\"row_heading level0 row1\" >Ordered_Units</th>\n",
       "                        <td id=\"T_fde1c3e2_cfe3_11e9_8cae_605718ad0862row1_col0\" class=\"data row1 col0\" >0.978535</td>\n",
       "                        <td id=\"T_fde1c3e2_cfe3_11e9_8cae_605718ad0862row1_col1\" class=\"data row1 col1\" >1</td>\n",
       "                        <td id=\"T_fde1c3e2_cfe3_11e9_8cae_605718ad0862row1_col2\" class=\"data row1 col2\" >0.444565</td>\n",
       "            </tr>\n",
       "            <tr>\n",
       "                        <th id=\"T_fde1c3e2_cfe3_11e9_8cae_605718ad0862level0_row2\" class=\"row_heading level0 row2\" >Order_Volume</th>\n",
       "                        <td id=\"T_fde1c3e2_cfe3_11e9_8cae_605718ad0862row2_col0\" class=\"data row2 col0\" >0.437726</td>\n",
       "                        <td id=\"T_fde1c3e2_cfe3_11e9_8cae_605718ad0862row2_col1\" class=\"data row2 col1\" >0.444565</td>\n",
       "                        <td id=\"T_fde1c3e2_cfe3_11e9_8cae_605718ad0862row2_col2\" class=\"data row2 col2\" >1</td>\n",
       "            </tr>\n",
       "    </tbody></table>"
      ],
      "text/plain": [
       "<pandas.io.formats.style.Styler at 0x22db76177b8>"
      ]
     },
     "execution_count": 38,
     "metadata": {},
     "output_type": "execute_result"
    }
   ],
   "source": [
    "#Corelation matrix of Features: Fall Data\n",
    "corr_Fall = fall_X.corr()\n",
    "corr_Fall.style.background_gradient(cmap='coolwarm', axis=None)"
   ]
  },
  {
   "cell_type": "code",
   "execution_count": 39,
   "metadata": {},
   "outputs": [
    {
     "data": {
      "text/html": [
       "<style  type=\"text/css\" >\n",
       "    #T_fdf94dda_cfe3_11e9_8064_605718ad0862row0_col0 {\n",
       "            background-color:  #b40426;\n",
       "            color:  #f1f1f1;\n",
       "        }    #T_fdf94dda_cfe3_11e9_8064_605718ad0862row0_col1 {\n",
       "            background-color:  #4358cb;\n",
       "            color:  #f1f1f1;\n",
       "        }    #T_fdf94dda_cfe3_11e9_8064_605718ad0862row0_col2 {\n",
       "            background-color:  #3b4cc0;\n",
       "            color:  #f1f1f1;\n",
       "        }    #T_fdf94dda_cfe3_11e9_8064_605718ad0862row1_col0 {\n",
       "            background-color:  #4358cb;\n",
       "            color:  #f1f1f1;\n",
       "        }    #T_fdf94dda_cfe3_11e9_8064_605718ad0862row1_col1 {\n",
       "            background-color:  #b40426;\n",
       "            color:  #f1f1f1;\n",
       "        }    #T_fdf94dda_cfe3_11e9_8064_605718ad0862row1_col2 {\n",
       "            background-color:  #3e51c5;\n",
       "            color:  #f1f1f1;\n",
       "        }    #T_fdf94dda_cfe3_11e9_8064_605718ad0862row2_col0 {\n",
       "            background-color:  #3b4cc0;\n",
       "            color:  #f1f1f1;\n",
       "        }    #T_fdf94dda_cfe3_11e9_8064_605718ad0862row2_col1 {\n",
       "            background-color:  #3e51c5;\n",
       "            color:  #f1f1f1;\n",
       "        }    #T_fdf94dda_cfe3_11e9_8064_605718ad0862row2_col2 {\n",
       "            background-color:  #b40426;\n",
       "            color:  #f1f1f1;\n",
       "        }</style><table id=\"T_fdf94dda_cfe3_11e9_8064_605718ad0862\" ><thead>    <tr>        <th class=\"blank level0\" ></th>        <th class=\"col_heading level0 col0\" >0</th>        <th class=\"col_heading level0 col1\" >1</th>        <th class=\"col_heading level0 col2\" >2</th>    </tr></thead><tbody>\n",
       "                <tr>\n",
       "                        <th id=\"T_fdf94dda_cfe3_11e9_8064_605718ad0862level0_row0\" class=\"row_heading level0 row0\" >0</th>\n",
       "                        <td id=\"T_fdf94dda_cfe3_11e9_8064_605718ad0862row0_col0\" class=\"data row0 col0\" >1</td>\n",
       "                        <td id=\"T_fdf94dda_cfe3_11e9_8064_605718ad0862row0_col1\" class=\"data row0 col1\" >0.0431671</td>\n",
       "                        <td id=\"T_fdf94dda_cfe3_11e9_8064_605718ad0862row0_col2\" class=\"data row0 col2\" >0.0147018</td>\n",
       "            </tr>\n",
       "            <tr>\n",
       "                        <th id=\"T_fdf94dda_cfe3_11e9_8064_605718ad0862level0_row1\" class=\"row_heading level0 row1\" >1</th>\n",
       "                        <td id=\"T_fdf94dda_cfe3_11e9_8064_605718ad0862row1_col0\" class=\"data row1 col0\" >0.0431671</td>\n",
       "                        <td id=\"T_fdf94dda_cfe3_11e9_8064_605718ad0862row1_col1\" class=\"data row1 col1\" >1</td>\n",
       "                        <td id=\"T_fdf94dda_cfe3_11e9_8064_605718ad0862row1_col2\" class=\"data row1 col2\" >0.0284653</td>\n",
       "            </tr>\n",
       "            <tr>\n",
       "                        <th id=\"T_fdf94dda_cfe3_11e9_8064_605718ad0862level0_row2\" class=\"row_heading level0 row2\" >2</th>\n",
       "                        <td id=\"T_fdf94dda_cfe3_11e9_8064_605718ad0862row2_col0\" class=\"data row2 col0\" >0.0147018</td>\n",
       "                        <td id=\"T_fdf94dda_cfe3_11e9_8064_605718ad0862row2_col1\" class=\"data row2 col1\" >0.0284653</td>\n",
       "                        <td id=\"T_fdf94dda_cfe3_11e9_8064_605718ad0862row2_col2\" class=\"data row2 col2\" >1</td>\n",
       "            </tr>\n",
       "    </tbody></table>"
      ],
      "text/plain": [
       "<pandas.io.formats.style.Styler at 0x22db9e2f0f0>"
      ]
     },
     "execution_count": 39,
     "metadata": {},
     "output_type": "execute_result"
    }
   ],
   "source": [
    "# Find p-values (p) of Fall Corelation Matrix\n",
    "r, p = corrcoef_loop(corr_Fall.values)\n",
    "\n",
    "# Convert the p-value matrix into a dataframe for plotting\n",
    "p_df = pd.DataFrame(p)\n",
    "# p_df.columns = FEATURE_SET\n",
    "# p_df.index = FEATURE_SET\n",
    "\n",
    "p_df.style.background_gradient(cmap='coolwarm', axis=None)"
   ]
  },
  {
   "cell_type": "markdown",
   "metadata": {},
   "source": [
    "#### Multinomial Logit - Fit Statistics"
   ]
  },
  {
   "cell_type": "code",
   "execution_count": 40,
   "metadata": {},
   "outputs": [
    {
     "name": "stdout",
     "output_type": "stream",
     "text": [
      "Optimization terminated successfully.\n",
      "         Current function value: 0.676859\n",
      "         Iterations 6\n",
      "                           Logit Regression Results                           \n",
      "==============================================================================\n",
      "Dep. Variable:              Cluster_1   No. Observations:                 2280\n",
      "Model:                          Logit   Df Residuals:                     2276\n",
      "Method:                           MLE   Df Model:                            3\n",
      "Date:                Thu, 05 Sep 2019   Pseudo R-squ.:                 -0.4188\n",
      "Time:                        09:49:34   Log-Likelihood:                -1543.2\n",
      "converged:                       True   LL-Null:                       -1087.7\n",
      "                                        LLR p-value:                     1.000\n",
      "=================================================================================\n",
      "                    coef    std err          z      P>|z|      [0.025      0.975]\n",
      "---------------------------------------------------------------------------------\n",
      "NewProduct        1.6567      0.235      7.053      0.000       1.196       2.117\n",
      "Demand        -4.537e-05   4.75e-05     -0.955      0.340      -0.000    4.78e-05\n",
      "Ordered_Units   6.34e-05   4.71e-05      1.347      0.178   -2.88e-05       0.000\n",
      "Order_Volume  -1.761e-07   7.11e-08     -2.477      0.013   -3.15e-07   -3.68e-08\n",
      "=================================================================================\n"
     ]
    }
   ],
   "source": [
    "# Train Model and get the Fit Statistics\n",
    "# Target: Spring Cluster_1 binary response\n",
    "logit_model=sm.Logit(spring_cluster_y1.astype(float),spring_X.astype(float))\n",
    "result=logit_model.fit()\n",
    "print(result.summary())"
   ]
  },
  {
   "cell_type": "code",
   "execution_count": 41,
   "metadata": {},
   "outputs": [
    {
     "name": "stdout",
     "output_type": "stream",
     "text": [
      "Optimization terminated successfully.\n",
      "         Current function value: 0.480261\n",
      "         Iterations 8\n",
      "                           Logit Regression Results                           \n",
      "==============================================================================\n",
      "Dep. Variable:              Cluster_2   No. Observations:                 2280\n",
      "Model:                          Logit   Df Residuals:                     2276\n",
      "Method:                           MLE   Df Model:                            3\n",
      "Date:                Thu, 05 Sep 2019   Pseudo R-squ.:                  -4.040\n",
      "Time:                        09:49:34   Log-Likelihood:                -1095.0\n",
      "converged:                       True   LL-Null:                       -217.27\n",
      "                                        LLR p-value:                     1.000\n",
      "=================================================================================\n",
      "                    coef    std err          z      P>|z|      [0.025      0.975]\n",
      "---------------------------------------------------------------------------------\n",
      "NewProduct       -2.9918      0.591     -5.062      0.000      -4.150      -1.833\n",
      "Demand           -0.0005      0.000     -5.350      0.000      -0.001      -0.000\n",
      "Ordered_Units     0.0004   9.95e-05      3.802      0.000       0.000       0.001\n",
      "Order_Volume  -1.573e-06   2.02e-07     -7.780      0.000   -1.97e-06   -1.18e-06\n",
      "=================================================================================\n"
     ]
    }
   ],
   "source": [
    "# Train Model and get the Fit Statistics\n",
    "# Target: Spring Cluster_2 binary response\n",
    "logit_model=sm.Logit(spring_cluster_y2.astype(float),spring_X.astype(float))\n",
    "result=logit_model.fit()\n",
    "print(result.summary())"
   ]
  },
  {
   "cell_type": "code",
   "execution_count": 42,
   "metadata": {},
   "outputs": [
    {
     "name": "stdout",
     "output_type": "stream",
     "text": [
      "Optimization terminated successfully.\n",
      "         Current function value: 0.659912\n",
      "         Iterations 6\n",
      "                           Logit Regression Results                           \n",
      "==============================================================================\n",
      "Dep. Variable:              Cluster_3   No. Observations:                 2280\n",
      "Model:                          Logit   Df Residuals:                     2276\n",
      "Method:                           MLE   Df Model:                            3\n",
      "Date:                Thu, 05 Sep 2019   Pseudo R-squ.:                 -0.4763\n",
      "Time:                        09:49:34   Log-Likelihood:                -1504.6\n",
      "converged:                       True   LL-Null:                       -1019.2\n",
      "                                        LLR p-value:                     1.000\n",
      "=================================================================================\n",
      "                    coef    std err          z      P>|z|      [0.025      0.975]\n",
      "---------------------------------------------------------------------------------\n",
      "NewProduct       -1.5647      0.250     -6.252      0.000      -2.055      -1.074\n",
      "Demand            0.0002   6.06e-05      3.747      0.000       0.000       0.000\n",
      "Ordered_Units    -0.0003   6.35e-05     -4.112      0.000      -0.000      -0.000\n",
      "Order_Volume   -1.39e-07   7.83e-08     -1.775      0.076   -2.92e-07    1.45e-08\n",
      "=================================================================================\n"
     ]
    }
   ],
   "source": [
    "# Train Model and get the Fit Statistics\n",
    "# Target: Spring Cluster_3 binary response\n",
    "logit_model=sm.Logit(spring_cluster_y3.astype(float),spring_X.astype(float))\n",
    "result=logit_model.fit()\n",
    "print(result.summary())"
   ]
  },
  {
   "cell_type": "code",
   "execution_count": 43,
   "metadata": {},
   "outputs": [
    {
     "name": "stdout",
     "output_type": "stream",
     "text": [
      "Warning: Maximum number of iterations has been exceeded.\n",
      "         Current function value: 0.243777\n",
      "         Iterations: 35\n",
      "                           Logit Regression Results                           \n",
      "==============================================================================\n",
      "Dep. Variable:              Cluster_1   No. Observations:                 2548\n",
      "Model:                          Logit   Df Residuals:                     2544\n",
      "Method:                           MLE   Df Model:                            3\n",
      "Date:                Thu, 05 Sep 2019   Pseudo R-squ.:                  -6.614\n",
      "Time:                        09:49:34   Log-Likelihood:                -621.14\n",
      "converged:                      False   LL-Null:                       -81.582\n",
      "                                        LLR p-value:                     1.000\n",
      "=================================================================================\n",
      "                    coef    std err          z      P>|z|      [0.025      0.975]\n",
      "---------------------------------------------------------------------------------\n",
      "NewProduct      -34.0347   8.99e+05  -3.79e-05      1.000   -1.76e+06    1.76e+06\n",
      "Demand           -0.0020      0.000    -18.770      0.000      -0.002      -0.002\n",
      "Ordered_Units     0.0015   9.13e-05     16.025      0.000       0.001       0.002\n",
      "Order_Volume   1.703e-08   5.04e-08      0.338      0.736   -8.18e-08    1.16e-07\n",
      "=================================================================================\n",
      "\n",
      "Possibly complete quasi-separation: A fraction 0.22 of observations can be\n",
      "perfectly predicted. This might indicate that there is complete\n",
      "quasi-separation. In this case some parameters will not be identified.\n"
     ]
    }
   ],
   "source": [
    "# Train Model and get the Fit Statistics\n",
    "# Target: Fall Cluster_1 binary response\n",
    "logit_model=sm.Logit(fall_cluster_y1.astype(float),fall_X.astype(float))\n",
    "result=logit_model.fit()\n",
    "print(result.summary())"
   ]
  },
  {
   "cell_type": "code",
   "execution_count": 44,
   "metadata": {},
   "outputs": [
    {
     "name": "stdout",
     "output_type": "stream",
     "text": [
      "Optimization terminated successfully.\n",
      "         Current function value: 0.599099\n",
      "         Iterations 7\n",
      "                           Logit Regression Results                           \n",
      "==============================================================================\n",
      "Dep. Variable:              Cluster_2   No. Observations:                 2548\n",
      "Model:                          Logit   Df Residuals:                     2544\n",
      "Method:                           MLE   Df Model:                            3\n",
      "Date:                Thu, 05 Sep 2019   Pseudo R-squ.:                 -0.7425\n",
      "Time:                        09:49:34   Log-Likelihood:                -1526.5\n",
      "converged:                       True   LL-Null:                       -876.04\n",
      "                                        LLR p-value:                     1.000\n",
      "=================================================================================\n",
      "                    coef    std err          z      P>|z|      [0.025      0.975]\n",
      "---------------------------------------------------------------------------------\n",
      "NewProduct       -1.3649      0.147     -9.281      0.000      -1.653      -1.077\n",
      "Demand           -0.0004   3.17e-05    -12.273      0.000      -0.000      -0.000\n",
      "Ordered_Units     0.0003   2.87e-05     10.283      0.000       0.000       0.000\n",
      "Order_Volume   1.022e-07   1.89e-08      5.410      0.000    6.52e-08    1.39e-07\n",
      "=================================================================================\n"
     ]
    }
   ],
   "source": [
    "# Train Model and get the Fit Statistics\n",
    "# Target: Fall Cluster_2 binary response\n",
    "logit_model=sm.Logit(fall_cluster_y2.astype(float),fall_X.astype(float))\n",
    "result=logit_model.fit()\n",
    "print(result.summary())"
   ]
  },
  {
   "cell_type": "code",
   "execution_count": 45,
   "metadata": {},
   "outputs": [
    {
     "name": "stdout",
     "output_type": "stream",
     "text": [
      "Optimization terminated successfully.\n",
      "         Current function value: 0.571521\n",
      "         Iterations 9\n",
      "                           Logit Regression Results                           \n",
      "==============================================================================\n",
      "Dep. Variable:              Cluster_3   No. Observations:                 2548\n",
      "Model:                          Logit   Df Residuals:                     2544\n",
      "Method:                           MLE   Df Model:                            3\n",
      "Date:                Thu, 05 Sep 2019   Pseudo R-squ.:                 -0.6126\n",
      "Time:                        09:49:34   Log-Likelihood:                -1456.2\n",
      "converged:                       True   LL-Null:                       -903.06\n",
      "                                        LLR p-value:                     1.000\n",
      "=================================================================================\n",
      "                    coef    std err          z      P>|z|      [0.025      0.975]\n",
      "---------------------------------------------------------------------------------\n",
      "NewProduct        1.7158      0.158     10.866      0.000       1.406       2.025\n",
      "Demand            0.0006    4.1e-05     15.855      0.000       0.001       0.001\n",
      "Ordered_Units    -0.0006   3.71e-05    -15.185      0.000      -0.001      -0.000\n",
      "Order_Volume  -2.019e-07   2.28e-08     -8.866      0.000   -2.47e-07   -1.57e-07\n",
      "=================================================================================\n"
     ]
    }
   ],
   "source": [
    "# Train Model and get the Fit Statistics\n",
    "# Target: Fall Cluster_3 binary response\n",
    "logit_model=sm.Logit(fall_cluster_y3.astype(float),fall_X.astype(float))\n",
    "result=logit_model.fit()\n",
    "print(result.summary())"
   ]
  },
  {
   "cell_type": "code",
   "execution_count": 46,
   "metadata": {},
   "outputs": [
    {
     "name": "stdout",
     "output_type": "stream",
     "text": [
      "Optimization terminated successfully.\n",
      "         Current function value: 0.997214\n",
      "         Iterations 7\n",
      "                          MNLogit Regression Results                          \n",
      "==============================================================================\n",
      "Dep. Variable:                  Class   No. Observations:                 2280\n",
      "Model:                        MNLogit   Df Residuals:                     2272\n",
      "Method:                           MLE   Df Model:                            6\n",
      "Date:                Thu, 05 Sep 2019   Pseudo R-squ.:                 -0.3797\n",
      "Time:                        09:49:34   Log-Likelihood:                -2273.6\n",
      "converged:                       True   LL-Null:                       -1647.9\n",
      "                                        LLR p-value:                     1.000\n",
      "=================================================================================\n",
      "      Class=2       coef    std err          z      P>|z|      [0.025      0.975]\n",
      "---------------------------------------------------------------------------------\n",
      "NewProduct       -0.6136      0.185     -3.320      0.001      -0.976      -0.251\n",
      "Demand         1.469e-05   5.07e-05      0.290      0.772   -8.47e-05       0.000\n",
      "Ordered_Units -4.229e-05   5.04e-05     -0.839      0.402      -0.000    5.65e-05\n",
      "Order_Volume   5.217e-07   8.85e-08      5.892      0.000    3.48e-07    6.95e-07\n",
      "---------------------------------------------------------------------------------\n",
      "      Class=3       coef    std err          z      P>|z|      [0.025      0.975]\n",
      "---------------------------------------------------------------------------------\n",
      "NewProduct       -2.1297      0.435     -4.898      0.000      -2.982      -1.278\n",
      "Demand           -0.0006      0.000     -5.509      0.000      -0.001      -0.000\n",
      "Ordered_Units     0.0004   9.69e-05      4.055      0.000       0.000       0.001\n",
      "Order_Volume  -4.693e-07   1.82e-07     -2.584      0.010   -8.25e-07   -1.13e-07\n",
      "=================================================================================\n"
     ]
    }
   ],
   "source": [
    "# Train Model and get the Fit Statistics\n",
    "# Target: Class (Dale's classification)\n",
    "logit_model=sm.MNLogit(spring_y2.astype(float),spring_X.astype(float))\n",
    "result=logit_model.fit()\n",
    "print(result.summary())"
   ]
  },
  {
   "cell_type": "code",
   "execution_count": 47,
   "metadata": {},
   "outputs": [
    {
     "name": "stdout",
     "output_type": "stream",
     "text": [
      "Optimization terminated successfully.\n",
      "         Current function value: 0.944834\n",
      "         Iterations 8\n",
      "                          MNLogit Regression Results                          \n",
      "==============================================================================\n",
      "Dep. Variable:                  Class   No. Observations:                 2548\n",
      "Model:                        MNLogit   Df Residuals:                     2540\n",
      "Method:                           MLE   Df Model:                            6\n",
      "Date:                Thu, 05 Sep 2019   Pseudo R-squ.:                 0.06854\n",
      "Time:                        09:49:35   Log-Likelihood:                -2407.4\n",
      "converged:                       True   LL-Null:                       -2584.6\n",
      "                                        LLR p-value:                 1.823e-73\n",
      "=================================================================================\n",
      "      Class=2       coef    std err          z      P>|z|      [0.025      0.975]\n",
      "---------------------------------------------------------------------------------\n",
      "NewProduct       -0.5284      0.145     -3.640      0.000      -0.813      -0.244\n",
      "Demand        -1.471e-05   1.96e-05     -0.749      0.454   -5.32e-05    2.38e-05\n",
      "Ordered_Units -1.854e-05   1.99e-05     -0.931      0.352   -5.76e-05    2.05e-05\n",
      "Order_Volume   7.964e-07   6.38e-08     12.491      0.000    6.71e-07    9.21e-07\n",
      "---------------------------------------------------------------------------------\n",
      "      Class=3       coef    std err          z      P>|z|      [0.025      0.975]\n",
      "---------------------------------------------------------------------------------\n",
      "NewProduct       -0.9830      0.169     -5.811      0.000      -1.315      -0.651\n",
      "Demand           -0.0006   4.45e-05    -13.510      0.000      -0.001      -0.001\n",
      "Ordered_Units     0.0005   4.19e-05     11.781      0.000       0.000       0.001\n",
      "Order_Volume   1.057e-06   6.63e-08     15.956      0.000    9.27e-07    1.19e-06\n",
      "=================================================================================\n"
     ]
    }
   ],
   "source": [
    "# Train Model and get the Fit Statistics\n",
    "# Target: Class (Dale's classification)\n",
    "logit_model=sm.MNLogit(fall_y2.astype(float),fall_X.astype(float))\n",
    "result=logit_model.fit()\n",
    "print(result.summary())"
   ]
  },
  {
   "cell_type": "code",
   "execution_count": 48,
   "metadata": {},
   "outputs": [],
   "source": [
    "# #2019 DATA\n",
    "# X = df2019[FEATURE_SET] # Training Set\n",
    "# y1 = df2019[TARGET_CLUSTER3] # Target: 3-cluster labels\n",
    "# y2 = df2019[TARGET_CLUSTER4] # Target: 4-cluster labels\n",
    "# y3 = df2019[TARGET_CLASS]    # Target: Class (Dale's classification)\n",
    "\n",
    "# # Train Model and get the Accuracy Score\n",
    "# # Target: 3-cluster labels of 2019\n",
    "# model1 = clf.fit(X, y1)\n",
    "# accuracy1 = model1.score(X, y1)\n",
    "# print(\"Accuracy of 2019 data with 3-cluster labels: \", accuracy1)\n",
    "\n",
    "# # Train Model and get the Accuracy Score\n",
    "# # Target: 4-cluster labels of 2019\n",
    "# model2 = clf.fit(X, y2)\n",
    "# accuracy2 = model2.score(X, y2)\n",
    "# print(\"Accuracy of 2019 data with 4-cluster labels: \", accuracy2)\n",
    "\n",
    "# # Target: Class (Dale's classification)\n",
    "# model3 = clf.fit(X, y3)\n",
    "# model3.score(X, y3)\n",
    "# accuracy3 = model3.score(X, y3)\n",
    "# print(\"Accuracy of 2019 data with class labels: \", accuracy3)"
   ]
  },
  {
   "cell_type": "code",
   "execution_count": 49,
   "metadata": {},
   "outputs": [],
   "source": [
    "# # Train Model and get the Accuracy Score\n",
    "# # Target: 3-cluster labels of Spring2019\n",
    "# spring_model1 = clf.fit(spring_X, spring_y1)\n",
    "# spring_accuracy1 = spring_model1.score(spring_X, spring_y1)\n",
    "# print(\"\\nAccuracy of Spring 2019 data with 3-cluster labels: \", spring_accuracy1)\n",
    "\n",
    "# # Train Model and get the Accuracy Score\n",
    "# # Target: Class (Dale's classification)\n",
    "# spring_model2 = clf.fit(spring_X, spring_y2)\n",
    "# spring_accuracy2 = spring_model2.score(spring_X, spring_y2)\n",
    "# print(\"\\nAccuracy of Spring 2019 data with class labels: \", spring_accuracy2)"
   ]
  },
  {
   "cell_type": "code",
   "execution_count": 50,
   "metadata": {},
   "outputs": [],
   "source": [
    "# # Train Model and get the Accuracy Score\n",
    "# # Target: 3-cluster labels of Fall2019\n",
    "# fall_model1 = clf.fit(fall_X, fall_y1)\n",
    "# fall_accuracy1 = fall_model1.score(fall_X, fall_y1)\n",
    "# print(\"\\nAccuracy of Fall 2019 data with 3-cluster labels: \", fall_accuracy1)\n",
    "\n",
    "# # Train Model and get the Accuracy Score\n",
    "# # Target: Class (Dale's classification)\n",
    "# fall_model2 = clf.fit(fall_X, fall_y2)\n",
    "# fall_accuracy2 = fall_model2.score(fall_X, fall_y2)\n",
    "# print(\"\\nAccuracy of Fall 2019 data with class labels: \", fall_accuracy2)"
   ]
  },
  {
   "cell_type": "code",
   "execution_count": null,
   "metadata": {},
   "outputs": [],
   "source": []
  },
  {
   "cell_type": "code",
   "execution_count": null,
   "metadata": {},
   "outputs": [],
   "source": []
  }
 ],
 "metadata": {
  "kernelspec": {
   "display_name": "Python 3",
   "language": "python",
   "name": "python3"
  },
  "language_info": {
   "codemirror_mode": {
    "name": "ipython",
    "version": 3
   },
   "file_extension": ".py",
   "mimetype": "text/x-python",
   "name": "python",
   "nbconvert_exporter": "python",
   "pygments_lexer": "ipython3",
   "version": "3.7.3"
  },
  "name": "SlottingTrainingPipeline",
  "notebookId": 4085007594758113
 },
 "nbformat": 4,
 "nbformat_minor": 1
}
