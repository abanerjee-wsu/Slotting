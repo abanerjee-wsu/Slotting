{
 "cells": [
  {
   "cell_type": "code",
   "execution_count": 1,
   "metadata": {},
   "outputs": [],
   "source": [
    "#imports\n",
    "import pandas as pd\n",
    "import numpy as np\n",
    "from sklearn.cluster import KMeans\n",
    "from scipy.spatial.distance import cdist\n",
    "from sklearn.linear_model import LogisticRegression\n",
    "from sklearn.metrics import silhouette_score\n",
    "\n",
    "%matplotlib inline\n",
    "import matplotlib.pyplot as plt\n",
    "import seaborn as sns; sns.set()  # for plot styling\n",
    "\n",
    "pd.set_option('display.float_format',lambda x: '%.1f' %x)\n",
    "\n",
    "import warnings\n",
    "warnings.filterwarnings(\"ignore\")"
   ]
  },
  {
   "cell_type": "code",
   "execution_count": 2,
   "metadata": {},
   "outputs": [
    {
     "name": "stdout",
     "output_type": "stream",
     "text": [
      "----- Feature Set ----- \n",
      " ['UniqueId', 'Department', 'Category', 'SubCategory', 'Material', 'Style', 'Dimension', 'ProductSize', 'Volume', 'InventorySegment', 'Color', 'UPC', 'Season_SKU_Introduced', 'Year_SKU_Introduced', 'History_Size_Pct', 'Month', 'Season', 'Year', 'Quarter', 'PlannedUnits', 'PDXPlannedUnits', 'Orders', 'Ordered_Units', 'Avg_Daily_Ordered_Units', 'Days_Ordered', 'Order_Volume', 'Avg_Daily_Volume', 'Experiment_Id']\n"
     ]
    }
   ],
   "source": [
    "# Load the datasets for 2019 data\n",
    "data2019 = pd.read_csv(r'C:\\Users\\abandyopadhyay\\ALOKPARNA\\RCV_SLOTTING\\Dataset\\Slotting_2019.csv', header=0, encoding = 'unicode_escape')\n",
    "print(\"----- Feature Set ----- \\n\", list(data2019.columns))\n",
    "\n",
    "data2019 = data2019.fillna(0)"
   ]
  },
  {
   "cell_type": "code",
   "execution_count": 3,
   "metadata": {},
   "outputs": [],
   "source": [
    "# Function to identify whether a product is new or not and add that as a feature in the dataset\n",
    "def add_new_product(data):\n",
    "    data.loc[(data.Year_SKU_Introduced < 2019) | ((data['Year_SKU_Introduced']).isnull()), 'NewProduct'] = '0' # Existing product\n",
    "    data.loc[data.Year_SKU_Introduced >= 2019, 'NewProduct'] = '1' # New product\n",
    "    return (data)"
   ]
  },
  {
   "cell_type": "code",
   "execution_count": 4,
   "metadata": {},
   "outputs": [],
   "source": [
    "# Function to add 'Demand' as a feature in the dataset\n",
    "def add_demand(data):\n",
    "    data.loc[data.PlannedUnits != 0, 'Demand'] = data['PlannedUnits']\n",
    "    data.loc[data.PlannedUnits == 0, 'Demand'] = data['PDXPlannedUnits']\n",
    "\n",
    "    return (data)"
   ]
  },
  {
   "cell_type": "code",
   "execution_count": 5,
   "metadata": {},
   "outputs": [],
   "source": [
    "# # Function to Group products by Experiment Id\n",
    "# def group_by_expId(data):\n",
    "#   groupedData = data.groupby(['Experiment_Id']).agg({'Demand': 'sum', 'Orders': 'sum', 'Ordered_Units': 'sum', 'Days_Ordered': 'sum', 'Order_Volume': 'sum', 'Avg_Daily_Volume': 'mean'})\n",
    "#   # Remove the index and flatten the 2019 dataset\n",
    "#   groupedData.reset_index(inplace=True)\n",
    "#   print(\"Grouped dataset (by Experiment Id) shape: \", groupedData.shape)\n",
    "#   return (groupedData)"
   ]
  },
  {
   "cell_type": "code",
   "execution_count": 6,
   "metadata": {},
   "outputs": [],
   "source": [
    "# # Function to Group products by Experiment Id and Seasons\n",
    "# def group_by_Seasons(data):\n",
    "#   groupedData = data.groupby(['Experiment_Id', 'Season']).agg({'Demand': 'sum', 'Orders': 'sum', 'Ordered_Units': 'sum', 'Days_Ordered': 'sum', 'Order_Volume': 'sum', 'Avg_Daily_Volume': 'mean'})\n",
    "#   # Remove the index and flatten the 2019 dataset\n",
    "#   groupedData.reset_index(inplace=True)\n",
    "#   print(\"Grouped dataset (by Experiment Id and Seasons) shape: \", groupedData.shape)\n",
    "#   return (groupedData)"
   ]
  },
  {
   "cell_type": "code",
   "execution_count": 7,
   "metadata": {},
   "outputs": [],
   "source": [
    "# # Function to Group products by Experiment Id and Categorical Descriptions\n",
    "# def group_by_Categoricals(data):\n",
    "#   groupedData = data.groupby(['Experiment_Id', 'Department', 'Category', 'SubCategory', 'Material', 'Style', 'Dimension', 'ProductSize', 'Volume', 'InventorySegment', 'Color', 'UPC', 'NewProduct']).agg({'Demand': 'sum', 'Orders': 'sum','Ordered_Units': 'sum', 'Avg_Daily_Ordered_Units': 'sum', 'Days_Ordered': 'sum', 'Order_Volume': 'sum', 'Avg_Daily_Volume': 'mean'})\n",
    "#   # Remove index and flatten the dataset\n",
    "#   groupedData.reset_index(inplace=True)\n",
    "#   print(\"Grouped dataset (Experiment Id and Categoricals) shape: \", groupedData.shape)\n",
    "#   return (groupedData)"
   ]
  },
  {
   "cell_type": "code",
   "execution_count": 8,
   "metadata": {},
   "outputs": [],
   "source": [
    "# Function to Group products by Experiment Id, Seasons and Categorical Descriptions\n",
    "def group_by_SeasonsAndCategoricals(data):\n",
    "    groupedData = data.groupby(['Experiment_Id', 'Season', 'Department', 'Category', 'SubCategory', 'Material', 'Style', 'Dimension', 'ProductSize', 'Volume', 'InventorySegment', 'Color', 'UPC', 'NewProduct']).agg({'Demand': 'sum', 'Orders': 'sum','Ordered_Units': 'sum', 'Avg_Daily_Ordered_Units': 'sum', 'Days_Ordered': 'sum', 'Order_Volume': 'sum', 'Avg_Daily_Volume': 'mean'})\n",
    "    # Remove index and flatten the dataset\n",
    "    groupedData.reset_index(inplace=True)\n",
    "    print(\"Grouped dataset (Experiment Id, Seasons and Categoricals) shape: \", groupedData.shape)\n",
    "    return (groupedData)"
   ]
  },
  {
   "cell_type": "code",
   "execution_count": 9,
   "metadata": {},
   "outputs": [],
   "source": [
    "# Function to select the Top80 selling products\n",
    "def get_Top80(data):\n",
    "    # Calculate % Ordered_Units \n",
    "    totalOrdUnits = data['Ordered_Units'].sum()\n",
    "    data['Pct_OrdUnits'] = (data['Ordered_Units']/totalOrdUnits)*100\n",
    "\n",
    "    # Sort the dataset based on % Ordered_Units \n",
    "    data = data.sort_values('Pct_OrdUnits',ascending=False)\n",
    "    data['Cumsum_Pct_OrdUnits'] = data['Pct_OrdUnits'].cumsum()\n",
    "\n",
    "    # Find the orders with Top 80 sales (ordered units)\n",
    "    dataTop80 = data[data.Cumsum_Pct_OrdUnits <= 80]\n",
    "\n",
    "    # Drop the Pct_OrdUnits and Cumsum_Pct_OrdUnits columns\n",
    "    dataTop80 = dataTop80.drop(['Pct_OrdUnits', 'Cumsum_Pct_OrdUnits'], axis=1)\n",
    "\n",
    "    print(\"Dataset shape after retaining the Top80 selling products: \", dataTop80.shape)\n",
    "    return (dataTop80)"
   ]
  },
  {
   "cell_type": "code",
   "execution_count": 10,
   "metadata": {},
   "outputs": [],
   "source": [
    "# Function for K-Means clustering\n",
    "def KMeans_clusterLabels(data, n):# Cluster data using k-means and get the cluster labels\n",
    "    model = KMeans(n_clusters=n, random_state=1)\n",
    "    model.fit(data)\n",
    "    model2019 = model.predict(data)\n",
    "    # Get cluster labels\n",
    "    cluster_label = model.labels_\n",
    "    #Plot the clusters\n",
    "    plt.scatter(data.iloc[:, 0], data.iloc[:, 1], c=model2019, s=50, cmap='viridis')\n",
    "    centers = model.cluster_centers_\n",
    "    plt.scatter(centers[:, 0], centers[:, 1], c='black', s=200, alpha=0.5)\n",
    "\n",
    "    return (cluster_label)"
   ]
  },
  {
   "cell_type": "code",
   "execution_count": 11,
   "metadata": {},
   "outputs": [],
   "source": [
    "# Function for creating Classification Dataset\n",
    "def create_Classification_Dataset(data):\n",
    "    # Add the new feature 'Suggested_Storage_Type' and the target 'Class' based on the 'Avg_Daily_Volume'\n",
    "    data.loc[data.Avg_Daily_Volume <= 4216.22, 'Suggested_Storage_Type'] = 'Flat Rack'\n",
    "    data.loc[data.Avg_Daily_Volume <= 4216.22, 'Class'] = '0'\n",
    "    data.loc[(data.Avg_Daily_Volume > 4216.22) & (data.Avg_Daily_Volume <= 21081.6), 'Suggested_Storage_Type'] = 'Flow Rack' \n",
    "    data.loc[(data.Avg_Daily_Volume > 4216.22) & (data.Avg_Daily_Volume <= 21081.6), 'Class'] = '1' \n",
    "    data.loc[data.Avg_Daily_Volume > 21081.6, 'Suggested_Storage_Type'] = 'Big Pack'\n",
    "    data.loc[data.Avg_Daily_Volume > 21081.6, 'Class'] = '2'\n",
    "\n",
    "    return (data)"
   ]
  },
  {
   "cell_type": "code",
   "execution_count": 12,
   "metadata": {},
   "outputs": [],
   "source": [
    "def plot_corr(df,size=10):\n",
    "    '''Function plots a graphical correlation matrix for each pair of columns in the dataframe.\n",
    "\n",
    "    Input:\n",
    "        df: pandas DataFrame\n",
    "        size: vertical and horizontal size of the plot'''\n",
    "\n",
    "    corr = df.corr()\n",
    "    fig, ax = plt.subplots(figsize=(size, size))\n",
    "    ax.matshow(corr)\n",
    "    plt.xticks(range(len(corr.columns)), corr.columns);\n",
    "    plt.yticks(range(len(corr.columns)), corr.columns);"
   ]
  },
  {
   "cell_type": "code",
   "execution_count": 13,
   "metadata": {
    "scrolled": true
   },
   "outputs": [
    {
     "name": "stdout",
     "output_type": "stream",
     "text": [
      "Grouped dataset (Experiment Id, Seasons and Categoricals) shape:  (39596, 21)\n",
      "Spring2019 with categorical dataset shape:  (20338, 20)\n",
      "Fall2019 with categorical dataset shape:  (19258, 20)\n",
      "Dataset shape after retaining the Top80 selling products:  (2452, 20)\n",
      "Dataset shape after retaining the Top80 selling products:  (3266, 20)\n",
      "\n",
      "----- Feature Set : dfCatSpring2019_Top80 ----- \n",
      " ['Experiment_Id', 'Department', 'Category', 'SubCategory', 'Material', 'Style', 'Dimension', 'ProductSize', 'Volume', 'InventorySegment', 'Color', 'UPC', 'NewProduct', 'Demand', 'Orders', 'Ordered_Units', 'Avg_Daily_Ordered_Units', 'Days_Ordered', 'Order_Volume', 'Avg_Daily_Volume']\n",
      "\n",
      "----- Feature Set : dfCatFall2019_Top80 ----- \n",
      " ['Experiment_Id', 'Department', 'Category', 'SubCategory', 'Material', 'Style', 'Dimension', 'ProductSize', 'Volume', 'InventorySegment', 'Color', 'UPC', 'NewProduct', 'Demand', 'Orders', 'Ordered_Units', 'Avg_Daily_Ordered_Units', 'Days_Ordered', 'Order_Volume', 'Avg_Daily_Volume']\n"
     ]
    }
   ],
   "source": [
    "# Remove those Data for which there are no Orders\n",
    "dfOrders2019 = data2019[data2019.Orders != 0]\n",
    "\n",
    "# Add a new feature to identify whether a product is New or Existing\n",
    "dfOrders2019 = add_new_product(dfOrders2019)\n",
    "\n",
    "# Add a new feature 'Demand'\n",
    "dfOrders2019 = add_demand(dfOrders2019)\n",
    "\n",
    "# # Group 2019 dataset by Experiment_Id\n",
    "# grouped2019 = group_by_expId(dfOrders2019)\n",
    "\n",
    "# # Group 2019 dataset by Experiment_Id and Seasons\n",
    "# groupedSeasons2019 = group_by_Seasons(dfOrders2019)\n",
    "# groupedSpring2019 = groupedSeasons2019.loc[groupedSeasons2019['Season'] == 0].drop(['Season'], axis=1)\n",
    "# groupedFall2019 = groupedSeasons2019.loc[groupedSeasons2019['Season'] == 1].drop(['Season'], axis=1)\n",
    "# print(\"Spring2019 dataset shape: \", groupedSpring2019.shape)\n",
    "# print(\"Fall2019 dataset shape: \", groupedFall2019.shape)\n",
    "\n",
    "# # Group 2019 dataset by Experiment_Id and Categorical Descriptions\n",
    "# groupedCat2019 = group_by_Categoricals(dfOrders2019)\n",
    "\n",
    "# Group 2019 dataset by Experiment_Id, Seasons and Categoricals\n",
    "groupedCatSeasons2019 = group_by_SeasonsAndCategoricals(dfOrders2019)\n",
    "\n",
    "groupedCatSpring2019 = groupedCatSeasons2019.loc[groupedCatSeasons2019['Season'] == 0].drop(['Season'], axis=1)\n",
    "groupedCatFall2019 = groupedCatSeasons2019.loc[groupedCatSeasons2019['Season'] == 1].drop(['Season'], axis=1)\n",
    "print(\"Spring2019 with categorical dataset shape: \", groupedCatSpring2019.shape)\n",
    "print(\"Fall2019 with categorical dataset shape: \", groupedCatFall2019.shape)\n",
    "\n",
    "# Get Top80 most sold products\n",
    "# df2019_Top80 = get_Top80(grouped2019)\n",
    "# dfSpring2019_Top80 = get_Top80(groupedSpring2019)\n",
    "# dfFall2019_Top80 = get_Top80(groupedFall2019)\n",
    "\n",
    "# dfCat2019_Top80 = get_Top80(groupedCat2019)\n",
    "dfCatSpring2019_Top80 = get_Top80(groupedCatSpring2019)\n",
    "dfCatFall2019_Top80 = get_Top80(groupedCatFall2019)\n",
    "\n",
    "print(\"\\n----- Feature Set : dfCatSpring2019_Top80 ----- \\n\", list(dfCatSpring2019_Top80.columns))\n",
    "print(\"\\n----- Feature Set : dfCatFall2019_Top80 ----- \\n\", list(dfCatFall2019_Top80.columns))"
   ]
  },
  {
   "cell_type": "code",
   "execution_count": 14,
   "metadata": {},
   "outputs": [],
   "source": [
    "# # Cluster 2019 dataset (without categorical descriptions) by K-Means Clustering\n",
    "# df2019_Top80_kmeans = df2019_Top80.copy()\n",
    "\n",
    "# # Add the cluster labels to the dataset\n",
    "# # Number of clusters : 3\n",
    "# cluster3_label = KMeans_clusterLabels(df2019_Top80, 3)\n",
    "# df2019_Top80_kmeans['Cluster3_Label'] = cluster3_label\n",
    "\n",
    "# print(\"\\n----- 2019 Cluster_Label counts -----\")\n",
    "# print(df2019_Top80_kmeans['Cluster3_Label'].value_counts())"
   ]
  },
  {
   "cell_type": "code",
   "execution_count": 15,
   "metadata": {},
   "outputs": [],
   "source": [
    "# # Number of clusters : 4\n",
    "# cluster4_label = KMeans_clusterLabels(df2019_Top80, 4)\n",
    "# df2019_Top80_kmeans['Cluster4_Label'] = cluster4_label\n",
    "\n",
    "# print(\"\\n----- 2019 Cluster_Label counts -----\")\n",
    "# print(df2019_Top80_kmeans['Cluster4_Label'].value_counts())"
   ]
  },
  {
   "cell_type": "code",
   "execution_count": 16,
   "metadata": {},
   "outputs": [],
   "source": [
    "# # Remove the order details and retain only the cluster labels along with the Experiment_Id\n",
    "# df2019_Top80_kmeans_labels = df2019_Top80_kmeans.drop(['Demand', 'Orders', 'Ordered_Units', 'Days_Ordered', 'Order_Volume', 'Avg_Daily_Volume'], axis=1)\n",
    "# print(\"Dataset shape: \", df2019_Top80_kmeans_labels.shape)\n",
    "\n",
    "# # Clustering Accuracy : Calculate Silhouette Coefficient\n",
    "# # Evaluate the 3-cluster model\n",
    "# accuracyCluster3 = silhouette_score(df2019_Top80, cluster3_label)\n",
    "# print(\"Accuracy of kmeans with n=3: \", accuracyCluster3)\n",
    "# # Evaluate the 4-cluster model\n",
    "# accuracyCluster4 = silhouette_score(df2019_Top80, cluster4_label)\n",
    "# print(\"Accuracy of kmeans with n=4: \", accuracyCluster4)"
   ]
  },
  {
   "cell_type": "code",
   "execution_count": 17,
   "metadata": {},
   "outputs": [],
   "source": [
    "# # Cluster Spring 2019 and Fall 2019 datasets (without categorical descriptions) by K-Means Clustering\n",
    "# # Kmeans with n=3 on Spring2019 Data\n",
    "# dfSpring2019_Top80_kmeans = dfSpring2019_Top80.copy()\n",
    "# spring_cluster3_label = KMeans_clusterLabels(dfSpring2019_Top80, 3)\n",
    "# dfSpring2019_Top80_kmeans['Cluster3_Label'] = spring_cluster3_label\n",
    "\n",
    "# print(\"\\n----- Spring 2019 Cluster_Label counts -----\")\n",
    "# print(dfSpring2019_Top80_kmeans['Cluster3_Label'].value_counts())\n",
    "\n",
    "# # Remove the order details and retain only the cluster labels along with the Experiment_Id\n",
    "# dfSpring2019_Top80_kmeans_labels = dfSpring2019_Top80_kmeans.drop(['Demand', 'Orders', 'Ordered_Units', 'Days_Ordered', 'Order_Volume', 'Avg_Daily_Volume'], axis=1)\n",
    "# print(\"Dataset shape: \", dfSpring2019_Top80_kmeans_labels.shape)\n",
    "\n",
    "# # Clustering Accuracy : Calculate Silhouette Coefficient\n",
    "# # Evaluate the 3-cluster model for Spring2019\n",
    "# accuracySpring = silhouette_score(dfSpring2019_Top80, spring_cluster3_label)\n",
    "# print(\"Accuracy of kmeans with n=3 on Spring2019: \", accuracySpring)\n",
    "\n",
    "# # Kmeans with n=3 on Fall2019 Data\n",
    "# dfFall2019_Top80_kmeans = dfFall2019_Top80.copy()\n",
    "# fall_cluster3_label = KMeans_clusterLabels(dfFall2019_Top80, 3)\n",
    "# dfFall2019_Top80_kmeans['Cluster3_Label'] = fall_cluster3_label\n",
    "\n",
    "# print(\"\\n----- Fall 2019 Cluster_Label counts -----\")\n",
    "# print(dfFall2019_Top80_kmeans['Cluster3_Label'].value_counts())\n",
    "\n",
    "# # Remove the order details and retain only the cluster labels along with the Experiment_Id\n",
    "# dfFall2019_Top80_kmeans_labels = dfFall2019_Top80_kmeans.drop(['Demand', 'Orders', 'Ordered_Units', 'Days_Ordered', 'Order_Volume', 'Avg_Daily_Volume'], axis=1)\n",
    "# print(\"Dataset shape: \", dfFall2019_Top80_kmeans_labels.shape)\n",
    "\n",
    "# # Clustering Accuracy : Calculate Silhouette Coefficient\n",
    "# # Evaluate the 3-cluster model for Fall2019\n",
    "# accuracyFall = silhouette_score(dfFall2019_Top80, fall_cluster3_label)\n",
    "# print(\"Accuracy of kmeans with n=3 on Fall2019: \", accuracyFall)"
   ]
  },
  {
   "cell_type": "code",
   "execution_count": 18,
   "metadata": {},
   "outputs": [],
   "source": [
    "CLUSTERING_FEATURE_SET_1 = ['Volume', 'Orders', 'Ordered_Units', 'Days_Ordered', 'Order_Volume']\n",
    "CLUSTERING_FEATURE_SET_2 = ['Volume', 'Orders', 'Avg_Daily_Ordered_Units', 'Days_Ordered', 'Order_Volume']\n",
    "CLUSTERING_FEATURE_SET_3 = ['Volume', 'Orders', 'Ordered_Units', 'Days_Ordered', 'Avg_Daily_Volume']\n",
    "CLUSTERING_FEATURE_SET_4 = ['Volume', 'Orders', 'Avg_Daily_Ordered_Units', 'Days_Ordered', 'Avg_Daily_Volume']\n",
    "\n",
    "dfSpring2019_Top80_kmeans = dfCatSpring2019_Top80[CLUSTERING_FEATURE_SET_4]\n",
    "dfFall2019_Top80_kmeans = dfCatFall2019_Top80[CLUSTERING_FEATURE_SET_4]"
   ]
  },
  {
   "cell_type": "code",
   "execution_count": 19,
   "metadata": {},
   "outputs": [
    {
     "data": {
      "text/html": [
       "<style  type=\"text/css\" >\n",
       "    #T_14890c18_c826_11e9_b648_605718ad0862row0_col0 {\n",
       "            background-color:  #b40426;\n",
       "            color:  #f1f1f1;\n",
       "        }    #T_14890c18_c826_11e9_b648_605718ad0862row0_col1 {\n",
       "            background-color:  #5e7de7;\n",
       "            color:  #000000;\n",
       "        }    #T_14890c18_c826_11e9_b648_605718ad0862row0_col2 {\n",
       "            background-color:  #85a8fc;\n",
       "            color:  #000000;\n",
       "        }    #T_14890c18_c826_11e9_b648_605718ad0862row0_col3 {\n",
       "            background-color:  #445acc;\n",
       "            color:  #f1f1f1;\n",
       "        }    #T_14890c18_c826_11e9_b648_605718ad0862row0_col4 {\n",
       "            background-color:  #f6bfa6;\n",
       "            color:  #000000;\n",
       "        }    #T_14890c18_c826_11e9_b648_605718ad0862row1_col0 {\n",
       "            background-color:  #5e7de7;\n",
       "            color:  #000000;\n",
       "        }    #T_14890c18_c826_11e9_b648_605718ad0862row1_col1 {\n",
       "            background-color:  #b40426;\n",
       "            color:  #f1f1f1;\n",
       "        }    #T_14890c18_c826_11e9_b648_605718ad0862row1_col2 {\n",
       "            background-color:  #f2cab5;\n",
       "            color:  #000000;\n",
       "        }    #T_14890c18_c826_11e9_b648_605718ad0862row1_col3 {\n",
       "            background-color:  #d8dce2;\n",
       "            color:  #000000;\n",
       "        }    #T_14890c18_c826_11e9_b648_605718ad0862row1_col4 {\n",
       "            background-color:  #a2c1ff;\n",
       "            color:  #000000;\n",
       "        }    #T_14890c18_c826_11e9_b648_605718ad0862row2_col0 {\n",
       "            background-color:  #85a8fc;\n",
       "            color:  #000000;\n",
       "        }    #T_14890c18_c826_11e9_b648_605718ad0862row2_col1 {\n",
       "            background-color:  #f2cab5;\n",
       "            color:  #000000;\n",
       "        }    #T_14890c18_c826_11e9_b648_605718ad0862row2_col2 {\n",
       "            background-color:  #b40426;\n",
       "            color:  #f1f1f1;\n",
       "        }    #T_14890c18_c826_11e9_b648_605718ad0862row2_col3 {\n",
       "            background-color:  #799cf8;\n",
       "            color:  #000000;\n",
       "        }    #T_14890c18_c826_11e9_b648_605718ad0862row2_col4 {\n",
       "            background-color:  #f1cdba;\n",
       "            color:  #000000;\n",
       "        }    #T_14890c18_c826_11e9_b648_605718ad0862row3_col0 {\n",
       "            background-color:  #445acc;\n",
       "            color:  #f1f1f1;\n",
       "        }    #T_14890c18_c826_11e9_b648_605718ad0862row3_col1 {\n",
       "            background-color:  #d8dce2;\n",
       "            color:  #000000;\n",
       "        }    #T_14890c18_c826_11e9_b648_605718ad0862row3_col2 {\n",
       "            background-color:  #799cf8;\n",
       "            color:  #000000;\n",
       "        }    #T_14890c18_c826_11e9_b648_605718ad0862row3_col3 {\n",
       "            background-color:  #b40426;\n",
       "            color:  #f1f1f1;\n",
       "        }    #T_14890c18_c826_11e9_b648_605718ad0862row3_col4 {\n",
       "            background-color:  #3b4cc0;\n",
       "            color:  #f1f1f1;\n",
       "        }    #T_14890c18_c826_11e9_b648_605718ad0862row4_col0 {\n",
       "            background-color:  #f6bfa6;\n",
       "            color:  #000000;\n",
       "        }    #T_14890c18_c826_11e9_b648_605718ad0862row4_col1 {\n",
       "            background-color:  #a2c1ff;\n",
       "            color:  #000000;\n",
       "        }    #T_14890c18_c826_11e9_b648_605718ad0862row4_col2 {\n",
       "            background-color:  #f1cdba;\n",
       "            color:  #000000;\n",
       "        }    #T_14890c18_c826_11e9_b648_605718ad0862row4_col3 {\n",
       "            background-color:  #3b4cc0;\n",
       "            color:  #f1f1f1;\n",
       "        }    #T_14890c18_c826_11e9_b648_605718ad0862row4_col4 {\n",
       "            background-color:  #b40426;\n",
       "            color:  #f1f1f1;\n",
       "        }</style><table id=\"T_14890c18_c826_11e9_b648_605718ad0862\" ><thead>    <tr>        <th class=\"blank level0\" ></th>        <th class=\"col_heading level0 col0\" >Volume</th>        <th class=\"col_heading level0 col1\" >Orders</th>        <th class=\"col_heading level0 col2\" >Avg_Daily_Ordered_Units</th>        <th class=\"col_heading level0 col3\" >Days_Ordered</th>        <th class=\"col_heading level0 col4\" >Avg_Daily_Volume</th>    </tr></thead><tbody>\n",
       "                <tr>\n",
       "                        <th id=\"T_14890c18_c826_11e9_b648_605718ad0862level0_row0\" class=\"row_heading level0 row0\" >Volume</th>\n",
       "                        <td id=\"T_14890c18_c826_11e9_b648_605718ad0862row0_col0\" class=\"data row0 col0\" >1</td>\n",
       "                        <td id=\"T_14890c18_c826_11e9_b648_605718ad0862row0_col1\" class=\"data row0 col1\" >-0.196251</td>\n",
       "                        <td id=\"T_14890c18_c826_11e9_b648_605718ad0862row0_col2\" class=\"data row0 col2\" >-0.0414145</td>\n",
       "                        <td id=\"T_14890c18_c826_11e9_b648_605718ad0862row0_col3\" class=\"data row0 col3\" >-0.306544</td>\n",
       "                        <td id=\"T_14890c18_c826_11e9_b648_605718ad0862row0_col4\" class=\"data row0 col4\" >0.517657</td>\n",
       "            </tr>\n",
       "            <tr>\n",
       "                        <th id=\"T_14890c18_c826_11e9_b648_605718ad0862level0_row1\" class=\"row_heading level0 row1\" >Orders</th>\n",
       "                        <td id=\"T_14890c18_c826_11e9_b648_605718ad0862row1_col0\" class=\"data row1 col0\" >-0.196251</td>\n",
       "                        <td id=\"T_14890c18_c826_11e9_b648_605718ad0862row1_col1\" class=\"data row1 col1\" >1</td>\n",
       "                        <td id=\"T_14890c18_c826_11e9_b648_605718ad0862row1_col2\" class=\"data row1 col2\" >0.466891</td>\n",
       "                        <td id=\"T_14890c18_c826_11e9_b648_605718ad0862row1_col3\" class=\"data row1 col3\" >0.303078</td>\n",
       "                        <td id=\"T_14890c18_c826_11e9_b648_605718ad0862row1_col4\" class=\"data row1 col4\" >0.0716816</td>\n",
       "            </tr>\n",
       "            <tr>\n",
       "                        <th id=\"T_14890c18_c826_11e9_b648_605718ad0862level0_row2\" class=\"row_heading level0 row2\" >Avg_Daily_Ordered_Units</th>\n",
       "                        <td id=\"T_14890c18_c826_11e9_b648_605718ad0862row2_col0\" class=\"data row2 col0\" >-0.0414145</td>\n",
       "                        <td id=\"T_14890c18_c826_11e9_b648_605718ad0862row2_col1\" class=\"data row2 col1\" >0.466891</td>\n",
       "                        <td id=\"T_14890c18_c826_11e9_b648_605718ad0862row2_col2\" class=\"data row2 col2\" >1</td>\n",
       "                        <td id=\"T_14890c18_c826_11e9_b648_605718ad0862row2_col3\" class=\"data row2 col3\" >-0.0870764</td>\n",
       "                        <td id=\"T_14890c18_c826_11e9_b648_605718ad0862row2_col4\" class=\"data row2 col4\" >0.450503</td>\n",
       "            </tr>\n",
       "            <tr>\n",
       "                        <th id=\"T_14890c18_c826_11e9_b648_605718ad0862level0_row3\" class=\"row_heading level0 row3\" >Days_Ordered</th>\n",
       "                        <td id=\"T_14890c18_c826_11e9_b648_605718ad0862row3_col0\" class=\"data row3 col0\" >-0.306544</td>\n",
       "                        <td id=\"T_14890c18_c826_11e9_b648_605718ad0862row3_col1\" class=\"data row3 col1\" >0.303078</td>\n",
       "                        <td id=\"T_14890c18_c826_11e9_b648_605718ad0862row3_col2\" class=\"data row3 col2\" >-0.0870764</td>\n",
       "                        <td id=\"T_14890c18_c826_11e9_b648_605718ad0862row3_col3\" class=\"data row3 col3\" >1</td>\n",
       "                        <td id=\"T_14890c18_c826_11e9_b648_605718ad0862row3_col4\" class=\"data row3 col4\" >-0.350194</td>\n",
       "            </tr>\n",
       "            <tr>\n",
       "                        <th id=\"T_14890c18_c826_11e9_b648_605718ad0862level0_row4\" class=\"row_heading level0 row4\" >Avg_Daily_Volume</th>\n",
       "                        <td id=\"T_14890c18_c826_11e9_b648_605718ad0862row4_col0\" class=\"data row4 col0\" >0.517657</td>\n",
       "                        <td id=\"T_14890c18_c826_11e9_b648_605718ad0862row4_col1\" class=\"data row4 col1\" >0.0716816</td>\n",
       "                        <td id=\"T_14890c18_c826_11e9_b648_605718ad0862row4_col2\" class=\"data row4 col2\" >0.450503</td>\n",
       "                        <td id=\"T_14890c18_c826_11e9_b648_605718ad0862row4_col3\" class=\"data row4 col3\" >-0.350194</td>\n",
       "                        <td id=\"T_14890c18_c826_11e9_b648_605718ad0862row4_col4\" class=\"data row4 col4\" >1</td>\n",
       "            </tr>\n",
       "    </tbody></table>"
      ],
      "text/plain": [
       "<pandas.io.formats.style.Styler at 0x18902451fd0>"
      ]
     },
     "execution_count": 19,
     "metadata": {},
     "output_type": "execute_result"
    }
   ],
   "source": [
    "corr = dfSpring2019_Top80_kmeans.corr()\n",
    "corr.style.background_gradient(cmap='coolwarm', axis=None)"
   ]
  },
  {
   "cell_type": "code",
   "execution_count": 20,
   "metadata": {},
   "outputs": [
    {
     "data": {
      "text/html": [
       "<style  type=\"text/css\" >\n",
       "    #T_14962986_c826_11e9_8100_605718ad0862row0_col0 {\n",
       "            background-color:  #b40426;\n",
       "            color:  #f1f1f1;\n",
       "        }    #T_14962986_c826_11e9_8100_605718ad0862row0_col1 {\n",
       "            background-color:  #6384eb;\n",
       "            color:  #000000;\n",
       "        }    #T_14962986_c826_11e9_8100_605718ad0862row0_col2 {\n",
       "            background-color:  #7ea1fa;\n",
       "            color:  #000000;\n",
       "        }    #T_14962986_c826_11e9_8100_605718ad0862row0_col3 {\n",
       "            background-color:  #5977e3;\n",
       "            color:  #000000;\n",
       "        }    #T_14962986_c826_11e9_8100_605718ad0862row0_col4 {\n",
       "            background-color:  #e2dad5;\n",
       "            color:  #000000;\n",
       "        }    #T_14962986_c826_11e9_8100_605718ad0862row1_col0 {\n",
       "            background-color:  #6384eb;\n",
       "            color:  #000000;\n",
       "        }    #T_14962986_c826_11e9_8100_605718ad0862row1_col1 {\n",
       "            background-color:  #b40426;\n",
       "            color:  #f1f1f1;\n",
       "        }    #T_14962986_c826_11e9_8100_605718ad0862row1_col2 {\n",
       "            background-color:  #dcdddd;\n",
       "            color:  #000000;\n",
       "        }    #T_14962986_c826_11e9_8100_605718ad0862row1_col3 {\n",
       "            background-color:  #b1cbfc;\n",
       "            color:  #000000;\n",
       "        }    #T_14962986_c826_11e9_8100_605718ad0862row1_col4 {\n",
       "            background-color:  #8db0fe;\n",
       "            color:  #000000;\n",
       "        }    #T_14962986_c826_11e9_8100_605718ad0862row2_col0 {\n",
       "            background-color:  #7ea1fa;\n",
       "            color:  #000000;\n",
       "        }    #T_14962986_c826_11e9_8100_605718ad0862row2_col1 {\n",
       "            background-color:  #dcdddd;\n",
       "            color:  #000000;\n",
       "        }    #T_14962986_c826_11e9_8100_605718ad0862row2_col2 {\n",
       "            background-color:  #b40426;\n",
       "            color:  #f1f1f1;\n",
       "        }    #T_14962986_c826_11e9_8100_605718ad0862row2_col3 {\n",
       "            background-color:  #3b4cc0;\n",
       "            color:  #f1f1f1;\n",
       "        }    #T_14962986_c826_11e9_8100_605718ad0862row2_col4 {\n",
       "            background-color:  #f2cbb7;\n",
       "            color:  #000000;\n",
       "        }    #T_14962986_c826_11e9_8100_605718ad0862row3_col0 {\n",
       "            background-color:  #5977e3;\n",
       "            color:  #000000;\n",
       "        }    #T_14962986_c826_11e9_8100_605718ad0862row3_col1 {\n",
       "            background-color:  #b1cbfc;\n",
       "            color:  #000000;\n",
       "        }    #T_14962986_c826_11e9_8100_605718ad0862row3_col2 {\n",
       "            background-color:  #3b4cc0;\n",
       "            color:  #f1f1f1;\n",
       "        }    #T_14962986_c826_11e9_8100_605718ad0862row3_col3 {\n",
       "            background-color:  #b40426;\n",
       "            color:  #f1f1f1;\n",
       "        }    #T_14962986_c826_11e9_8100_605718ad0862row3_col4 {\n",
       "            background-color:  #3b4cc0;\n",
       "            color:  #f1f1f1;\n",
       "        }    #T_14962986_c826_11e9_8100_605718ad0862row4_col0 {\n",
       "            background-color:  #e2dad5;\n",
       "            color:  #000000;\n",
       "        }    #T_14962986_c826_11e9_8100_605718ad0862row4_col1 {\n",
       "            background-color:  #8db0fe;\n",
       "            color:  #000000;\n",
       "        }    #T_14962986_c826_11e9_8100_605718ad0862row4_col2 {\n",
       "            background-color:  #f2cbb7;\n",
       "            color:  #000000;\n",
       "        }    #T_14962986_c826_11e9_8100_605718ad0862row4_col3 {\n",
       "            background-color:  #3b4cc0;\n",
       "            color:  #f1f1f1;\n",
       "        }    #T_14962986_c826_11e9_8100_605718ad0862row4_col4 {\n",
       "            background-color:  #b40426;\n",
       "            color:  #f1f1f1;\n",
       "        }</style><table id=\"T_14962986_c826_11e9_8100_605718ad0862\" ><thead>    <tr>        <th class=\"blank level0\" ></th>        <th class=\"col_heading level0 col0\" >Volume</th>        <th class=\"col_heading level0 col1\" >Orders</th>        <th class=\"col_heading level0 col2\" >Avg_Daily_Ordered_Units</th>        <th class=\"col_heading level0 col3\" >Days_Ordered</th>        <th class=\"col_heading level0 col4\" >Avg_Daily_Volume</th>    </tr></thead><tbody>\n",
       "                <tr>\n",
       "                        <th id=\"T_14962986_c826_11e9_8100_605718ad0862level0_row0\" class=\"row_heading level0 row0\" >Volume</th>\n",
       "                        <td id=\"T_14962986_c826_11e9_8100_605718ad0862row0_col0\" class=\"data row0 col0\" >1</td>\n",
       "                        <td id=\"T_14962986_c826_11e9_8100_605718ad0862row0_col1\" class=\"data row0 col1\" >-0.132241</td>\n",
       "                        <td id=\"T_14962986_c826_11e9_8100_605718ad0862row0_col2\" class=\"data row0 col2\" >-0.0321818</td>\n",
       "                        <td id=\"T_14962986_c826_11e9_8100_605718ad0862row0_col3\" class=\"data row0 col3\" >-0.172386</td>\n",
       "                        <td id=\"T_14962986_c826_11e9_8100_605718ad0862row0_col4\" class=\"data row0 col4\" >0.376825</td>\n",
       "            </tr>\n",
       "            <tr>\n",
       "                        <th id=\"T_14962986_c826_11e9_8100_605718ad0862level0_row1\" class=\"row_heading level0 row1\" >Orders</th>\n",
       "                        <td id=\"T_14962986_c826_11e9_8100_605718ad0862row1_col0\" class=\"data row1 col0\" >-0.132241</td>\n",
       "                        <td id=\"T_14962986_c826_11e9_8100_605718ad0862row1_col1\" class=\"data row1 col1\" >1</td>\n",
       "                        <td id=\"T_14962986_c826_11e9_8100_605718ad0862row1_col2\" class=\"data row1 col2\" >0.346791</td>\n",
       "                        <td id=\"T_14962986_c826_11e9_8100_605718ad0862row1_col3\" class=\"data row1 col3\" >0.155732</td>\n",
       "                        <td id=\"T_14962986_c826_11e9_8100_605718ad0862row1_col4\" class=\"data row1 col4\" >0.0254231</td>\n",
       "            </tr>\n",
       "            <tr>\n",
       "                        <th id=\"T_14962986_c826_11e9_8100_605718ad0862level0_row2\" class=\"row_heading level0 row2\" >Avg_Daily_Ordered_Units</th>\n",
       "                        <td id=\"T_14962986_c826_11e9_8100_605718ad0862row2_col0\" class=\"data row2 col0\" >-0.0321818</td>\n",
       "                        <td id=\"T_14962986_c826_11e9_8100_605718ad0862row2_col1\" class=\"data row2 col1\" >0.346791</td>\n",
       "                        <td id=\"T_14962986_c826_11e9_8100_605718ad0862row2_col2\" class=\"data row2 col2\" >1</td>\n",
       "                        <td id=\"T_14962986_c826_11e9_8100_605718ad0862row2_col3\" class=\"data row2 col3\" >-0.303482</td>\n",
       "                        <td id=\"T_14962986_c826_11e9_8100_605718ad0862row2_col4\" class=\"data row2 col4\" >0.478287</td>\n",
       "            </tr>\n",
       "            <tr>\n",
       "                        <th id=\"T_14962986_c826_11e9_8100_605718ad0862level0_row3\" class=\"row_heading level0 row3\" >Days_Ordered</th>\n",
       "                        <td id=\"T_14962986_c826_11e9_8100_605718ad0862row3_col0\" class=\"data row3 col0\" >-0.172386</td>\n",
       "                        <td id=\"T_14962986_c826_11e9_8100_605718ad0862row3_col1\" class=\"data row3 col1\" >0.155732</td>\n",
       "                        <td id=\"T_14962986_c826_11e9_8100_605718ad0862row3_col2\" class=\"data row3 col2\" >-0.303482</td>\n",
       "                        <td id=\"T_14962986_c826_11e9_8100_605718ad0862row3_col3\" class=\"data row3 col3\" >1</td>\n",
       "                        <td id=\"T_14962986_c826_11e9_8100_605718ad0862row3_col4\" class=\"data row3 col4\" >-0.303415</td>\n",
       "            </tr>\n",
       "            <tr>\n",
       "                        <th id=\"T_14962986_c826_11e9_8100_605718ad0862level0_row4\" class=\"row_heading level0 row4\" >Avg_Daily_Volume</th>\n",
       "                        <td id=\"T_14962986_c826_11e9_8100_605718ad0862row4_col0\" class=\"data row4 col0\" >0.376825</td>\n",
       "                        <td id=\"T_14962986_c826_11e9_8100_605718ad0862row4_col1\" class=\"data row4 col1\" >0.0254231</td>\n",
       "                        <td id=\"T_14962986_c826_11e9_8100_605718ad0862row4_col2\" class=\"data row4 col2\" >0.478287</td>\n",
       "                        <td id=\"T_14962986_c826_11e9_8100_605718ad0862row4_col3\" class=\"data row4 col3\" >-0.303415</td>\n",
       "                        <td id=\"T_14962986_c826_11e9_8100_605718ad0862row4_col4\" class=\"data row4 col4\" >1</td>\n",
       "            </tr>\n",
       "    </tbody></table>"
      ],
      "text/plain": [
       "<pandas.io.formats.style.Styler at 0x18902584d68>"
      ]
     },
     "execution_count": 20,
     "metadata": {},
     "output_type": "execute_result"
    }
   ],
   "source": [
    "corr = dfFall2019_Top80_kmeans.corr()\n",
    "corr.style.background_gradient(cmap='coolwarm', axis=None)"
   ]
  },
  {
   "cell_type": "code",
   "execution_count": 21,
   "metadata": {},
   "outputs": [
    {
     "name": "stdout",
     "output_type": "stream",
     "text": [
      "\n",
      "----- Spring 2019 Cluster_Label counts with n=3 -----\n",
      "0    2329\n",
      "2     107\n",
      "1      16\n",
      "Name: Cluster3_Label, dtype: int64\n",
      "Accuracy of kmeans with n=3 on Spring2019:  0.8729016528752543\n"
     ]
    },
    {
     "data": {
      "image/png": "[encoded data removed]",
      "text/plain": [
       "<Figure size 432x288 with 1 Axes>"
      ]
     },
     "metadata": {
      "needs_background": "light"
     },
     "output_type": "display_data"
    }
   ],
   "source": [
    "# Cluster Spring 2019 by K-Means Clustering\n",
    "# Kmeans with n=3 on Spring2019 Data\n",
    "spring_cluster3_label = KMeans_clusterLabels(dfSpring2019_Top80_kmeans, 3)\n",
    "dfCatSpring2019_Top80['Cluster3_Label'] = spring_cluster3_label\n",
    "\n",
    "print(\"\\n----- Spring 2019 Cluster_Label counts with n=3 -----\")\n",
    "print(dfCatSpring2019_Top80['Cluster3_Label'].value_counts())\n",
    "\n",
    "# Clustering Accuracy : Calculate Silhouette Coefficient\n",
    "# Evaluate the 3-cluster model for Spring2019\n",
    "accuracySpring = silhouette_score(dfSpring2019_Top80_kmeans, spring_cluster3_label)\n",
    "print(\"Accuracy of kmeans with n=3 on Spring2019: \", accuracySpring)"
   ]
  },
  {
   "cell_type": "code",
   "execution_count": 22,
   "metadata": {},
   "outputs": [
    {
     "name": "stdout",
     "output_type": "stream",
     "text": [
      "\n",
      "----- Spring 2019 Cluster_Label counts with n=4 -----\n",
      "0    2314\n",
      "3     115\n",
      "1      14\n",
      "2       9\n",
      "Name: Cluster4_Label, dtype: int64\n",
      "Accuracy of kmeans with n=4 on Spring2019:  0.8601427855603824\n"
     ]
    },
    {
     "data": {
      "image/png": "[encoded data removed]",
      "text/plain": [
       "<Figure size 432x288 with 1 Axes>"
      ]
     },
     "metadata": {
      "needs_background": "light"
     },
     "output_type": "display_data"
    }
   ],
   "source": [
    "# Cluster Spring 2019 by K-Means Clustering\n",
    "# Kmeans with n=4 on Spring2019 Data\n",
    "spring_cluster4_label = KMeans_clusterLabels(dfSpring2019_Top80_kmeans, 4)\n",
    "dfCatSpring2019_Top80['Cluster4_Label'] = spring_cluster4_label\n",
    "\n",
    "print(\"\\n----- Spring 2019 Cluster_Label counts with n=4 -----\")\n",
    "print(dfCatSpring2019_Top80['Cluster4_Label'].value_counts())\n",
    "\n",
    "# Clustering Accuracy : Calculate Silhouette Coefficient\n",
    "# Evaluate the 4-cluster model for Spring2019\n",
    "accuracySpring = silhouette_score(dfSpring2019_Top80_kmeans, spring_cluster4_label)\n",
    "print(\"Accuracy of kmeans with n=4 on Spring2019: \", accuracySpring)"
   ]
  },
  {
   "cell_type": "code",
   "execution_count": 23,
   "metadata": {},
   "outputs": [
    {
     "name": "stdout",
     "output_type": "stream",
     "text": [
      "\n",
      "----- Fall 2019 Cluster_Label counts with n=3 -----\n",
      "0    3154\n",
      "2      92\n",
      "1      20\n",
      "Name: Cluster3_Label, dtype: int64\n",
      "Accuracy of kmeans with n=3 on Fall2019:  0.8909212866871662\n"
     ]
    },
    {
     "data": {
      "image/png": "[encoded data removed]",
      "text/plain": [
       "<Figure size 432x288 with 1 Axes>"
      ]
     },
     "metadata": {
      "needs_background": "light"
     },
     "output_type": "display_data"
    }
   ],
   "source": [
    "# Cluster Fall 2019 by K-Means Clustering\n",
    "# Kmeans with n=3 on Fall2019 Data\n",
    "fall_cluster3_label = KMeans_clusterLabels(dfFall2019_Top80_kmeans, 3)\n",
    "dfCatFall2019_Top80['Cluster3_Label'] = fall_cluster3_label\n",
    "\n",
    "print(\"\\n----- Fall 2019 Cluster_Label counts with n=3 -----\")\n",
    "print(dfCatFall2019_Top80['Cluster3_Label'].value_counts())\n",
    "\n",
    "# Clustering Accuracy : Calculate Silhouette Coefficient\n",
    "# Evaluate the 3-cluster model for Fall2019\n",
    "accuracyFall = silhouette_score(dfFall2019_Top80_kmeans, fall_cluster3_label)\n",
    "print(\"Accuracy of kmeans with n=3 on Fall2019: \", accuracyFall)"
   ]
  },
  {
   "cell_type": "code",
   "execution_count": 24,
   "metadata": {},
   "outputs": [
    {
     "name": "stdout",
     "output_type": "stream",
     "text": [
      "\n",
      "----- Fall 2019 Cluster_Label counts with n=4 -----\n",
      "0    3148\n",
      "2      91\n",
      "3      16\n",
      "1      11\n",
      "Name: Cluster4_Label, dtype: int64\n",
      "Accuracy of kmeans with n=4 on Fall2019:  0.8763656503858084\n"
     ]
    },
    {
     "data": {
      "image/png": "[encoded data removed]",
      "text/plain": [
       "<Figure size 432x288 with 1 Axes>"
      ]
     },
     "metadata": {
      "needs_background": "light"
     },
     "output_type": "display_data"
    }
   ],
   "source": [
    "# Cluster Fall 2019 by K-Means Clustering\n",
    "# Kmeans with n=4 on Fall2019 Data\n",
    "fall_cluster4_label = KMeans_clusterLabels(dfFall2019_Top80_kmeans, 4)\n",
    "dfCatFall2019_Top80['Cluster4_Label'] = fall_cluster4_label\n",
    "\n",
    "print(\"\\n----- Fall 2019 Cluster_Label counts with n=4 -----\")\n",
    "print(dfCatFall2019_Top80['Cluster4_Label'].value_counts())\n",
    "\n",
    "# Clustering Accuracy : Calculate Silhouette Coefficient\n",
    "# Evaluate the 4-cluster model for Fall2019\n",
    "accuracyFall = silhouette_score(dfFall2019_Top80_kmeans, fall_cluster4_label)\n",
    "print(\"Accuracy of kmeans with n=4 on Fall2019: \", accuracyFall)"
   ]
  },
  {
   "cell_type": "code",
   "execution_count": 25,
   "metadata": {},
   "outputs": [
    {
     "name": "stdout",
     "output_type": "stream",
     "text": [
      "Spring 2019 dataset shape:  (2452, 24)\n",
      "----- Feature Set ----- \n",
      " ['Experiment_Id', 'Department', 'Category', 'SubCategory', 'Material', 'Style', 'Dimension', 'ProductSize', 'Volume', 'InventorySegment', 'Color', 'UPC', 'NewProduct', 'Demand', 'Orders', 'Ordered_Units', 'Avg_Daily_Ordered_Units', 'Days_Ordered', 'Order_Volume', 'Avg_Daily_Volume', 'Cluster3_Label', 'Cluster4_Label', 'Suggested_Storage_Type', 'Class']\n",
      "\n",
      "\n",
      "Fall 2019 dataset shape:  (3266, 24)\n",
      "----- Feature Set ----- \n",
      " ['Experiment_Id', 'Department', 'Category', 'SubCategory', 'Material', 'Style', 'Dimension', 'ProductSize', 'Volume', 'InventorySegment', 'Color', 'UPC', 'NewProduct', 'Demand', 'Orders', 'Ordered_Units', 'Avg_Daily_Ordered_Units', 'Days_Ordered', 'Order_Volume', 'Avg_Daily_Volume', 'Cluster3_Label', 'Cluster4_Label', 'Suggested_Storage_Type', 'Class']\n"
     ]
    }
   ],
   "source": [
    "# Create datasets for Classification (2019, Spring2019 and Fall2019)\n",
    "# df2019 = create_Classification_Dataset(dfCat2019_Top80, df2019_Top80_kmeans_labels)\n",
    "# print(\"2019 dataset shape: \", df2019.shape)\n",
    "# print(\"----- Feature Set ----- \\n\", list(df2019.columns))\n",
    "\n",
    "dfSpring2019 = create_Classification_Dataset(dfCatSpring2019_Top80)\n",
    "print(\"Spring 2019 dataset shape: \", dfSpring2019.shape)\n",
    "print(\"----- Feature Set ----- \\n\", list(dfSpring2019.columns))\n",
    "print(\"\\n\")\n",
    "dfFall2019 = create_Classification_Dataset(dfCatFall2019_Top80)\n",
    "print(\"Fall 2019 dataset shape: \", dfFall2019.shape)\n",
    "print(\"----- Feature Set ----- \\n\", list(dfFall2019.columns))"
   ]
  },
  {
   "cell_type": "code",
   "execution_count": 26,
   "metadata": {},
   "outputs": [],
   "source": [
    "# Corelation matrix\n",
    "# corr = df2019[['Volume', 'NewProduct', 'Demand', 'Orders', 'Ordered_Units', 'Avg_Daily_Ordered_Units', 'Days_Ordered', 'Order_Volume', 'Avg_Daily_Volume']].corr()\n",
    "# corr.style.background_gradient(cmap='coolwarm', axis=None)"
   ]
  },
  {
   "cell_type": "code",
   "execution_count": 27,
   "metadata": {},
   "outputs": [],
   "source": [
    "# # Create one-vs-rest multinomial logistic regression object\n",
    "# clf = LogisticRegression(random_state=0, multi_class='multinomial', solver='newton-cg')\n",
    "# FEATURE_SET = ['Volume', 'NewProduct']\n",
    "# TARGET_CLUSTER3 = ['Cluster3_Label']\n",
    "# TARGET_CLUSTER4 = ['Cluster4_Label']\n",
    "# TARGET_CLASS = ['Class']\n",
    "\n",
    "# #2019 DATA\n",
    "# X = df2019[FEATURE_SET] # Training Set\n",
    "# y1 = df2019[TARGET_CLUSTER3] # Target: 3-cluster labels\n",
    "# y2 = df2019[TARGET_CLUSTER4] # Target: 4-cluster labels\n",
    "# y3 = df2019[TARGET_CLASS]    # Target: Class (Dale's classification)\n",
    "\n",
    "# # Train Model and get the Accuracy Score\n",
    "# # Target: 3-cluster labels of 2019\n",
    "# model1 = clf.fit(X, y1)\n",
    "# accuracy1 = model1.score(X, y1)\n",
    "# print(\"Accuracy of 2019 data with 3-cluster labels: \", accuracy1)\n",
    "\n",
    "# # Train Model and get the Accuracy Score\n",
    "# # Target: 4-cluster labels of 2019\n",
    "# model2 = clf.fit(X, y2)\n",
    "# accuracy2 = model2.score(X, y2)\n",
    "# print(\"Accuracy of 2019 data with 4-cluster labels: \", accuracy2)\n",
    "\n",
    "# # Target: Class (Dale's classification)\n",
    "# model3 = clf.fit(X, y3)\n",
    "# model3.score(X, y3)\n",
    "# accuracy3 = model3.score(X, y3)\n",
    "# print(\"Accuracy of 2019 data with class labels: \", accuracy3)\n",
    "\n",
    "# # SPRING2019 DATA\n",
    "# spring_X = dfSpring2019[FEATURE_SET] # Training Set\n",
    "# spring_y1 = dfSpring2019[TARGET_CLUSTER3] # Target: 3-cluster labels\n",
    "# spring_y2 = dfSpring2019[TARGET_CLASS]    # Target: Class (Dale's classification)\n",
    "\n",
    "# # Train Model and get the Accuracy Score\n",
    "# # Target: 3-cluster labels of Spring2019\n",
    "# spring_model1 = clf.fit(spring_X, spring_y1)\n",
    "# spring_accuracy1 = spring_model1.score(spring_X, spring_y1)\n",
    "# print(\"Accuracy of Spring 2019 data with 3-cluster labels: \", spring_accuracy1)\n",
    "\n",
    "# # Train Model and get the Accuracy Score\n",
    "# # Target: Class (Dale's classification)\n",
    "# # Target: 3-cluster labels of Spring2019\n",
    "# spring_model2 = clf.fit(spring_X, spring_y2)\n",
    "# spring_accuracy2 = spring_model2.score(spring_X, spring_y2)\n",
    "# print(\"Accuracy of Spring 2019 data with class labels: \", spring_accuracy2)\n",
    "\n",
    "# # FALL2019 DATA\n",
    "# fall_X = dfFall2019[FEATURE_SET] # Training Set\n",
    "# fall_y1 = dfFall2019[TARGET_CLUSTER3] # Target: 3-cluster labels\n",
    "# fall_y2 = dfFall2019[TARGET_CLASS]    # Target: Class (Dale's classification)\n",
    "\n",
    "# # Train Model and get the Accuracy Score\n",
    "# # Target: 3-cluster labels of Fall2019\n",
    "# fall_model1 = clf.fit(fall_X, fall_y1)\n",
    "# fall_accuracy1 = fall_model1.score(fall_X, fall_y1)\n",
    "# print(\"Accuracy of Fall 2019 data with 3-cluster labels: \", fall_accuracy1)\n",
    "\n",
    "# # Train Model and get the Accuracy Score\n",
    "# # Target: Class (Dale's classification)\n",
    "# fall_model2 = clf.fit(fall_X, fall_y2)\n",
    "# fall_accuracy2 = fall_model2.score(fall_X, fall_y2)\n",
    "# print(\"Accuracy of Fall 2019 data with class labels: \", fall_accuracy2)\n",
    "\n",
    "\n",
    "# #Nice to have if you have time https://scikit-learn.org/stable/auto_examples/linear_model/plot_logistic_multinomial.html#sphx-glr-auto-examples-linear-model-plot-logistic-multinomial-py"
   ]
  },
  {
   "cell_type": "code",
   "execution_count": null,
   "metadata": {},
   "outputs": [],
   "source": []
  }
 ],
 "metadata": {
  "kernelspec": {
   "display_name": "Python 3",
   "language": "python",
   "name": "python3"
  },
  "language_info": {
   "codemirror_mode": {
    "name": "ipython",
    "version": 3
   },
   "file_extension": ".py",
   "mimetype": "text/x-python",
   "name": "python",
   "nbconvert_exporter": "python",
   "pygments_lexer": "ipython3",
   "version": "3.7.3"
  },
  "name": "SlottingTrainingPipeline",
  "notebookId": 4085007594758113
 },
 "nbformat": 4,
 "nbformat_minor": 1
}
