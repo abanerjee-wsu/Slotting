{
 "cells": [
  {
   "cell_type": "markdown",
   "metadata": {},
   "source": [
    "### Imports"
   ]
  },
  {
   "cell_type": "code",
   "execution_count": 1,
   "metadata": {},
   "outputs": [],
   "source": [
    "import pandas as pd\n",
    "import numpy as np\n",
    "\n",
    "from sklearn.cluster import KMeans\n",
    "from sklearn.cluster import AgglomerativeClustering\n",
    "\n",
    "from scipy.spatial.distance import cdist\n",
    "from sklearn.linear_model import LogisticRegression\n",
    "from sklearn.metrics import silhouette_score\n",
    "from sklearn.preprocessing import normalize\n",
    "from sklearn import preprocessing\n",
    "from sklearn.utils import resample\n",
    "\n",
    "import statsmodels.stats.api as sms\n",
    "import statsmodels.api as sm\n",
    "from statsmodels.graphics.gofplots import qqplot\n",
    "import scipy.stats as stats\n",
    "from scipy.stats import pearsonr\n",
    "import scipy.cluster.hierarchy as shc\n",
    "\n",
    "import pylab \n",
    "\n",
    "%matplotlib inline\n",
    "import matplotlib.pyplot as plt\n",
    "import seaborn as sns; sns.set()  # for plot styling\n",
    "\n",
    "pd.set_option('display.float_format',lambda x: '%.5f' %x)\n",
    "\n",
    "import warnings\n",
    "warnings.filterwarnings(\"ignore\")"
   ]
  },
  {
   "cell_type": "markdown",
   "metadata": {},
   "source": [
    "### Load the dataset"
   ]
  },
  {
   "cell_type": "code",
   "execution_count": 2,
   "metadata": {},
   "outputs": [
    {
     "name": "stdout",
     "output_type": "stream",
     "text": [
      "----- Feature Set ----- \n",
      " ['UniqueId', 'Department', 'Category', 'SubCategory', 'Material', 'Style', 'Dimension', 'ProductSize', 'Volume', 'InventorySegment', 'Color', 'UPC', 'Season_SKU_Introduced', 'Year_SKU_Introduced', 'History_Size_Pct', 'Month', 'Season', 'Year', 'Quarter', 'PlannedUnits', 'PDXPlannedUnits', 'Orders', 'Ordered_Units', 'Avg_Daily_Ordered_Units', 'Days_Ordered', 'Order_Volume', 'Avg_Daily_Volume', 'Experiment_Id']\n"
     ]
    }
   ],
   "source": [
    "# # Load the datasets\n",
    "# dataYear = pd.read_csv(r'C:\\Users\\abandyopadhyay\\ALOKPARNA\\RCV_SLOTTING\\Dataset\\Slotting_2019.csv', header=0, encoding = 'unicode_escape')\n",
    "# print(\"----- Feature Set ----- \\n\", list(dataYear.columns))\n",
    "\n",
    "# dataYear = dataYear.fillna(0)\n",
    "\n",
    "# Load the datasets for 2018 data\n",
    "dataYear = pd.read_csv(r'C:\\Users\\abandyopadhyay\\ALOKPARNA\\RCV_SLOTTING\\Dataset\\Slotting_2018.csv', header=0, encoding = 'unicode_escape')\n",
    "print(\"----- Feature Set ----- \\n\", list(dataYear.columns))\n",
    "\n",
    "this_year = 2018\n",
    "\n",
    "dataYear = dataYear.fillna(0)"
   ]
  },
  {
   "cell_type": "markdown",
   "metadata": {},
   "source": [
    "### Function Definitions"
   ]
  },
  {
   "cell_type": "code",
   "execution_count": 3,
   "metadata": {},
   "outputs": [],
   "source": [
    "# Function to identify whether a product is new or not and add that as a feature in the dataset\n",
    "def add_new_product(data):\n",
    "    data.loc[(data.Year_SKU_Introduced < this_year) | ((data['Year_SKU_Introduced']).isnull()), 'NewProduct'] = '0' # Existing product\n",
    "    data.loc[data.Year_SKU_Introduced >= this_year, 'NewProduct'] = '1' # New product\n",
    "    return (data)"
   ]
  },
  {
   "cell_type": "code",
   "execution_count": 4,
   "metadata": {},
   "outputs": [],
   "source": [
    "# Function to add 'Demand' as a feature in the dataset\n",
    "def add_demand(data):\n",
    "    data.loc[data.PlannedUnits != 0, 'Demand'] = data['PlannedUnits']\n",
    "    data.loc[data.PlannedUnits == 0, 'Demand'] = data['PDXPlannedUnits']\n",
    "\n",
    "    return (data)"
   ]
  },
  {
   "cell_type": "code",
   "execution_count": 5,
   "metadata": {},
   "outputs": [],
   "source": [
    "# Function to Group products by Experiment Id\n",
    "def group_by_expId(data):\n",
    "    groupedData = data.groupby(['Experiment_Id']).agg({'Demand': 'sum', 'Orders': 'sum', 'Ordered_Units': 'sum', 'Days_Ordered': 'sum', 'Order_Volume': 'sum', 'Avg_Daily_Volume': 'mean'})\n",
    "    # Remove the index and flatten the dataset\n",
    "    groupedData.reset_index(inplace=True)\n",
    "    print(\"Grouped dataset (by Experiment Id) shape: \", groupedData.shape)\n",
    "    return (groupedData)"
   ]
  },
  {
   "cell_type": "code",
   "execution_count": 6,
   "metadata": {},
   "outputs": [],
   "source": [
    "# Function to Group products by Experiment Id and Seasons\n",
    "def group_by_Seasons(data):\n",
    "    groupedData = data.groupby(['Experiment_Id', 'Season']).agg({'Demand': 'sum', 'Orders': 'sum', 'Ordered_Units': 'sum', 'Days_Ordered': 'sum', 'Order_Volume': 'sum', 'Avg_Daily_Volume': 'mean'})\n",
    "    # Remove the index and flatten the dataset\n",
    "    groupedData.reset_index(inplace=True)\n",
    "    print(\"Grouped dataset (by Experiment Id and Seasons) shape: \", groupedData.shape)\n",
    "    return (groupedData)"
   ]
  },
  {
   "cell_type": "code",
   "execution_count": 7,
   "metadata": {},
   "outputs": [],
   "source": [
    "# Function to Group products by Experiment Id and Categorical Descriptions\n",
    "def group_by_Categoricals(data):\n",
    "    groupedData = data.groupby(['Experiment_Id', 'Department', 'Category', 'SubCategory', 'Material', 'Style', 'Dimension', 'ProductSize', 'Volume', 'InventorySegment', 'Color', 'UPC', 'NewProduct']).agg({'Demand': 'sum', 'Orders': 'sum','Ordered_Units': 'sum', 'Avg_Daily_Ordered_Units': 'mean', 'Days_Ordered': 'sum', 'Order_Volume': 'sum', 'Avg_Daily_Volume': 'mean'})\n",
    "    # Remove index and flatten the dataset\n",
    "    groupedData.reset_index(inplace=True)\n",
    "    print(\"Grouped dataset (Experiment Id and Categoricals) shape: \", groupedData.shape)\n",
    "    return (groupedData)"
   ]
  },
  {
   "cell_type": "code",
   "execution_count": 8,
   "metadata": {},
   "outputs": [],
   "source": [
    "# Function to Group products by Experiment Id, Seasons and Categorical Descriptions\n",
    "def group_by_SeasonsAndCategoricals(data):\n",
    "    groupedData = data.groupby(['Experiment_Id', 'Season', 'Department', 'Category', 'SubCategory', 'Material', 'Style', 'Dimension', 'ProductSize', 'Volume', 'InventorySegment', 'Color', 'UPC', 'NewProduct']).agg({'Demand': 'sum', 'Orders': 'sum','Ordered_Units': 'sum', 'Avg_Daily_Ordered_Units': 'mean', 'Days_Ordered': 'sum', 'Order_Volume': 'sum', 'Avg_Daily_Volume': 'mean'})\n",
    "    # Remove index and flatten the dataset\n",
    "    groupedData.reset_index(inplace=True)\n",
    "    print(\"\\nGrouped dataset (Experiment Id, Seasons and Categoricals) shape: \", groupedData.shape)\n",
    "    return (groupedData)"
   ]
  },
  {
   "cell_type": "code",
   "execution_count": 9,
   "metadata": {},
   "outputs": [],
   "source": [
    "# Function to select the Top80 selling products\n",
    "def get_Top80(data):\n",
    "    # Calculate % Ordered_Units \n",
    "    totalOrdUnits = data['Ordered_Units'].sum()\n",
    "    data['Pct_OrdUnits'] = (data['Ordered_Units']/totalOrdUnits)*100\n",
    "\n",
    "    # Sort the dataset based on % Ordered_Units \n",
    "    data = data.sort_values('Pct_OrdUnits',ascending=False)\n",
    "    data['Cumsum_Pct_OrdUnits'] = data['Pct_OrdUnits'].cumsum()\n",
    "\n",
    "    # Find the orders with Top 80 sales (ordered units)\n",
    "    dataTop80 = data[data.Cumsum_Pct_OrdUnits <= 80]\n",
    "\n",
    "    # Drop the Pct_OrdUnits and Cumsum_Pct_OrdUnits columns\n",
    "    dataTop80 = dataTop80.drop(['Pct_OrdUnits', 'Cumsum_Pct_OrdUnits'], axis=1)\n",
    "\n",
    "    print(\"Dataset shape after retaining the Top80 selling products: \", dataTop80.shape)\n",
    "    return (dataTop80)"
   ]
  },
  {
   "cell_type": "code",
   "execution_count": 10,
   "metadata": {},
   "outputs": [],
   "source": [
    "# Function for K-Means clustering\n",
    "def KMeans_clusterLabels(data, n):# Cluster data using k-means and get the cluster labels\n",
    "    model = KMeans(n_clusters=n, random_state=1)\n",
    "    model.fit(data)\n",
    "    model_p = model.predict(data)\n",
    "    # Get cluster labels\n",
    "    cluster_label = model.labels_\n",
    "    #Plot the clusters\n",
    "    plt.scatter(data.iloc[:, 0], data.iloc[:, 1], c=cluster_label, s=50, cmap='viridis')\n",
    "    centers = model.cluster_centers_\n",
    "    plt.scatter(centers[:, 0], centers[:, 1], c='black', s=200, alpha=0.5)\n",
    "    \n",
    "    # Recoding the Cluster '0' as Cluster 'n'\n",
    "    for i in range(len(cluster_label)): \n",
    "        if cluster_label[i] == 0:\n",
    "            cluster_label[i] = n\n",
    "    \n",
    "    return (cluster_label)"
   ]
  },
  {
   "cell_type": "code",
   "execution_count": 11,
   "metadata": {},
   "outputs": [],
   "source": [
    "# Function for Agglomerative clustering\n",
    "def Agglomerative_clusterLabels(data_scaled, n):# Cluster data using k-means and get the cluster labels\n",
    "    model = AgglomerativeClustering(n_clusters=n, affinity='euclidean', linkage='ward')\n",
    "    model.fit_predict(data_scaled)\n",
    "    # Get cluster labels\n",
    "    cluster_label = model.labels_\n",
    "    #Plot the clusters\n",
    "    plt.scatter(data.iloc[:, 0], data.iloc[:, 1], c=cluster_label, s=50, cmap='viridis')\n",
    "\n",
    "    # Recoding the Cluster '0' as Cluster 'n'\n",
    "    for i in range(len(cluster_label)): \n",
    "        if cluster_label[i] == 0:\n",
    "            cluster_label[i] = n\n",
    "    \n",
    "    return (cluster_label)"
   ]
  },
  {
   "cell_type": "code",
   "execution_count": 12,
   "metadata": {},
   "outputs": [],
   "source": [
    "# Function for adding binary values for ClusterLabels\n",
    "def add_binary_response_Kmeans_clusterLabels(data):\n",
    "    data.loc[data.KMeans_Cluster3_Label == 1, 'Cluster_1'] = '1'\n",
    "    data.loc[data.KMeans_Cluster3_Label != 1, 'Cluster_1'] = '0'\n",
    "    \n",
    "    data.loc[data.KMeans_Cluster3_Label == 2, 'Cluster_2'] = '1'\n",
    "    data.loc[data.KMeans_Cluster3_Label != 2, 'Cluster_2'] = '0'\n",
    "    \n",
    "    data.loc[data.KMeans_Cluster3_Label == 3, 'Cluster_3'] = '1'\n",
    "    data.loc[data.KMeans_Cluster3_Label != 3, 'Cluster_3'] = '0'\n",
    "    \n",
    "    return (data)"
   ]
  },
  {
   "cell_type": "code",
   "execution_count": 13,
   "metadata": {},
   "outputs": [],
   "source": [
    "# Function for creating Classification Dataset\n",
    "def create_Classification_Dataset(data):\n",
    "    # Add the new feature 'Suggested_Storage_Type' and the target 'Class' based on the 'Avg_Daily_Volume'\n",
    "    data.loc[data.Avg_Daily_Volume <= 4216.22, 'Suggested_Storage_Type'] = 'Flat Rack'\n",
    "    data.loc[data.Avg_Daily_Volume <= 4216.22, 'Class'] = '1'\n",
    "    data.loc[(data.Avg_Daily_Volume > 4216.22) & (data.Avg_Daily_Volume <= 21081.6), 'Suggested_Storage_Type'] = 'Flow Rack' \n",
    "    data.loc[(data.Avg_Daily_Volume > 4216.22) & (data.Avg_Daily_Volume <= 21081.6), 'Class'] = '2' \n",
    "    data.loc[data.Avg_Daily_Volume > 21081.6, 'Suggested_Storage_Type'] = 'Big Pack'\n",
    "    data.loc[data.Avg_Daily_Volume > 21081.6, 'Class'] = '3'\n",
    "\n",
    "    return (data)"
   ]
  },
  {
   "cell_type": "code",
   "execution_count": 14,
   "metadata": {},
   "outputs": [],
   "source": [
    "# Function to calculate Pearson Co-edfficient and p-values of a matrix\n",
    "def corrcoef_loop(matrix):\n",
    "    rows, cols = matrix.shape[0], matrix.shape[1]\n",
    "    r = np.ones(shape=(rows, rows))\n",
    "    p = np.ones(shape=(rows, rows))\n",
    "    for i in range(rows):\n",
    "        for j in range(i+1, rows):\n",
    "            r_, p_ = pearsonr(matrix[i], matrix[j])\n",
    "            r[i, j] = r[j, i] = r_\n",
    "            p[i, j] = p[j, i] = p_\n",
    "    return r, p"
   ]
  },
  {
   "cell_type": "code",
   "execution_count": 15,
   "metadata": {},
   "outputs": [],
   "source": [
    "# Function for Histogram plot\n",
    "def plot_Histograms(data):\n",
    "    fig, ax = plt.subplots(1, 2, figsize=(20,4))\n",
    "    volume = data['Volume'].values\n",
    "    sns.distplot(volume, ax=ax[0], color='r')\n",
    "    ax[0].set_title('Distribution of Volume', fontsize=14)\n",
    "    ax[0].set_xlim([min(volume), max(volume)])\n",
    "\n",
    "    orders = data['Orders'].values\n",
    "    sns.distplot(orders, ax=ax[1], color='b')\n",
    "    ax[1].set_title('Distribution of Orders', fontsize=14)\n",
    "    ax[1].set_xlim([min(orders), max(orders)])\n",
    "    \n",
    "    fig, ax = plt.subplots(1, 2, figsize=(20,4))\n",
    "    ordered_Units = data['Ordered_Units'].values\n",
    "    sns.distplot(ordered_Units, ax=ax[0], color='g')\n",
    "    ax[0].set_title('Distribution of Ordered_Units', fontsize=14)\n",
    "    ax[0].set_xlim([min(ordered_Units), max(ordered_Units)])\n",
    "    \n",
    "    avg_Daily_Ordered_Units = data['Avg_Daily_Ordered_Units'].values\n",
    "    sns.distplot(avg_Daily_Ordered_Units, ax=ax[1], color='m')\n",
    "    ax[1].set_title('Distribution of Avg_Daily_Ordered_Units', fontsize=14)\n",
    "    ax[1].set_xlim([min(avg_Daily_Ordered_Units), max(avg_Daily_Ordered_Units)])\n",
    "    \n",
    "    fig, ax = plt.subplots(1, 2, figsize=(20,4))\n",
    "    days_Ordered = data['Days_Ordered'].values\n",
    "    sns.distplot(days_Ordered, ax=ax[0], color='r')\n",
    "    ax[0].set_title('Distribution of Days_Ordered', fontsize=14)\n",
    "    ax[0].set_xlim([min(days_Ordered), max(days_Ordered)])\n",
    "    \n",
    "    order_Volume = data['Order_Volume'].values\n",
    "    sns.distplot(order_Volume, ax=ax[1], color='b')\n",
    "    ax[1].set_title('Distribution of Order_Volume', fontsize=14)\n",
    "    ax[1].set_xlim([min(order_Volume), max(order_Volume)])    \n",
    "    \n",
    "    fig, ax = plt.subplots(1, 2, figsize=(20,4))\n",
    "    avg_Daily_Volume = data['Avg_Daily_Volume'].values\n",
    "    sns.distplot(avg_Daily_Volume, ax=ax[0], color='g')\n",
    "    ax[0].set_title('Distribution of Avg_Daily_Volume', fontsize=14)\n",
    "    ax[0].set_xlim([min(avg_Daily_Volume), max(avg_Daily_Volume)])"
   ]
  },
  {
   "cell_type": "code",
   "execution_count": 16,
   "metadata": {},
   "outputs": [],
   "source": [
    "# Function for KSTest and QQplot\n",
    "def ksTest_QQPlots(data):\n",
    "    print(\"Volume: \", stats.kstest(data['Volume'], 'norm'))\n",
    "    qqplot(data['Volume'], line='s')\n",
    "    plt.show()\n",
    "    print(\"Orders: \", stats.kstest(data['Orders'], 'norm'))\n",
    "    qqplot(data['Orders'], line='s')\n",
    "    plt.show()\n",
    "    print(\"Ordered_Units: \", stats.kstest(data['Ordered_Units'], 'norm'))\n",
    "    qqplot(data['Ordered_Units'], line='s')\n",
    "    plt.show()\n",
    "    print(\"Avg_Daily_Ordered_Units: \", stats.kstest(data['Avg_Daily_Ordered_Units'], 'norm'))\n",
    "    qqplot(data['Avg_Daily_Ordered_Units'], line='s')\n",
    "    plt.show()\n",
    "    print(\"Days_Ordered: \", stats.kstest(data['Days_Ordered'], 'norm'))\n",
    "    qqplot(data['Days_Ordered'], line='s')\n",
    "    plt.show()\n",
    "    print(\"Order_Volume: \", stats.kstest(data['Order_Volume'], 'norm'))\n",
    "    qqplot(data['Order_Volume'], line='s')\n",
    "    plt.show()\n",
    "    print(\"Avg_Daily_Volume: \", stats.kstest(data['Avg_Daily_Volume'], 'norm'))\n",
    "    qqplot(data['Avg_Daily_Volume'], line='s')\n",
    "    plt.show()"
   ]
  },
  {
   "cell_type": "markdown",
   "metadata": {},
   "source": [
    "### Dataset ETL and Selection of Top80 Sales"
   ]
  },
  {
   "cell_type": "code",
   "execution_count": 17,
   "metadata": {
    "scrolled": true
   },
   "outputs": [
    {
     "name": "stdout",
     "output_type": "stream",
     "text": [
      "0: Existing Product; 1: New Product\n",
      "0    131966\n",
      "1     25081\n",
      "Name: NewProduct, dtype: int64\n",
      "\n",
      "Grouped dataset (Experiment Id, Seasons and Categoricals) shape:  (33005, 21)\n",
      "Spring with categorical dataset shape:  (15050, 20)\n",
      "Fall with categorical dataset shape:  (17955, 20)\n",
      "Dataset shape after retaining the Top80 selling products:  (2280, 20)\n",
      "Dataset shape after retaining the Top80 selling products:  (2548, 20)\n",
      "\n",
      "----- Feature Set : dfSpring_Top80 ----- \n",
      " ['Experiment_Id', 'Department', 'Category', 'SubCategory', 'Material', 'Style', 'Dimension', 'ProductSize', 'Volume', 'InventorySegment', 'Color', 'UPC', 'NewProduct', 'Demand', 'Orders', 'Ordered_Units', 'Avg_Daily_Ordered_Units', 'Days_Ordered', 'Order_Volume', 'Avg_Daily_Volume']\n",
      "\n",
      "----- Feature Set : dfFall_Top80 ----- \n",
      " ['Experiment_Id', 'Department', 'Category', 'SubCategory', 'Material', 'Style', 'Dimension', 'ProductSize', 'Volume', 'InventorySegment', 'Color', 'UPC', 'NewProduct', 'Demand', 'Orders', 'Ordered_Units', 'Avg_Daily_Ordered_Units', 'Days_Ordered', 'Order_Volume', 'Avg_Daily_Volume']\n"
     ]
    }
   ],
   "source": [
    "# Remove those Data for which there are no Orders\n",
    "dfOrders = dataYear[dataYear.Orders != 0]\n",
    "\n",
    "# Add a new feature to identify whether a product is New or Existing\n",
    "dfOrders = add_new_product(dfOrders)\n",
    "print(\"0: Existing Product; 1: New Product\")\n",
    "print(dfOrders['NewProduct'].value_counts())\n",
    "\n",
    "# Add a new feature 'Demand'\n",
    "dfOrders = add_demand(dfOrders)\n",
    "\n",
    "# Group yearly dataset by Experiment_Id, Seasons and Categoricals\n",
    "groupedSeasons = group_by_SeasonsAndCategoricals(dfOrders)\n",
    "\n",
    "groupedSpring = groupedSeasons.loc[groupedSeasons['Season'] == 0].drop(['Season'], axis=1)\n",
    "groupedFall = groupedSeasons.loc[groupedSeasons['Season'] == 1].drop(['Season'], axis=1)\n",
    "print(\"Spring with categorical dataset shape: \", groupedSpring.shape)\n",
    "print(\"Fall with categorical dataset shape: \", groupedFall.shape)\n",
    "\n",
    "dfSpring_Top80 = get_Top80(groupedSpring)\n",
    "dfFall_Top80 = get_Top80(groupedFall)\n",
    "\n",
    "print(\"\\n----- Feature Set : dfSpring_Top80 ----- \\n\", list(dfSpring_Top80.columns))\n",
    "print(\"\\n----- Feature Set : dfFall_Top80 ----- \\n\", list(dfFall_Top80.columns))"
   ]
  },
  {
   "cell_type": "markdown",
   "metadata": {},
   "source": [
    "### Data Transformation and Visualization"
   ]
  },
  {
   "cell_type": "code",
   "execution_count": 18,
   "metadata": {},
   "outputs": [],
   "source": [
    "# dataSpring = dfSpring_Top80[['Volume', 'Orders', 'Ordered_Units', 'Avg_Daily_Ordered_Units', 'Days_Ordered', 'Order_Volume', 'Avg_Daily_Volume']]\n",
    "\n",
    "# # Data Normalization\n",
    "# data_normed_Spring = normalize(dataSpring)\n",
    "# data_normed_Spring = pd.DataFrame(data_normed_Spring, columns=dataSpring.columns)\n",
    "\n",
    "# # Data Standard Scaler\n",
    "# # Create scaler\n",
    "# scaler = preprocessing.StandardScaler()\n",
    "# # Transform the feature\n",
    "# data_scaled_Spring = scaler.fit_transform(dataSpring)\n",
    "# data_scaled_Spring = pd.DataFrame(data_scaled_Spring, columns=dataSpring.columns)\n",
    "\n",
    "# Plot Histograms for Raw Data, Normalized Data and Standard-Scaled Data\n",
    "# plot_Histograms(dataSpring)\n",
    "# plot_Histograms(data_normed_Spring)\n",
    "# plot_Histograms(data_scaled_Spring)\n",
    "\n",
    "# KSTest and QQPlots for Raw Data, Normalized Data and Standard-Scaled Data\n",
    "# ksTest_QQPlots(dataSpring)\n",
    "# ksTest_QQPlots(data_normed_Spring)\n",
    "# ksTest_QQPlots(data_scaled_Spring)"
   ]
  },
  {
   "cell_type": "code",
   "execution_count": 19,
   "metadata": {},
   "outputs": [],
   "source": [
    "# dataFall = dfFall_Top80[['Volume', 'Orders', 'Ordered_Units', 'Avg_Daily_Ordered_Units', 'Days_Ordered', 'Order_Volume', 'Avg_Daily_Volume']]\n",
    "\n",
    "# # Data normalization\n",
    "# data_normed_Fall = normalize(dataFall)\n",
    "# data_normed_Fall = pd.DataFrame(data_normed_Fall, columns=dataFall.columns)\n",
    "\n",
    "# # Data Standard Scaler\n",
    "# # Create scaler\n",
    "# scaler = preprocessing.StandardScaler()\n",
    "# # Transform the feature\n",
    "# data_scaled_Fall = scaler.fit_transform(dataFall)\n",
    "# data_scaled_Fall = pd.DataFrame(data_scaled_Fall, columns=dataFall.columns)\n",
    "\n",
    "# Plot Histograms for Raw Data, Normalized Data and Standard-Scaled Data\n",
    "# plot_Histograms(dataFall)\n",
    "# plot_Histograms(data_normed_Fall)\n",
    "# plot_Histograms(data_scaled_Fall)\n",
    "\n",
    "# KSTest and QQPlots for Raw Data, Normalized Data and Standard-Scaled Data\n",
    "# ksTest_QQPlots(dataFall)\n",
    "# ksTest_QQPlots(data_normed_Fall)\n",
    "# ksTest_QQPlots(data_scaled_Fall)"
   ]
  },
  {
   "cell_type": "markdown",
   "metadata": {},
   "source": [
    "### Feature Selection for Clustering"
   ]
  },
  {
   "cell_type": "code",
   "execution_count": 20,
   "metadata": {},
   "outputs": [],
   "source": [
    "CLUSTERING_FEATURE_SET_1 = ['Volume', 'Orders', 'Ordered_Units', 'Days_Ordered', 'Order_Volume']\n",
    "CLUSTERING_FEATURE_SET_2 = ['Volume', 'Orders', 'Avg_Daily_Ordered_Units', 'Days_Ordered', 'Order_Volume']\n",
    "CLUSTERING_FEATURE_SET_3 = ['Volume', 'Orders', 'Ordered_Units', 'Days_Ordered', 'Avg_Daily_Volume']\n",
    "CLUSTERING_FEATURE_SET_4 = ['Volume', 'Orders', 'Avg_Daily_Ordered_Units', 'Days_Ordered', 'Avg_Daily_Volume']\n",
    "\n",
    "CLUSTERING_FEATURE_SET = CLUSTERING_FEATURE_SET_4\n",
    "\n",
    "dfSpring_clust = dfSpring_Top80[CLUSTERING_FEATURE_SET]\n",
    "dfFall_clust = dfFall_Top80[CLUSTERING_FEATURE_SET]"
   ]
  },
  {
   "cell_type": "code",
   "execution_count": 21,
   "metadata": {},
   "outputs": [],
   "source": [
    "# Bootstrap Resampling\n",
    "# from sklearn.utils import resample\n",
    "# # prepare bootstrap sample\n",
    "# bootSpring = resample(dfSpring_clust, replace=True)\n",
    "# bootFall = resample(dfFall_clust, replace=True)"
   ]
  },
  {
   "cell_type": "markdown",
   "metadata": {},
   "source": [
    "### Calculate Corelation of Selected Features"
   ]
  },
  {
   "cell_type": "code",
   "execution_count": 22,
   "metadata": {
    "scrolled": true
   },
   "outputs": [],
   "source": [
    "# corr_Spring = dfSpring_clust.corr()\n",
    "# corr_Spring.style.background_gradient(cmap='coolwarm', axis=None)"
   ]
  },
  {
   "cell_type": "code",
   "execution_count": 23,
   "metadata": {},
   "outputs": [],
   "source": [
    "# corr_Fall = dfFall_clust.corr()\n",
    "# corr_Fall.style.background_gradient(cmap='coolwarm', axis=None)"
   ]
  },
  {
   "cell_type": "markdown",
   "metadata": {},
   "source": [
    "### Calculate 'p-value' of Corelation matrix"
   ]
  },
  {
   "cell_type": "code",
   "execution_count": 24,
   "metadata": {},
   "outputs": [],
   "source": [
    "# # Find p-values (p) of Spring Corelation Matrix\n",
    "# r, p = corrcoef_loop(corr_Spring.values)\n",
    "\n",
    "# # Convert the p-value matrix into a dataframe for plotting\n",
    "# p_df = pd.DataFrame(p)\n",
    "# p_df.columns = CLUSTERING_FEATURE_SET\n",
    "# p_df.index = CLUSTERING_FEATURE_SET\n",
    "\n",
    "# p_df.style.background_gradient(cmap='coolwarm', axis=None)"
   ]
  },
  {
   "cell_type": "code",
   "execution_count": 25,
   "metadata": {},
   "outputs": [],
   "source": [
    "# # Find p-values (p) of Fall Corelation Matrix\n",
    "# r, p = corrcoef_loop(corr_Fall.values)\n",
    "\n",
    "# # Convert the p-value matrix into a dataframe for plotting\n",
    "# p_df = pd.DataFrame(p)\n",
    "# p_df.columns = CLUSTERING_FEATURE_SET\n",
    "# p_df.index = CLUSTERING_FEATURE_SET\n",
    "\n",
    "# p_df.style.background_gradient(cmap='coolwarm', axis=None)"
   ]
  },
  {
   "cell_type": "markdown",
   "metadata": {},
   "source": [
    "### Calculate 'Confidence Interval' of clustering dataset"
   ]
  },
  {
   "cell_type": "code",
   "execution_count": 26,
   "metadata": {},
   "outputs": [],
   "source": [
    "# # Calculate confidence interval of Spring dataset\n",
    "# confInt_Spring =  pd.DataFrame(sms.DescrStatsW(dfSpring_clust).tconfint_mean(),\n",
    "#                                columns=CLUSTERING_FEATURE_SET)\n",
    "# print('\\n----- Confidence interval of Spring dataset -----\\n\\n', confInt_Spring)\n",
    "\n",
    "# # Calculate confidence interval of Fall dataset\n",
    "# confInt_Fall = pd.DataFrame(sms.DescrStatsW(dfFall_clust).tconfint_mean(),\n",
    "#                             columns=CLUSTERING_FEATURE_SET)\n",
    "# print('\\n----- Confidence interval of Fall dataset -----\\n\\n', confInt_Fall)"
   ]
  },
  {
   "cell_type": "markdown",
   "metadata": {},
   "source": [
    "### Agglomerative Clustering"
   ]
  },
  {
   "cell_type": "code",
   "execution_count": 27,
   "metadata": {},
   "outputs": [],
   "source": [
    "# data = dfSpring_clust.copy()\n",
    "# data_scaled = normalize(data)\n",
    "# data_scaled = pd.DataFrame(data_scaled, columns=data.columns)\n",
    "\n",
    "# plt.figure(figsize=(10, 7))  \n",
    "# plt.title(\"Dendrograms\")  \n",
    "# dend = shc.dendrogram(shc.linkage(data_scaled, method='ward'))"
   ]
  },
  {
   "cell_type": "code",
   "execution_count": 28,
   "metadata": {},
   "outputs": [],
   "source": [
    "# # Cluster Spring data by Agglomerative Clustering\n",
    "# # Agglomerative with n=3\n",
    "# cluster_label = Agglomerative_clusterLabels(data_scaled, 3)\n",
    "\n",
    "# dfSpring_Top80['Agglo_Cluster3_Label'] = cluster_label\n",
    "# print(\"\\n----- Spring Cluster_Label counts with Agglomerative n=3 -----\")\n",
    "# print(dfSpring_Top80['Agglo_Cluster3_Label'].value_counts())\n",
    "\n",
    "# # Clustering Accuracy : Calculate Silhouette Coefficient\n",
    "# # Evaluate the cluster model for Spring data\n",
    "# accuracySpring = silhouette_score(data_scaled, cluster_label)\n",
    "# print(\"Accuracy of Agglomerative with n=3 on Spring data: \", accuracySpring)"
   ]
  },
  {
   "cell_type": "code",
   "execution_count": 29,
   "metadata": {},
   "outputs": [],
   "source": [
    "# data = dfFall_clust.copy()\n",
    "# data_scaled = normalize(data)\n",
    "# data_scaled = pd.DataFrame(data_scaled, columns=data.columns)\n",
    "\n",
    "# plt.figure(figsize=(10, 7))  \n",
    "# plt.title(\"Dendrograms\")  \n",
    "# dend = shc.dendrogram(shc.linkage(data_scaled, method='ward'))"
   ]
  },
  {
   "cell_type": "code",
   "execution_count": 30,
   "metadata": {},
   "outputs": [],
   "source": [
    "# # Cluster Fall data by Agglomerative Clustering\n",
    "# # Agglomerative with n=3\n",
    "# cluster_label = Agglomerative_clusterLabels(data_scaled, 3)\n",
    "\n",
    "# dfFall_Top80['Agglo_Cluster3_Label'] = cluster_label\n",
    "# print(\"\\n----- Fall Cluster_Label counts with Agglomerative n=3 -----\")\n",
    "# print(dfFall_Top80['Agglo_Cluster3_Label'].value_counts())\n",
    "\n",
    "# # Clustering Accuracy : Calculate Silhouette Coefficient\n",
    "# # Evaluate the cluster model for Fall data\n",
    "# accuracyFall = silhouette_score(data_scaled, cluster_label)\n",
    "# print(\"Accuracy of Agglomerative with n=3 on Fall data: \", accuracyFall)"
   ]
  },
  {
   "cell_type": "markdown",
   "metadata": {},
   "source": [
    "### K-Means Clustering"
   ]
  },
  {
   "cell_type": "code",
   "execution_count": 31,
   "metadata": {},
   "outputs": [
    {
     "name": "stdout",
     "output_type": "stream",
     "text": [
      "\n",
      "----- Spring Cluster_Label counts with KMeans n=3 -----\n",
      "3    2193\n",
      "2      80\n",
      "1       7\n",
      "Name: KMeans_Cluster3_Label, dtype: int64\n",
      "Accuracy of KMeans with n=3 on Spring data:  0.8342666372524808\n"
     ]
    },
    {
     "data": {
      "image/png": "[encoded data removed]",
      "text/plain": [
       "<Figure size 432x288 with 1 Axes>"
      ]
     },
     "metadata": {
      "needs_background": "light"
     },
     "output_type": "display_data"
    }
   ],
   "source": [
    "# Cluster Spring by K-Means Clustering\n",
    "# Kmeans with n=3 on Spring Data\n",
    "spring_cluster3_label = KMeans_clusterLabels(dfSpring_clust, 3)\n",
    "dfSpring_Top80['KMeans_Cluster3_Label'] = spring_cluster3_label\n",
    "\n",
    "print(\"\\n----- Spring Cluster_Label counts with KMeans n=3 -----\")\n",
    "print(dfSpring_Top80['KMeans_Cluster3_Label'].value_counts())\n",
    "\n",
    "# Clustering Accuracy : Calculate Silhouette Coefficient\n",
    "# Evaluate the 3-cluster model for Spring\n",
    "accuracySpring = silhouette_score(dfSpring_clust, spring_cluster3_label)\n",
    "print(\"Accuracy of KMeans with n=3 on Spring data: \", accuracySpring)\n",
    "\n",
    "# Add binary response values for each Cluster Labels\n",
    "dfSpring_Top80 = add_binary_response_Kmeans_clusterLabels(dfSpring_Top80)"
   ]
  },
  {
   "cell_type": "code",
   "execution_count": 32,
   "metadata": {},
   "outputs": [
    {
     "name": "stdout",
     "output_type": "stream",
     "text": [
      "\n",
      "----- Fall Cluster_Label counts with KMeans n=3 -----\n",
      "3    2483\n",
      "2      51\n",
      "1      14\n",
      "Name: KMeans_Cluster3_Label, dtype: int64\n",
      "Accuracy of KMeans with n=3 on Fall data:  0.9080083963489669\n"
     ]
    },
    {
     "data": {
      "image/png": "[encoded data removed]",
      "text/plain": [
       "<Figure size 432x288 with 1 Axes>"
      ]
     },
     "metadata": {
      "needs_background": "light"
     },
     "output_type": "display_data"
    }
   ],
   "source": [
    "# Cluster Fall by K-Means Clustering\n",
    "# Kmeans with n=3 on Fall Data\n",
    "fall_cluster3_label = KMeans_clusterLabels(dfFall_clust, 3)\n",
    "dfFall_Top80['KMeans_Cluster3_Label'] = fall_cluster3_label\n",
    "\n",
    "print(\"\\n----- Fall Cluster_Label counts with KMeans n=3 -----\")\n",
    "print(dfFall_Top80['KMeans_Cluster3_Label'].value_counts())\n",
    "\n",
    "# Clustering Accuracy : Calculate Silhouette Coefficient\n",
    "# Evaluate the 3-cluster model for Fall\n",
    "accuracyFall = silhouette_score(dfFall_clust, fall_cluster3_label)\n",
    "print(\"Accuracy of KMeans with n=3 on Fall data: \", accuracyFall)\n",
    "\n",
    "# Add binary response values for each Cluster Labels\n",
    "dfFall_Top80 = add_binary_response_Kmeans_clusterLabels(dfFall_Top80)"
   ]
  },
  {
   "cell_type": "code",
   "execution_count": 33,
   "metadata": {},
   "outputs": [
    {
     "name": "stdout",
     "output_type": "stream",
     "text": [
      "Spring dataset shape:  (2280, 26)\n",
      "----- Feature Set ----- \n",
      " ['Experiment_Id', 'Department', 'Category', 'SubCategory', 'Material', 'Style', 'Dimension', 'ProductSize', 'Volume', 'InventorySegment', 'Color', 'UPC', 'NewProduct', 'Demand', 'Orders', 'Ordered_Units', 'Avg_Daily_Ordered_Units', 'Days_Ordered', 'Order_Volume', 'Avg_Daily_Volume', 'KMeans_Cluster3_Label', 'Cluster_1', 'Cluster_2', 'Cluster_3', 'Suggested_Storage_Type', 'Class']\n",
      "\n",
      "\n",
      "Fall dataset shape:  (2548, 26)\n",
      "----- Feature Set ----- \n",
      " ['Experiment_Id', 'Department', 'Category', 'SubCategory', 'Material', 'Style', 'Dimension', 'ProductSize', 'Volume', 'InventorySegment', 'Color', 'UPC', 'NewProduct', 'Demand', 'Orders', 'Ordered_Units', 'Avg_Daily_Ordered_Units', 'Days_Ordered', 'Order_Volume', 'Avg_Daily_Volume', 'KMeans_Cluster3_Label', 'Cluster_1', 'Cluster_2', 'Cluster_3', 'Suggested_Storage_Type', 'Class']\n"
     ]
    }
   ],
   "source": [
    "# Create datasets for Classification (Spring and Fall)\n",
    "dfSpring = create_Classification_Dataset(dfSpring_Top80)\n",
    "print(\"Spring dataset shape: \", dfSpring.shape)\n",
    "print(\"----- Feature Set ----- \\n\", list(dfSpring.columns))\n",
    "print(\"\\n\")\n",
    "dfFall = create_Classification_Dataset(dfFall_Top80)\n",
    "print(\"Fall dataset shape: \", dfFall.shape)\n",
    "print(\"----- Feature Set ----- \\n\", list(dfFall.columns))"
   ]
  },
  {
   "cell_type": "code",
   "execution_count": 34,
   "metadata": {},
   "outputs": [],
   "source": [
    "## Box-plots\n",
    "# sns.boxplot(x='Suggested_Storage_Type', y='Avg_Daily_Volume', data=dfSpring, showfliers=False)\n",
    "# sns.boxplot(x='Agglo_Cluster3_Label', y='Avg_Daily_Volume', data=dfSpring, showfliers=False)\n",
    "# sns.boxplot(x='KMeans_Cluster3_Label', y='Avg_Daily_Volume', data=dfSpring, showfliers=False)\n",
    "# sns.boxplot(x='Suggested_Storage_Type', y='Avg_Daily_Volume', data=dfFall, showfliers=False)\n",
    "# sns.boxplot(x='Agglo_Cluster3_Label', y='Avg_Daily_Volume', data=dfFall, showfliers=False)\n",
    "# sns.boxplot(x='KMeans_Cluster3_Label', y='Avg_Daily_Volume', data=dfFall, showfliers=False)"
   ]
  },
  {
   "cell_type": "markdown",
   "metadata": {},
   "source": [
    "### Classification - Multinomial Logistic Regression"
   ]
  },
  {
   "cell_type": "markdown",
   "metadata": {},
   "source": [
    "#### Resampling data to have equal cluster labels"
   ]
  },
  {
   "cell_type": "code",
   "execution_count": 35,
   "metadata": {},
   "outputs": [
    {
     "name": "stdout",
     "output_type": "stream",
     "text": [
      "3    2193\n",
      "2      80\n",
      "1       7\n",
      "Name: KMeans_Cluster3_Label, dtype: int64\n",
      "\n",
      "Resampled Spring dataset shape:  (2280, 26)\n",
      "3    760\n",
      "1    760\n",
      "2    760\n",
      "Name: KMeans_Cluster3_Label, dtype: int64\n"
     ]
    }
   ],
   "source": [
    "# Resampling SPRING Data\n",
    "\n",
    "print(dfSpring['KMeans_Cluster3_Label'].value_counts())\n",
    "\n",
    "# sampling size: mean of cluster label assignments\n",
    "n_samples = np.mean(dfSpring['KMeans_Cluster3_Label'].value_counts())\n",
    "\n",
    "# Separate majority and minority classes\n",
    "dfSpring_clus1 = dfSpring[dfSpring['KMeans_Cluster3_Label']==1]\n",
    "dfSpring_clus2 = dfSpring[dfSpring['KMeans_Cluster3_Label']==2]\n",
    "dfSpring_clus3 = dfSpring[dfSpring['KMeans_Cluster3_Label']==3]\n",
    "\n",
    "# Resample Cluster1 assignments\n",
    "dfSpring_clus1_resampled = resample(dfSpring_clus1, \n",
    "                                     replace=True,             # sample with replacement\n",
    "                                     n_samples=int(n_samples), # to match the mean of three cluster assignments\n",
    "                                     random_state=123)         # reproducible results\n",
    "\n",
    "# Resample Cluster2 assignments\n",
    "dfSpring_clus2_resampled = resample(dfSpring_clus2, \n",
    "                                     replace=True,             # sample with replacement\n",
    "                                     n_samples=int(n_samples), # to match the mean of three cluster assignments\n",
    "                                     random_state=123)         # reproducible results\n",
    "\n",
    "# Resample Cluster3 assignments\n",
    "dfSpring_clus3_resampled = resample(dfSpring_clus3, \n",
    "                                     replace=False,            # sample without replacement\n",
    "                                     n_samples=int(n_samples), # to match the mean of three cluster assignments\n",
    "                                     random_state=123)         # reproducible results\n",
    "\n",
    "# Combine the resampled classes\n",
    "dfSpring_resampled = pd.concat([dfSpring_clus1_resampled, dfSpring_clus2_resampled, dfSpring_clus3_resampled])\n",
    "\n",
    "print(\"\\nResampled Spring dataset shape: \", dfSpring_resampled.shape)\n",
    "print(dfSpring_resampled['KMeans_Cluster3_Label'].value_counts())"
   ]
  },
  {
   "cell_type": "code",
   "execution_count": 36,
   "metadata": {},
   "outputs": [
    {
     "name": "stdout",
     "output_type": "stream",
     "text": [
      "0    2273\n",
      "1       7\n",
      "Name: Cluster_1, dtype: int64\n",
      "0    1520\n",
      "1     760\n",
      "Name: Cluster_1, dtype: int64\n",
      "0    2200\n",
      "1      80\n",
      "Name: Cluster_2, dtype: int64\n",
      "0    1520\n",
      "1     760\n",
      "Name: Cluster_2, dtype: int64\n",
      "1    2193\n",
      "0      87\n",
      "Name: Cluster_3, dtype: int64\n",
      "0    1520\n",
      "1     760\n",
      "Name: Cluster_3, dtype: int64\n"
     ]
    }
   ],
   "source": [
    "print(dfSpring['Cluster_1'].value_counts())\n",
    "print(dfSpring_resampled['Cluster_1'].value_counts())\n",
    "print(dfSpring['Cluster_2'].value_counts())\n",
    "print(dfSpring_resampled['Cluster_2'].value_counts())\n",
    "print(dfSpring['Cluster_3'].value_counts())\n",
    "print(dfSpring_resampled['Cluster_3'].value_counts())"
   ]
  },
  {
   "cell_type": "code",
   "execution_count": 37,
   "metadata": {},
   "outputs": [
    {
     "name": "stdout",
     "output_type": "stream",
     "text": [
      "3    2483\n",
      "2      51\n",
      "1      14\n",
      "Name: KMeans_Cluster3_Label, dtype: int64\n",
      "\n",
      "Resampled Spring dataset shape:  (2547, 26)\n",
      "3    849\n",
      "1    849\n",
      "2    849\n",
      "Name: KMeans_Cluster3_Label, dtype: int64\n"
     ]
    }
   ],
   "source": [
    "# Resampling FALL Data\n",
    "\n",
    "print(dfFall['KMeans_Cluster3_Label'].value_counts())\n",
    "\n",
    "# sampling size: mean of cluster label assignments\n",
    "n_samples = np.mean(dfFall['KMeans_Cluster3_Label'].value_counts())\n",
    "\n",
    "# Separate majority and minority classes\n",
    "dfFall_clus1 = dfFall[dfFall['KMeans_Cluster3_Label']==1]\n",
    "dfFall_clus2 = dfFall[dfFall['KMeans_Cluster3_Label']==2]\n",
    "dfFall_clus3 = dfFall[dfFall['KMeans_Cluster3_Label']==3]\n",
    "\n",
    "# Resample Cluster1 assignments\n",
    "dfFall_clus1_resampled = resample(dfFall_clus1, \n",
    "                                     replace=True,             # sample with replacement\n",
    "                                     n_samples=int(n_samples), # to match the mean of three cluster assignments\n",
    "                                     random_state=123)         # reproducible results\n",
    "\n",
    "# Resample Cluster2 assignments\n",
    "dfFall_clus2_resampled = resample(dfFall_clus2, \n",
    "                                     replace=True,             # sample with replacement\n",
    "                                     n_samples=int(n_samples), # to match the mean of three cluster assignments\n",
    "                                     random_state=123)         # reproducible results\n",
    "\n",
    "# Resample Cluster3 assignments\n",
    "dfFall_clus3_resampled = resample(dfFall_clus3, \n",
    "                                     replace=False,            # sample without replacement\n",
    "                                     n_samples=int(n_samples), # to match the mean of three cluster assignments\n",
    "                                     random_state=123)         # reproducible results\n",
    "\n",
    "# Combine the resampled classes\n",
    "dfFall_resampled = pd.concat([dfFall_clus1_resampled, dfFall_clus2_resampled, dfFall_clus3_resampled])\n",
    "\n",
    "print(\"\\nResampled Spring dataset shape: \", dfFall_resampled.shape)\n",
    "print(dfFall_resampled['KMeans_Cluster3_Label'].value_counts())"
   ]
  },
  {
   "cell_type": "code",
   "execution_count": 38,
   "metadata": {},
   "outputs": [
    {
     "name": "stdout",
     "output_type": "stream",
     "text": [
      "0    2534\n",
      "1      14\n",
      "Name: Cluster_1, dtype: int64\n",
      "0    1698\n",
      "1     849\n",
      "Name: Cluster_1, dtype: int64\n",
      "0    2497\n",
      "1      51\n",
      "Name: Cluster_2, dtype: int64\n",
      "0    1698\n",
      "1     849\n",
      "Name: Cluster_2, dtype: int64\n",
      "1    2483\n",
      "0      65\n",
      "Name: Cluster_3, dtype: int64\n",
      "0    1698\n",
      "1     849\n",
      "Name: Cluster_3, dtype: int64\n"
     ]
    }
   ],
   "source": [
    "print(dfFall['Cluster_1'].value_counts())\n",
    "print(dfFall_resampled['Cluster_1'].value_counts())\n",
    "print(dfFall['Cluster_2'].value_counts())\n",
    "print(dfFall_resampled['Cluster_2'].value_counts())\n",
    "print(dfFall['Cluster_3'].value_counts())\n",
    "print(dfFall_resampled['Cluster_3'].value_counts())"
   ]
  },
  {
   "cell_type": "code",
   "execution_count": 39,
   "metadata": {},
   "outputs": [],
   "source": [
    "# # Create one-vs-rest multinomial logistic regression object\n",
    "# clf = LogisticRegression(random_state=0, multi_class='multi', solver='newton-cg')\n",
    "\n",
    "# FEATURE_SET = ['NewProduct', 'Demand', 'Orders', 'Ordered_Units', 'Avg_Daily_Ordered_Units', 'Days_Ordered', 'Order_Volume', 'Avg_Daily_Volume']\n",
    "FEATURE_SET = ['NewProduct', 'Demand', 'Ordered_Units','Order_Volume']\n",
    "\n",
    "TARGET_CLUSTER = ['KMeans_Cluster3_Label']\n",
    "TARGET_CLASS = ['Class']\n",
    "\n",
    "# SPRING DATA\n",
    "spring_X = dfSpring_resampled[FEATURE_SET] # Spring Training Set\n",
    "spring_y1 = dfSpring_resampled[TARGET_CLUSTER] # Target: 3-cluster labels\n",
    "spring_y2 = dfSpring_resampled[TARGET_CLASS]    # Target: Class (Dale's classification)\n",
    "spring_cluster_y1 = dfSpring_resampled['Cluster_1'] # Target: Spring Cluster_1 binary response\n",
    "spring_cluster_y2 = dfSpring_resampled['Cluster_2'] # Target: Spring Cluster_2 binary response\n",
    "spring_cluster_y3 = dfSpring_resampled['Cluster_3'] # Target: Spring Cluster_3 binary response\n",
    "\n",
    "# FALL DATA\n",
    "fall_X = dfFall_resampled[FEATURE_SET] # Fall Training Set\n",
    "fall_y1 = dfFall_resampled[TARGET_CLUSTER] # Target: 3-cluster labels\n",
    "fall_y2 = dfFall_resampled[TARGET_CLASS]    # Target: Class (Dale's classification)\n",
    "fall_cluster_y1 = dfFall_resampled['Cluster_1'] # Target: Fall Cluster_1 binary response\n",
    "fall_cluster_y2 = dfFall_resampled['Cluster_2'] # Target: Fall Cluster_2 binary response\n",
    "fall_cluster_y3 = dfFall_resampled['Cluster_3'] # Target: Fall Cluster_3 binary response"
   ]
  },
  {
   "cell_type": "code",
   "execution_count": 40,
   "metadata": {},
   "outputs": [],
   "source": [
    "# #Corelation matrix of Features: Spring Data\n",
    "# corr_Spring = spring_X.corr()\n",
    "# corr_Spring.style.background_gradient(cmap='coolwarm', axis=None)"
   ]
  },
  {
   "cell_type": "code",
   "execution_count": 41,
   "metadata": {},
   "outputs": [],
   "source": [
    "# # Find p-values (p) of Spring Corelation Matrix\n",
    "# r, p = corrcoef_loop(corr_Spring.values)\n",
    "\n",
    "# # Convert the p-value matrix into a dataframe for plotting\n",
    "# p_df = pd.DataFrame(p)\n",
    "# # p_df.columns = FEATURE_SET\n",
    "# # p_df.index = FEATURE_SET\n",
    "\n",
    "# p_df.style.background_gradient(cmap='coolwarm', axis=None)"
   ]
  },
  {
   "cell_type": "code",
   "execution_count": 42,
   "metadata": {},
   "outputs": [],
   "source": [
    "# #Corelation matrix of Features: Fall Data\n",
    "# corr_Fall = fall_X.corr()\n",
    "# corr_Fall.style.background_gradient(cmap='coolwarm', axis=None)"
   ]
  },
  {
   "cell_type": "code",
   "execution_count": 43,
   "metadata": {},
   "outputs": [],
   "source": [
    "# # Find p-values (p) of Fall Corelation Matrix\n",
    "# r, p = corrcoef_loop(corr_Fall.values)\n",
    "\n",
    "# # Convert the p-value matrix into a dataframe for plotting\n",
    "# p_df = pd.DataFrame(p)\n",
    "# # p_df.columns = FEATURE_SET\n",
    "# # p_df.index = FEATURE_SET\n",
    "\n",
    "# p_df.style.background_gradient(cmap='coolwarm', axis=None)"
   ]
  },
  {
   "cell_type": "markdown",
   "metadata": {},
   "source": [
    "#### Multinomial Logit - Fit Statistics"
   ]
  },
  {
   "cell_type": "code",
   "execution_count": 44,
   "metadata": {},
   "outputs": [
    {
     "name": "stdout",
     "output_type": "stream",
     "text": [
      "Optimization terminated successfully.\n",
      "         Current function value: 0.067922\n",
      "         Iterations 18\n",
      "                           Logit Regression Results                           \n",
      "==============================================================================\n",
      "Dep. Variable:              Cluster_1   No. Observations:                 2280\n",
      "Model:                          Logit   Df Residuals:                     2276\n",
      "Method:                           MLE   Df Model:                            3\n",
      "Date:                Wed, 11 Sep 2019   Pseudo R-squ.:                  0.8933\n",
      "Time:                        12:26:58   Log-Likelihood:                -154.86\n",
      "converged:                       True   LL-Null:                       -1451.3\n",
      "                                        LLR p-value:                     0.000\n",
      "=================================================================================\n",
      "                    coef    std err          z      P>|z|      [0.025      0.975]\n",
      "---------------------------------------------------------------------------------\n",
      "NewProduct        2.6141      0.448      5.831      0.000       1.735       3.493\n",
      "Demand           -0.0400      0.005     -8.048      0.000      -0.050      -0.030\n",
      "Ordered_Units    -0.0018      0.001     -2.048      0.041      -0.004   -7.82e-05\n",
      "Order_Volume   1.646e-05   3.28e-06      5.023      0.000       1e-05    2.29e-05\n",
      "=================================================================================\n",
      "\n",
      "Possibly complete quasi-separation: A fraction 0.65 of observations can be\n",
      "perfectly predicted. This might indicate that there is complete\n",
      "quasi-separation. In this case some parameters will not be identified.\n"
     ]
    }
   ],
   "source": [
    "# Train Model and get the Fit Statistics\n",
    "# Target: Spring Cluster_1 binary response\n",
    "logit_model=sm.Logit(spring_cluster_y1.astype(float),spring_X.astype(float))\n",
    "result=logit_model.fit()\n",
    "print(result.summary())"
   ]
  },
  {
   "cell_type": "code",
   "execution_count": 45,
   "metadata": {},
   "outputs": [
    {
     "name": "stdout",
     "output_type": "stream",
     "text": [
      "Optimization terminated successfully.\n",
      "         Current function value: 0.557291\n",
      "         Iterations 7\n",
      "                           Logit Regression Results                           \n",
      "==============================================================================\n",
      "Dep. Variable:              Cluster_2   No. Observations:                 2280\n",
      "Model:                          Logit   Df Residuals:                     2276\n",
      "Method:                           MLE   Df Model:                            3\n",
      "Date:                Wed, 11 Sep 2019   Pseudo R-squ.:                  0.1245\n",
      "Time:                        12:26:58   Log-Likelihood:                -1270.6\n",
      "converged:                       True   LL-Null:                       -1451.3\n",
      "                                        LLR p-value:                 5.444e-78\n",
      "=================================================================================\n",
      "                    coef    std err          z      P>|z|      [0.025      0.975]\n",
      "---------------------------------------------------------------------------------\n",
      "NewProduct       -1.4357      0.173     -8.315      0.000      -1.774      -1.097\n",
      "Demand            0.0005   4.65e-05     10.785      0.000       0.000       0.001\n",
      "Ordered_Units    -0.0004   4.03e-05    -10.998      0.000      -0.001      -0.000\n",
      "Order_Volume   4.706e-07   5.14e-08      9.159      0.000     3.7e-07    5.71e-07\n",
      "=================================================================================\n"
     ]
    }
   ],
   "source": [
    "# Train Model and get the Fit Statistics\n",
    "# Target: Spring Cluster_2 binary response\n",
    "logit_model=sm.Logit(spring_cluster_y2.astype(float),spring_X.astype(float))\n",
    "result=logit_model.fit()\n",
    "print(result.summary())"
   ]
  },
  {
   "cell_type": "code",
   "execution_count": 46,
   "metadata": {},
   "outputs": [
    {
     "name": "stdout",
     "output_type": "stream",
     "text": [
      "Optimization terminated successfully.\n",
      "         Current function value: 0.506798\n",
      "         Iterations 7\n",
      "                           Logit Regression Results                           \n",
      "==============================================================================\n",
      "Dep. Variable:              Cluster_3   No. Observations:                 2280\n",
      "Model:                          Logit   Df Residuals:                     2276\n",
      "Method:                           MLE   Df Model:                            3\n",
      "Date:                Wed, 11 Sep 2019   Pseudo R-squ.:                  0.2038\n",
      "Time:                        12:26:58   Log-Likelihood:                -1155.5\n",
      "converged:                       True   LL-Null:                       -1451.3\n",
      "                                        LLR p-value:                6.992e-128\n",
      "=================================================================================\n",
      "                    coef    std err          z      P>|z|      [0.025      0.975]\n",
      "---------------------------------------------------------------------------------\n",
      "NewProduct       -0.7133      0.182     -3.917      0.000      -1.070      -0.356\n",
      "Demand            0.0006   5.16e-05     12.021      0.000       0.001       0.001\n",
      "Ordered_Units    -0.0006   5.61e-05    -11.066      0.000      -0.001      -0.001\n",
      "Order_Volume  -7.058e-07   7.07e-08     -9.980      0.000   -8.44e-07   -5.67e-07\n",
      "=================================================================================\n"
     ]
    }
   ],
   "source": [
    "# Train Model and get the Fit Statistics\n",
    "# Target: Spring Cluster_3 binary response\n",
    "logit_model=sm.Logit(spring_cluster_y3.astype(float),spring_X.astype(float))\n",
    "result=logit_model.fit()\n",
    "print(result.summary())"
   ]
  },
  {
   "cell_type": "code",
   "execution_count": 47,
   "metadata": {},
   "outputs": [
    {
     "name": "stdout",
     "output_type": "stream",
     "text": [
      "Optimization terminated successfully.\n",
      "         Current function value: 0.152447\n",
      "         Iterations 14\n",
      "                           Logit Regression Results                           \n",
      "==============================================================================\n",
      "Dep. Variable:              Cluster_1   No. Observations:                 2547\n",
      "Model:                          Logit   Df Residuals:                     2543\n",
      "Method:                           MLE   Df Model:                            3\n",
      "Date:                Wed, 11 Sep 2019   Pseudo R-squ.:                  0.7605\n",
      "Time:                        12:26:58   Log-Likelihood:                -388.28\n",
      "converged:                       True   LL-Null:                       -1621.2\n",
      "                                        LLR p-value:                     0.000\n",
      "=================================================================================\n",
      "                    coef    std err          z      P>|z|      [0.025      0.975]\n",
      "---------------------------------------------------------------------------------\n",
      "NewProduct        4.0584      0.219     18.538      0.000       3.629       4.488\n",
      "Demand         2.165e-05   9.19e-05      0.236      0.814      -0.000       0.000\n",
      "Ordered_Units    -0.0046      0.000    -14.696      0.000      -0.005      -0.004\n",
      "Order_Volume   2.666e-06   1.62e-07     16.415      0.000    2.35e-06    2.98e-06\n",
      "=================================================================================\n",
      "\n",
      "Possibly complete quasi-separation: A fraction 0.32 of observations can be\n",
      "perfectly predicted. This might indicate that there is complete\n",
      "quasi-separation. In this case some parameters will not be identified.\n"
     ]
    }
   ],
   "source": [
    "# Train Model and get the Fit Statistics\n",
    "# Target: Fall Cluster_1 binary response\n",
    "logit_model=sm.Logit(fall_cluster_y1.astype(float),fall_X.astype(float))\n",
    "result=logit_model.fit()\n",
    "print(result.summary())"
   ]
  },
  {
   "cell_type": "code",
   "execution_count": 48,
   "metadata": {},
   "outputs": [
    {
     "name": "stdout",
     "output_type": "stream",
     "text": [
      "Optimization terminated successfully.\n",
      "         Current function value: 0.542291\n",
      "         Iterations 10\n",
      "                           Logit Regression Results                           \n",
      "==============================================================================\n",
      "Dep. Variable:              Cluster_2   No. Observations:                 2547\n",
      "Model:                          Logit   Df Residuals:                     2543\n",
      "Method:                           MLE   Df Model:                            3\n",
      "Date:                Wed, 11 Sep 2019   Pseudo R-squ.:                  0.1480\n",
      "Time:                        12:26:58   Log-Likelihood:                -1381.2\n",
      "converged:                       True   LL-Null:                       -1621.2\n",
      "                                        LLR p-value:                1.045e-103\n",
      "=================================================================================\n",
      "                    coef    std err          z      P>|z|      [0.025      0.975]\n",
      "---------------------------------------------------------------------------------\n",
      "NewProduct       -1.8929      0.093    -20.273      0.000      -2.076      -1.710\n",
      "Demand           -0.0008      5e-05    -15.604      0.000      -0.001      -0.001\n",
      "Ordered_Units     0.0007   4.94e-05     14.384      0.000       0.001       0.001\n",
      "Order_Volume   1.401e-07   1.76e-08      7.940      0.000    1.05e-07    1.75e-07\n",
      "=================================================================================\n"
     ]
    }
   ],
   "source": [
    "# Train Model and get the Fit Statistics\n",
    "# Target: Fall Cluster_2 binary response\n",
    "logit_model=sm.Logit(fall_cluster_y2.astype(float),fall_X.astype(float))\n",
    "result=logit_model.fit()\n",
    "print(result.summary())"
   ]
  },
  {
   "cell_type": "code",
   "execution_count": 49,
   "metadata": {},
   "outputs": [
    {
     "name": "stdout",
     "output_type": "stream",
     "text": [
      "Optimization terminated successfully.\n",
      "         Current function value: 0.283186\n",
      "         Iterations 9\n",
      "                           Logit Regression Results                           \n",
      "==============================================================================\n",
      "Dep. Variable:              Cluster_3   No. Observations:                 2547\n",
      "Model:                          Logit   Df Residuals:                     2543\n",
      "Method:                           MLE   Df Model:                            3\n",
      "Date:                Wed, 11 Sep 2019   Pseudo R-squ.:                  0.5551\n",
      "Time:                        12:26:58   Log-Likelihood:                -721.28\n",
      "converged:                       True   LL-Null:                       -1621.2\n",
      "                                        LLR p-value:                     0.000\n",
      "=================================================================================\n",
      "                    coef    std err          z      P>|z|      [0.025      0.975]\n",
      "---------------------------------------------------------------------------------\n",
      "NewProduct       -1.4276      0.138    -10.358      0.000      -1.698      -1.157\n",
      "Demand            0.0012   6.59e-05     18.843      0.000       0.001       0.001\n",
      "Ordered_Units    -0.0011   5.74e-05    -18.857      0.000      -0.001      -0.001\n",
      "Order_Volume  -3.735e-07   2.46e-08    -15.188      0.000   -4.22e-07   -3.25e-07\n",
      "=================================================================================\n"
     ]
    }
   ],
   "source": [
    "# Train Model and get the Fit Statistics\n",
    "# Target: Fall Cluster_3 binary response\n",
    "logit_model=sm.Logit(fall_cluster_y3.astype(float),fall_X.astype(float))\n",
    "result=logit_model.fit()\n",
    "print(result.summary())"
   ]
  },
  {
   "cell_type": "code",
   "execution_count": 50,
   "metadata": {},
   "outputs": [
    {
     "name": "stdout",
     "output_type": "stream",
     "text": [
      "Optimization terminated successfully.\n",
      "         Current function value: nan\n",
      "         Iterations 10\n",
      "                            MNLogit Regression Results                           \n",
      "=================================================================================\n",
      "Dep. Variable:     KMeans_Cluster3_Label   No. Observations:                 2280\n",
      "Model:                           MNLogit   Df Residuals:                     2272\n",
      "Method:                              MLE   Df Model:                            6\n",
      "Date:                   Wed, 11 Sep 2019   Pseudo R-squ.:                     nan\n",
      "Time:                           12:26:58   Log-Likelihood:                    nan\n",
      "converged:                          True   LL-Null:                       -2504.8\n",
      "                                           LLR p-value:                       nan\n",
      "===========================================================================================\n",
      "KMeans_Cluster3_Label=2       coef    std err          z      P>|z|      [0.025      0.975]\n",
      "-------------------------------------------------------------------------------------------\n",
      "NewProduct                     nan        nan        nan        nan         nan         nan\n",
      "Demand                         nan        nan        nan        nan         nan         nan\n",
      "Ordered_Units                  nan        nan        nan        nan         nan         nan\n",
      "Order_Volume                   nan        nan        nan        nan         nan         nan\n",
      "-------------------------------------------------------------------------------------------\n",
      "KMeans_Cluster3_Label=3       coef    std err          z      P>|z|      [0.025      0.975]\n",
      "-------------------------------------------------------------------------------------------\n",
      "NewProduct                     nan        nan        nan        nan         nan         nan\n",
      "Demand                         nan        nan        nan        nan         nan         nan\n",
      "Ordered_Units                  nan        nan        nan        nan         nan         nan\n",
      "Order_Volume                   nan        nan        nan        nan         nan         nan\n",
      "===========================================================================================\n"
     ]
    }
   ],
   "source": [
    "# Train Model and get the Fit Statistics\n",
    "# Target: Target: 3-cluster labels\n",
    "logit_model=sm.MNLogit(spring_y1.astype(float),spring_X.astype(float))\n",
    "result=logit_model.fit()\n",
    "print(result.summary())"
   ]
  },
  {
   "cell_type": "code",
   "execution_count": 51,
   "metadata": {},
   "outputs": [
    {
     "name": "stdout",
     "output_type": "stream",
     "text": [
      "Optimization terminated successfully.\n",
      "         Current function value: nan\n",
      "         Iterations 6\n",
      "                            MNLogit Regression Results                           \n",
      "=================================================================================\n",
      "Dep. Variable:     KMeans_Cluster3_Label   No. Observations:                 2547\n",
      "Model:                           MNLogit   Df Residuals:                     2539\n",
      "Method:                              MLE   Df Model:                            6\n",
      "Date:                   Wed, 11 Sep 2019   Pseudo R-squ.:                     nan\n",
      "Time:                           12:26:59   Log-Likelihood:                    nan\n",
      "converged:                          True   LL-Null:                       -2798.2\n",
      "                                           LLR p-value:                       nan\n",
      "===========================================================================================\n",
      "KMeans_Cluster3_Label=2       coef    std err          z      P>|z|      [0.025      0.975]\n",
      "-------------------------------------------------------------------------------------------\n",
      "NewProduct                     nan        nan        nan        nan         nan         nan\n",
      "Demand                         nan        nan        nan        nan         nan         nan\n",
      "Ordered_Units                  nan        nan        nan        nan         nan         nan\n",
      "Order_Volume                   nan        nan        nan        nan         nan         nan\n",
      "-------------------------------------------------------------------------------------------\n",
      "KMeans_Cluster3_Label=3       coef    std err          z      P>|z|      [0.025      0.975]\n",
      "-------------------------------------------------------------------------------------------\n",
      "NewProduct                     nan        nan        nan        nan         nan         nan\n",
      "Demand                         nan        nan        nan        nan         nan         nan\n",
      "Ordered_Units                  nan        nan        nan        nan         nan         nan\n",
      "Order_Volume                   nan        nan        nan        nan         nan         nan\n",
      "===========================================================================================\n"
     ]
    }
   ],
   "source": [
    "# Train Model and get the Fit Statistics\n",
    "# Target: Target: 3-cluster labels\n",
    "logit_model=sm.MNLogit(fall_y1.astype(float),fall_X.astype(float))\n",
    "result=logit_model.fit()\n",
    "print(result.summary())"
   ]
  },
  {
   "cell_type": "code",
   "execution_count": 52,
   "metadata": {},
   "outputs": [
    {
     "name": "stdout",
     "output_type": "stream",
     "text": [
      "Optimization terminated successfully.\n",
      "         Current function value: 0.807162\n",
      "         Iterations 8\n",
      "                          MNLogit Regression Results                          \n",
      "==============================================================================\n",
      "Dep. Variable:                  Class   No. Observations:                 2280\n",
      "Model:                        MNLogit   Df Residuals:                     2272\n",
      "Method:                           MLE   Df Model:                            6\n",
      "Date:                Wed, 11 Sep 2019   Pseudo R-squ.:                  0.2082\n",
      "Time:                        12:26:59   Log-Likelihood:                -1840.3\n",
      "converged:                       True   LL-Null:                       -2324.2\n",
      "                                        LLR p-value:                8.360e-206\n",
      "=================================================================================\n",
      "      Class=2       coef    std err          z      P>|z|      [0.025      0.975]\n",
      "---------------------------------------------------------------------------------\n",
      "NewProduct       -0.7180      0.288     -2.495      0.013      -1.282      -0.154\n",
      "Demand           -0.0003   7.01e-05     -3.618      0.000      -0.000      -0.000\n",
      "Ordered_Units     0.0002   7.83e-05      3.144      0.002    9.28e-05       0.000\n",
      "Order_Volume   9.548e-07   1.39e-07      6.864      0.000    6.82e-07    1.23e-06\n",
      "---------------------------------------------------------------------------------\n",
      "      Class=3       coef    std err          z      P>|z|      [0.025      0.975]\n",
      "---------------------------------------------------------------------------------\n",
      "NewProduct        0.6156      0.221      2.782      0.005       0.182       1.049\n",
      "Demand           -0.0013   7.59e-05    -16.481      0.000      -0.001      -0.001\n",
      "Ordered_Units     0.0012   8.14e-05     14.301      0.000       0.001       0.001\n",
      "Order_Volume   1.223e-06   1.39e-07      8.796      0.000     9.5e-07     1.5e-06\n",
      "=================================================================================\n"
     ]
    }
   ],
   "source": [
    "# Train Model and get the Fit Statistics\n",
    "# Target: Class (Dale's classification)\n",
    "logit_model=sm.MNLogit(spring_y2.astype(float),spring_X.astype(float))\n",
    "result=logit_model.fit()\n",
    "print(result.summary())"
   ]
  },
  {
   "cell_type": "code",
   "execution_count": 53,
   "metadata": {},
   "outputs": [
    {
     "name": "stdout",
     "output_type": "stream",
     "text": [
      "Optimization terminated successfully.\n",
      "         Current function value: 0.361879\n",
      "         Iterations 10\n",
      "                          MNLogit Regression Results                          \n",
      "==============================================================================\n",
      "Dep. Variable:                  Class   No. Observations:                 2547\n",
      "Model:                        MNLogit   Df Residuals:                     2539\n",
      "Method:                           MLE   Df Model:                            6\n",
      "Date:                Wed, 11 Sep 2019   Pseudo R-squ.:                  0.5557\n",
      "Time:                        12:26:59   Log-Likelihood:                -921.71\n",
      "converged:                       True   LL-Null:                       -2074.7\n",
      "                                        LLR p-value:                     0.000\n",
      "=================================================================================\n",
      "      Class=2       coef    std err          z      P>|z|      [0.025      0.975]\n",
      "---------------------------------------------------------------------------------\n",
      "NewProduct       -1.4903      0.281     -5.303      0.000      -2.041      -0.939\n",
      "Demand           -0.0003   7.15e-05     -3.872      0.000      -0.000      -0.000\n",
      "Ordered_Units     0.0002   7.37e-05      3.145      0.002    8.73e-05       0.000\n",
      "Order_Volume   1.124e-06   1.33e-07      8.446      0.000    8.63e-07    1.39e-06\n",
      "---------------------------------------------------------------------------------\n",
      "      Class=3       coef    std err          z      P>|z|      [0.025      0.975]\n",
      "---------------------------------------------------------------------------------\n",
      "NewProduct        0.1247      0.259      0.482      0.630      -0.383       0.632\n",
      "Demand           -0.0016   9.65e-05    -16.259      0.000      -0.002      -0.001\n",
      "Ordered_Units     0.0014   9.11e-05     14.852      0.000       0.001       0.002\n",
      "Order_Volume   1.697e-06   1.35e-07     12.577      0.000    1.43e-06    1.96e-06\n",
      "=================================================================================\n"
     ]
    }
   ],
   "source": [
    "# Train Model and get the Fit Statistics\n",
    "# Target: Class (Dale's classification)\n",
    "logit_model=sm.MNLogit(fall_y2.astype(float),fall_X.astype(float))\n",
    "result=logit_model.fit()\n",
    "print(result.summary())"
   ]
  },
  {
   "cell_type": "code",
   "execution_count": 54,
   "metadata": {},
   "outputs": [],
   "source": [
    "# # Train Model and get the Accuracy Score\n",
    "# # Target: 3-cluster labels of Spring\n",
    "# spring_model1 = clf.fit(spring_X, spring_y1)\n",
    "# spring_accuracy1 = spring_model1.score(spring_X, spring_y1)\n",
    "# print(\"\\nAccuracy of Spring data with 3-cluster labels: \", spring_accuracy1)\n",
    "\n",
    "# # Train Model and get the Accuracy Score\n",
    "# # Target: Class (Dale's classification)\n",
    "# spring_model2 = clf.fit(spring_X, spring_y2)\n",
    "# spring_accuracy2 = spring_model2.score(spring_X, spring_y2)\n",
    "# print(\"\\nAccuracy of Spring data with class labels: \", spring_accuracy2)"
   ]
  },
  {
   "cell_type": "code",
   "execution_count": 55,
   "metadata": {},
   "outputs": [],
   "source": [
    "# # Train Model and get the Accuracy Score\n",
    "# # Target: 3-cluster labels of Fall\n",
    "# fall_model1 = clf.fit(fall_X, fall_y1)\n",
    "# fall_accuracy1 = fall_model1.score(fall_X, fall_y1)\n",
    "# print(\"\\nAccuracy of Fall data with 3-cluster labels: \", fall_accuracy1)\n",
    "\n",
    "# # Train Model and get the Accuracy Score\n",
    "# # Target: Class (Dale's classification)\n",
    "# fall_model2 = clf.fit(fall_X, fall_y2)\n",
    "# fall_accuracy2 = fall_model2.score(fall_X, fall_y2)\n",
    "# print(\"\\nAccuracy of Fall data with class labels: \", fall_accuracy2)"
   ]
  }
 ],
 "metadata": {
  "kernelspec": {
   "display_name": "Python 3",
   "language": "python",
   "name": "python3"
  },
  "language_info": {
   "codemirror_mode": {
    "name": "ipython",
    "version": 3
   },
   "file_extension": ".py",
   "mimetype": "text/x-python",
   "name": "python",
   "nbconvert_exporter": "python",
   "pygments_lexer": "ipython3",
   "version": "3.7.3"
  },
  "name": "SlottingTrainingPipeline",
  "notebookId": 4085007594758113
 },
 "nbformat": 4,
 "nbformat_minor": 1
}
