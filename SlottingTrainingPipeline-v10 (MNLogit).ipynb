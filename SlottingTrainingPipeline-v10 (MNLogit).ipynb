{
 "cells": [
  {
   "cell_type": "markdown",
   "metadata": {},
   "source": [
    "### Imports"
   ]
  },
  {
   "cell_type": "code",
   "execution_count": 1,
   "metadata": {},
   "outputs": [],
   "source": [
    "import pandas as pd\n",
    "import numpy as np\n",
    "\n",
    "from sklearn.cluster import KMeans\n",
    "from sklearn.cluster import AgglomerativeClustering\n",
    "from sklearn.mixture import GaussianMixture\n",
    "\n",
    "from scipy.spatial.distance import cdist\n",
    "from sklearn.linear_model import LogisticRegression\n",
    "from sklearn.metrics import silhouette_score\n",
    "from sklearn.metrics import accuracy_score\n",
    "from sklearn.metrics import classification_report \n",
    "from sklearn.metrics import confusion_matrix \n",
    "from sklearn.preprocessing import normalize\n",
    "from sklearn import preprocessing\n",
    "from sklearn.utils import resample\n",
    "from sklearn.model_selection import train_test_split\n",
    "\n",
    "import statsmodels.stats.api as sms\n",
    "import statsmodels.api as sm\n",
    "from statsmodels.graphics.gofplots import qqplot\n",
    "import scipy.stats as stats\n",
    "from scipy.stats import pearsonr\n",
    "import scipy.cluster.hierarchy as shc\n",
    "\n",
    "import pylab \n",
    "\n",
    "%matplotlib inline\n",
    "import matplotlib.pyplot as plt\n",
    "import seaborn as sns; sns.set()  # for plot styling\n",
    "\n",
    "pd.set_option('display.float_format',lambda x: '%.3f' %x)\n",
    "\n",
    "import warnings\n",
    "warnings.filterwarnings(\"ignore\")"
   ]
  },
  {
   "cell_type": "markdown",
   "metadata": {},
   "source": [
    "### Load the dataset"
   ]
  },
  {
   "cell_type": "code",
   "execution_count": 2,
   "metadata": {},
   "outputs": [
    {
     "name": "stdout",
     "output_type": "stream",
     "text": [
      "----- Feature Set for Current Year ----- \n",
      " ['UniqueId', 'Department', 'Category', 'SubCategory', 'Material', 'Style', 'Dimension', 'ProductSize', 'Volume', 'InventorySegment', 'Color', 'UPC', 'Season_SKU_Introduced', 'Year_SKU_Introduced', 'History_Size_Pct', 'Month', 'Season', 'Year', 'Quarter', 'PlannedUnits', 'PDXPlannedUnits', 'Orders', 'Ordered_Units', 'Avg_Daily_Ordered_Units', 'Days_Ordered', 'Order_Volume', 'Avg_Daily_Volume', 'Experiment_Id']\n",
      "\n",
      "----- Feature Set for Future Year ----- \n",
      " ['UniqueId', 'Department', 'Category', 'SubCategory', 'Material', 'Style', 'Dimension', 'ProductSize', 'Volume', 'InventorySegment', 'Color', 'UPC', 'Season_SKU_Introduced', 'Year_SKU_Introduced', 'History_Size_Pct', 'Month', 'Season', 'Year', 'Quarter', 'PlannedUnits', 'PDXPlannedUnits', 'Orders', 'Ordered_Units', 'Avg_Daily_Ordered_Units', 'Days_Ordered', 'Order_Volume', 'Avg_Daily_Volume', 'Experiment_Id']\n"
     ]
    }
   ],
   "source": [
    "# Load the datasets\n",
    "\n",
    "this_year = 2018\n",
    "\n",
    "# Load the datasets for 2018 data\n",
    "dataYear = pd.read_csv(r'C:\\Users\\abandyopadhyay\\ALOKPARNA\\RCV_SLOTTING\\Dataset\\Slotting_2018.csv', header=0, encoding = 'unicode_escape')\n",
    "print(\"----- Feature Set for Current Year ----- \\n\", list(dataYear.columns))\n",
    "\n",
    "# # Load the datasets for 2017 data\n",
    "# dataPriorYear = pd.read_csv(r'C:\\Users\\abandyopadhyay\\ALOKPARNA\\RCV_SLOTTING\\Dataset\\Slotting_2017.csv', header=0, encoding = 'unicode_escape')\n",
    "# print(\"\\n----- Feature Set for Prior Year ----- \\n\", list(dataPriorYear.columns))\n",
    "\n",
    "# Load the datasets for 2019 data\n",
    "dataFutureYear = pd.read_csv(r'C:\\Users\\abandyopadhyay\\ALOKPARNA\\RCV_SLOTTING\\Dataset\\Slotting_2019.csv', header=0, encoding = 'unicode_escape')\n",
    "print(\"\\n----- Feature Set for Future Year ----- \\n\", list(dataFutureYear.columns))\n",
    "\n",
    "dataYear = dataYear.fillna(0)\n",
    "# dataPriorYear = dataPriorYear.fillna(0)\n",
    "dataFutureYear = dataFutureYear.fillna(0)"
   ]
  },
  {
   "cell_type": "markdown",
   "metadata": {},
   "source": [
    "### Function Definitions"
   ]
  },
  {
   "cell_type": "code",
   "execution_count": 3,
   "metadata": {},
   "outputs": [],
   "source": [
    "# Function to identify whether a product is new or not and add that as a feature in the dataset\n",
    "def add_NewProduct(data):\n",
    "    data.loc[(data.Year_SKU_Introduced < this_year) | ((data['Year_SKU_Introduced']).isnull()), 'NewProduct'] = '0' # Existing product\n",
    "    data.loc[data.Year_SKU_Introduced >= this_year, 'NewProduct'] = '1' # New product\n",
    "    return (data)"
   ]
  },
  {
   "cell_type": "code",
   "execution_count": 4,
   "metadata": {},
   "outputs": [],
   "source": [
    "# Function to add future year's Contract' as a feature in the current year dataset\n",
    "def add_FutureContract(data, dataFuture):\n",
    "    dataFuture.loc[dataFuture.PlannedUnits != 0, 'Contract'] = dataFuture['PlannedUnits']\n",
    "    dataFuture.loc[dataFuture.PlannedUnits == 0, 'Contract'] = dataFuture['PDXPlannedUnits']    \n",
    "    data['Future_Contract'] = dataFuture['Contract']\n",
    "    return (data)"
   ]
  },
  {
   "cell_type": "code",
   "execution_count": 5,
   "metadata": {},
   "outputs": [],
   "source": [
    "# Function to add 'Contract' as a feature in the dataset\n",
    "def add_Contract(data):\n",
    "    data.loc[data.PlannedUnits != 0, 'Contract'] = data['PlannedUnits']\n",
    "    data.loc[data.PlannedUnits == 0, 'Contract'] = data['PDXPlannedUnits']\n",
    "    return (data)"
   ]
  },
  {
   "cell_type": "code",
   "execution_count": 6,
   "metadata": {},
   "outputs": [],
   "source": [
    "# Function to add 'Popularity': a measure of how much was contracted and how much was actually sold\n",
    "def add_Popularity(data):\n",
    "    data['Popularity'] = ((data['Ordered_Units']-data['Contract'])/data['Ordered_Units'])*100\n",
    "    return (data)"
   ]
  },
  {
   "cell_type": "code",
   "execution_count": 7,
   "metadata": {},
   "outputs": [],
   "source": [
    "# Function to Group products by Experiment Id\n",
    "def group_by_expId(data):\n",
    "    groupedData = data.groupby(['Experiment_Id']).agg({'Contract': 'sum', 'Orders': 'sum', 'Ordered_Units': 'sum', 'Days_Ordered': 'sum', 'Order_Volume': 'sum', 'Avg_Daily_Volume': 'mean'})\n",
    "    # Remove the index and flatten the dataset\n",
    "    groupedData.reset_index(inplace=True)\n",
    "    print(\"Grouped dataset (by Experiment Id) shape: \", groupedData.shape)\n",
    "    return (groupedData)"
   ]
  },
  {
   "cell_type": "code",
   "execution_count": 8,
   "metadata": {},
   "outputs": [],
   "source": [
    "# Function to Group products by Experiment Id and Seasons\n",
    "def group_by_Seasons(data):\n",
    "    groupedData = data.groupby(['Experiment_Id', 'Season']).agg({'Contract': 'sum', 'Orders': 'sum', 'Ordered_Units': 'sum', 'Days_Ordered': 'sum', 'Order_Volume': 'sum', 'Avg_Daily_Volume': 'mean'})\n",
    "    # Remove the index and flatten the dataset\n",
    "    groupedData.reset_index(inplace=True)\n",
    "    print(\"Grouped dataset (by Experiment Id and Seasons) shape: \", groupedData.shape)\n",
    "    return (groupedData)"
   ]
  },
  {
   "cell_type": "code",
   "execution_count": 9,
   "metadata": {},
   "outputs": [],
   "source": [
    "# Function to Group products by Experiment Id and Categorical Descriptions\n",
    "def group_by_Categoricals(data):\n",
    "    groupedData = data.groupby(['Experiment_Id', 'Department', 'Category', 'SubCategory', 'Material', 'Style', 'Dimension', 'ProductSize', 'Volume', 'InventorySegment', 'Color', 'UPC', 'NewProduct']).agg({'Demand': 'sum', 'Orders': 'sum','Ordered_Units': 'sum', 'Avg_Daily_Ordered_Units': 'mean', 'Days_Ordered': 'sum', 'Order_Volume': 'sum', 'Avg_Daily_Volume': 'mean'})\n",
    "    # Remove index and flatten the dataset\n",
    "    groupedData.reset_index(inplace=True)\n",
    "    print(\"Grouped dataset (Experiment Id and Categoricals) shape: \", groupedData.shape)\n",
    "    return (groupedData)"
   ]
  },
  {
   "cell_type": "code",
   "execution_count": 10,
   "metadata": {},
   "outputs": [],
   "source": [
    "# Function to Group products by Experiment Id, Seasons and Categorical Descriptions\n",
    "def group_by_SeasonsAndCategoricals(data):\n",
    "    groupedData = data.groupby(['Experiment_Id', 'Season', 'Department', 'Category', 'SubCategory', 'Material', \n",
    "                                'Style', 'Dimension', 'ProductSize', 'Volume', 'InventorySegment', 'Color', 'UPC', \n",
    "                                'NewProduct']).agg({'Contract': 'sum', \n",
    "                                                    'Future_Contract': 'sum', \n",
    "                                                    'Popularity': 'sum', 'Orders': \n",
    "                                                    'sum','Ordered_Units': 'sum', \n",
    "                                                    'Avg_Daily_Ordered_Units': 'mean', \n",
    "                                                    'Days_Ordered': 'sum', \n",
    "                                                    'Order_Volume': 'sum', \n",
    "                                                    'Avg_Daily_Volume': 'mean'})\n",
    "    \n",
    "    # Remove index and flatten the dataset\n",
    "    groupedData.reset_index(inplace=True)\n",
    "    print(\"\\nGrouped dataset (Experiment Id, Seasons and Categoricals) shape: \", groupedData.shape)\n",
    "    return (groupedData)"
   ]
  },
  {
   "cell_type": "code",
   "execution_count": 11,
   "metadata": {},
   "outputs": [],
   "source": [
    "# Function to select the Top80 selling products\n",
    "def get_Top80(data):\n",
    "    # Calculate % Ordered_Units \n",
    "    totalOrdUnits = data['Ordered_Units'].sum()\n",
    "    data['Pct_OrdUnits'] = (data['Ordered_Units']/totalOrdUnits)*100\n",
    "\n",
    "    # Sort the dataset based on % Ordered_Units \n",
    "    data = data.sort_values('Pct_OrdUnits',ascending=False)\n",
    "    data['Cumsum_Pct_OrdUnits'] = data['Pct_OrdUnits'].cumsum()\n",
    "\n",
    "    # Find the orders with Top 80 sales (ordered units)\n",
    "    dataTop80 = data[data.Cumsum_Pct_OrdUnits <= 80]\n",
    "\n",
    "    # Drop the Pct_OrdUnits and Cumsum_Pct_OrdUnits columns\n",
    "    dataTop80 = dataTop80.drop(['Pct_OrdUnits', 'Cumsum_Pct_OrdUnits'], axis=1)\n",
    "\n",
    "    print(\"Dataset shape after retaining the Top80 selling products: \", dataTop80.shape)\n",
    "    return (dataTop80)"
   ]
  },
  {
   "cell_type": "code",
   "execution_count": 12,
   "metadata": {},
   "outputs": [],
   "source": [
    "# Function for K-Means clustering\n",
    "def KMeans_clusterLabels(data, n):# Cluster data using k-means and get the cluster labels\n",
    "    model = KMeans(n_clusters=n, random_state=1)\n",
    "    model.fit(data)\n",
    "    # model_p = model.predict(data)\n",
    "    # Get cluster labels\n",
    "    cluster_label = model.labels_\n",
    "    #Plot the clusters\n",
    "    plt.scatter(data.iloc[:, 0], data.iloc[:, 1], c=cluster_label, s=50, cmap='viridis')\n",
    "    centers = model.cluster_centers_\n",
    "    plt.scatter(centers[:, 0], centers[:, 1], c='black', s=200, alpha=0.5)\n",
    "    \n",
    "    # Recoding the Cluster '0' as Cluster 'n'\n",
    "    for i in range(len(cluster_label)): \n",
    "        if cluster_label[i] == 0:\n",
    "            cluster_label[i] = n\n",
    "    \n",
    "    return (cluster_label)"
   ]
  },
  {
   "cell_type": "code",
   "execution_count": 13,
   "metadata": {},
   "outputs": [],
   "source": [
    "# Function for Agglomerative clustering\n",
    "def Agglomerative_clusterLabels(data_scaled, n):# Cluster data using Agglomerative and get the cluster labels\n",
    "    model = AgglomerativeClustering(n_clusters=n, affinity='euclidean', linkage='ward')\n",
    "    model.fit_predict(data_scaled)\n",
    "    # Get cluster labels\n",
    "    cluster_label = model.labels_\n",
    "    #Plot the clusters\n",
    "    plt.scatter(data.iloc[:, 0], data.iloc[:, 1], c=cluster_label, s=50, cmap='viridis')\n",
    "\n",
    "    # Recoding the Cluster '0' as Cluster 'n'\n",
    "    for i in range(len(cluster_label)): \n",
    "        if cluster_label[i] == 0:\n",
    "            cluster_label[i] = n\n",
    "    \n",
    "    return (cluster_label)"
   ]
  },
  {
   "cell_type": "code",
   "execution_count": 14,
   "metadata": {},
   "outputs": [],
   "source": [
    "# Function for GMM clustering\n",
    "def GMM_clusterLabels(data, n):# Cluster data using GMM and get the cluster labels\n",
    "    model = GaussianMixture(n_components=n)\n",
    "    model.fit(data)\n",
    "    # Get cluster labels\n",
    "    cluster_label = model.predict(data)\n",
    "    # probs = model.predict_proba(X)\n",
    "    #Plot the clusters\n",
    "    plt.scatter(data.iloc[:, 0], data.iloc[:, 1], c=cluster_label, s=40, cmap='viridis');\n",
    "    \n",
    "#     # Recoding the Cluster '0' as Cluster 'n'\n",
    "#     for i in range(len(cluster_label)): \n",
    "#         if cluster_label[i] == 0:\n",
    "#             cluster_label[i] = n\n",
    "    \n",
    "    return (cluster_label)"
   ]
  },
  {
   "cell_type": "code",
   "execution_count": 15,
   "metadata": {},
   "outputs": [],
   "source": [
    "# Function for adding binary values for ClusterLabels\n",
    "def add_binary_response_Kmeans_clusterLabels(data):\n",
    "    data.loc[data.KMeans_Cluster3_Label == 1, 'Cluster_1'] = '1'\n",
    "    data.loc[data.KMeans_Cluster3_Label != 1, 'Cluster_1'] = '0'\n",
    "    \n",
    "    data.loc[data.KMeans_Cluster3_Label == 2, 'Cluster_2'] = '1'\n",
    "    data.loc[data.KMeans_Cluster3_Label != 2, 'Cluster_2'] = '0'\n",
    "    \n",
    "    data.loc[data.KMeans_Cluster3_Label == 3, 'Cluster_3'] = '1'\n",
    "    data.loc[data.KMeans_Cluster3_Label != 3, 'Cluster_3'] = '0'\n",
    "    \n",
    "    return (data)"
   ]
  },
  {
   "cell_type": "code",
   "execution_count": 16,
   "metadata": {},
   "outputs": [],
   "source": [
    "# Function for creating Classification Dataset\n",
    "def create_Classification_Dataset(data):\n",
    "    # Add the new feature 'Suggested_Storage_Type' and the target 'Class' based on the 'Avg_Daily_Volume'\n",
    "    data.loc[data.Avg_Daily_Volume <= 2.44, 'Suggested_Storage_Type'] = 'Flat Rack'\n",
    "    data.loc[data.Avg_Daily_Volume <= 2.44, 'Class'] = '0'\n",
    "    data.loc[(data.Avg_Daily_Volume > 2.44) & (data.Avg_Daily_Volume <= 12.2), 'Suggested_Storage_Type'] = 'Flow Rack' \n",
    "    data.loc[(data.Avg_Daily_Volume > 2.44) & (data.Avg_Daily_Volume <= 12.2), 'Class'] = '1' \n",
    "    data.loc[data.Avg_Daily_Volume > 12.2, 'Suggested_Storage_Type'] = 'Big Pack'\n",
    "    data.loc[data.Avg_Daily_Volume > 12.2, 'Class'] = '2'\n",
    "\n",
    "    return (data)"
   ]
  },
  {
   "cell_type": "code",
   "execution_count": 17,
   "metadata": {},
   "outputs": [],
   "source": [
    "# Function to calculate Pearson Co-edfficient and p-values of a matrix\n",
    "def corrcoef_loop(matrix):\n",
    "    rows, cols = matrix.shape[0], matrix.shape[1]\n",
    "    r = np.ones(shape=(rows, rows))\n",
    "    p = np.ones(shape=(rows, rows))\n",
    "    for i in range(rows):\n",
    "        for j in range(i+1, rows):\n",
    "            r_, p_ = pearsonr(matrix[i], matrix[j])\n",
    "            r[i, j] = r[j, i] = r_\n",
    "            p[i, j] = p[j, i] = p_\n",
    "    return r, p"
   ]
  },
  {
   "cell_type": "code",
   "execution_count": 18,
   "metadata": {},
   "outputs": [],
   "source": [
    "# Function for Histogram plot\n",
    "def plot_Histograms(data):\n",
    "    fig, ax = plt.subplots(1, 2, figsize=(20,4))\n",
    "    volume = data['Volume'].values\n",
    "    sns.distplot(volume, ax=ax[0], color='r')\n",
    "    ax[0].set_title('Distribution of Volume', fontsize=14)\n",
    "    ax[0].set_xlim([min(volume), max(volume)])\n",
    "\n",
    "    orders = data['Orders'].values\n",
    "    sns.distplot(orders, ax=ax[1], color='b')\n",
    "    ax[1].set_title('Distribution of Orders', fontsize=14)\n",
    "    ax[1].set_xlim([min(orders), max(orders)])\n",
    "    \n",
    "    fig, ax = plt.subplots(1, 2, figsize=(20,4))\n",
    "    ordered_Units = data['Ordered_Units'].values\n",
    "    sns.distplot(ordered_Units, ax=ax[0], color='g')\n",
    "    ax[0].set_title('Distribution of Ordered_Units', fontsize=14)\n",
    "    ax[0].set_xlim([min(ordered_Units), max(ordered_Units)])\n",
    "    \n",
    "    avg_Daily_Ordered_Units = data['Avg_Daily_Ordered_Units'].values\n",
    "    sns.distplot(avg_Daily_Ordered_Units, ax=ax[1], color='m')\n",
    "    ax[1].set_title('Distribution of Avg_Daily_Ordered_Units', fontsize=14)\n",
    "    ax[1].set_xlim([min(avg_Daily_Ordered_Units), max(avg_Daily_Ordered_Units)])\n",
    "    \n",
    "    fig, ax = plt.subplots(1, 2, figsize=(20,4))\n",
    "    days_Ordered = data['Days_Ordered'].values\n",
    "    sns.distplot(days_Ordered, ax=ax[0], color='r')\n",
    "    ax[0].set_title('Distribution of Days_Ordered', fontsize=14)\n",
    "    ax[0].set_xlim([min(days_Ordered), max(days_Ordered)])\n",
    "    \n",
    "    order_Volume = data['Order_Volume'].values\n",
    "    sns.distplot(order_Volume, ax=ax[1], color='b')\n",
    "    ax[1].set_title('Distribution of Order_Volume', fontsize=14)\n",
    "    ax[1].set_xlim([min(order_Volume), max(order_Volume)])    \n",
    "    \n",
    "    fig, ax = plt.subplots(1, 2, figsize=(20,4))\n",
    "    avg_Daily_Volume = data['Avg_Daily_Volume'].values\n",
    "    sns.distplot(avg_Daily_Volume, ax=ax[0], color='g')\n",
    "    ax[0].set_title('Distribution of Avg_Daily_Volume', fontsize=14)\n",
    "    ax[0].set_xlim([min(avg_Daily_Volume), max(avg_Daily_Volume)])"
   ]
  },
  {
   "cell_type": "code",
   "execution_count": 19,
   "metadata": {},
   "outputs": [],
   "source": [
    "# Function for KSTest and QQplot\n",
    "def ksTest_QQPlots(data):\n",
    "    print(\"Volume: \", stats.kstest(data['Volume'], 'norm'))\n",
    "    qqplot(data['Volume'], line='s')\n",
    "    plt.show()\n",
    "    print(\"Orders: \", stats.kstest(data['Orders'], 'norm'))\n",
    "    qqplot(data['Orders'], line='s')\n",
    "    plt.show()\n",
    "    print(\"Ordered_Units: \", stats.kstest(data['Ordered_Units'], 'norm'))\n",
    "    qqplot(data['Ordered_Units'], line='s')\n",
    "    plt.show()\n",
    "    print(\"Avg_Daily_Ordered_Units: \", stats.kstest(data['Avg_Daily_Ordered_Units'], 'norm'))\n",
    "    qqplot(data['Avg_Daily_Ordered_Units'], line='s')\n",
    "    plt.show()\n",
    "    print(\"Days_Ordered: \", stats.kstest(data['Days_Ordered'], 'norm'))\n",
    "    qqplot(data['Days_Ordered'], line='s')\n",
    "    plt.show()\n",
    "    print(\"Order_Volume: \", stats.kstest(data['Order_Volume'], 'norm'))\n",
    "    qqplot(data['Order_Volume'], line='s')\n",
    "    plt.show()\n",
    "    print(\"Avg_Daily_Volume: \", stats.kstest(data['Avg_Daily_Volume'], 'norm'))\n",
    "    qqplot(data['Avg_Daily_Volume'], line='s')\n",
    "    plt.show()"
   ]
  },
  {
   "cell_type": "code",
   "execution_count": 20,
   "metadata": {},
   "outputs": [],
   "source": [
    "# Function to change unit of volume from cu. inches to cu. feet\n",
    "def changeUnitOfVolume(data):\n",
    "    data['Volume_cuft'] = data['Volume']/(12**3)\n",
    "    data['Order_Volume_cuft'] = data['Order_Volume']/(12**3)\n",
    "    data['Avg_Daily_Volume_cuft'] = data['Avg_Daily_Volume']/(12**3)\n",
    "    data = data.drop(['Volume', 'Order_Volume', 'Avg_Daily_Volume'], axis=1)\n",
    "    data = data.rename(columns={'Volume_cuft': 'Volume', 'Order_Volume_cuft': 'Order_Volume', 'Avg_Daily_Volume_cuft': 'Avg_Daily_Volume'})\n",
    "    return (data)"
   ]
  },
  {
   "cell_type": "code",
   "execution_count": 21,
   "metadata": {},
   "outputs": [],
   "source": [
    "# Function for upsampling dataset with replacement\n",
    "def upsample(data, n):\n",
    "    print('Upsampling dataset ...')\n",
    "    data_resampled = resample(data,\n",
    "                              replace=True,     # sample with replacement\n",
    "                              n_samples=n, # to match the mean of three cluster assignments\n",
    "                              random_state=123) # reproducible results\n",
    "    return data_resampled"
   ]
  },
  {
   "cell_type": "code",
   "execution_count": 22,
   "metadata": {},
   "outputs": [],
   "source": [
    "# Function for downsampling dataset with replacement\n",
    "def downsample(data, n):\n",
    "    print('Downsampling dataset ...')\n",
    "    data_resampled = resample(data,\n",
    "                              replace=False,    # sample without replacement\n",
    "                              n_samples=n, # to match the mean of three cluster assignments\n",
    "                              random_state=123) # reproducible results\n",
    "    return data_resampled"
   ]
  },
  {
   "cell_type": "markdown",
   "metadata": {},
   "source": [
    "### Dataset ETL and Selection of Top80 Sales"
   ]
  },
  {
   "cell_type": "code",
   "execution_count": 23,
   "metadata": {
    "scrolled": true
   },
   "outputs": [
    {
     "name": "stdout",
     "output_type": "stream",
     "text": [
      "0: Existing Product; 1: New Product\n",
      "0    131966\n",
      "1     25081\n",
      "Name: NewProduct, dtype: int64\n",
      "\n",
      "Grouped dataset (Experiment Id, Seasons and Categoricals) shape:  (33005, 23)\n",
      "Spring with categorical dataset shape:  (15050, 22)\n",
      "Fall with categorical dataset shape:  (17955, 22)\n",
      "Dataset shape after retaining the Top80 selling products:  (2280, 22)\n",
      "Dataset shape after retaining the Top80 selling products:  (2548, 22)\n",
      "\n",
      "----- Feature Set : dfSpring_Top80 ----- \n",
      " ['Experiment_Id', 'Department', 'Category', 'SubCategory', 'Material', 'Style', 'Dimension', 'ProductSize', 'Volume', 'InventorySegment', 'Color', 'UPC', 'NewProduct', 'Contract', 'Future_Contract', 'Popularity', 'Orders', 'Ordered_Units', 'Avg_Daily_Ordered_Units', 'Days_Ordered', 'Order_Volume', 'Avg_Daily_Volume']\n",
      "\n",
      "----- Feature Set : dfFall_Top80 ----- \n",
      " ['Experiment_Id', 'Department', 'Category', 'SubCategory', 'Material', 'Style', 'Dimension', 'ProductSize', 'Volume', 'InventorySegment', 'Color', 'UPC', 'NewProduct', 'Contract', 'Future_Contract', 'Popularity', 'Orders', 'Ordered_Units', 'Avg_Daily_Ordered_Units', 'Days_Ordered', 'Order_Volume', 'Avg_Daily_Volume']\n"
     ]
    }
   ],
   "source": [
    "# Add a new feature 'currentContract'\n",
    "dataYear = add_Contract(dataYear)\n",
    "\n",
    "# Add a new feature 'futureContract'\n",
    "dataYear = add_FutureContract(dataYear, dataFutureYear)\n",
    "\n",
    "# Remove those Data for which there are no Orders\n",
    "dfOrders = dataYear[dataYear.Orders != 0]\n",
    "\n",
    "# Add a new feature 'NewProduct' to identify whether a product is New or Existing\n",
    "dfOrders = add_NewProduct(dfOrders)\n",
    "print(\"0: Existing Product; 1: New Product\")\n",
    "print(dfOrders['NewProduct'].value_counts())\n",
    "\n",
    "# Add a new feature 'popularity' to measure how much was contracted and how much was actually sold\n",
    "dfOrders = add_Popularity(dfOrders)\n",
    "\n",
    "# Change unit of volume from cu. inches to cu. feet\n",
    "dfOrders = changeUnitOfVolume(dfOrders)\n",
    "\n",
    "# Group yearly dataset by Experiment_Id, Seasons and Categoricals\n",
    "groupedSeasons = group_by_SeasonsAndCategoricals(dfOrders)\n",
    "\n",
    "groupedSpring = groupedSeasons.loc[groupedSeasons['Season'] == 0].drop(['Season'], axis=1)\n",
    "groupedFall = groupedSeasons.loc[groupedSeasons['Season'] == 1].drop(['Season'], axis=1)\n",
    "print(\"Spring with categorical dataset shape: \", groupedSpring.shape)\n",
    "print(\"Fall with categorical dataset shape: \", groupedFall.shape)\n",
    "\n",
    "dfSpring_Top80 = get_Top80(groupedSpring)\n",
    "dfFall_Top80 = get_Top80(groupedFall)\n",
    "\n",
    "print(\"\\n----- Feature Set : dfSpring_Top80 ----- \\n\", list(dfSpring_Top80.columns))\n",
    "print(\"\\n----- Feature Set : dfFall_Top80 ----- \\n\", list(dfFall_Top80.columns))"
   ]
  },
  {
   "cell_type": "markdown",
   "metadata": {},
   "source": [
    "### Data Transformation and Visualization"
   ]
  },
  {
   "cell_type": "code",
   "execution_count": 24,
   "metadata": {},
   "outputs": [],
   "source": [
    "# dataSpring = dfSpring_Top80[['Volume', 'Orders', 'Ordered_Units', 'Avg_Daily_Ordered_Units', 'Days_Ordered', 'Order_Volume', 'Avg_Daily_Volume']]\n",
    "\n",
    "# # Data Normalization\n",
    "# data_normed_Spring = normalize(dataSpring)\n",
    "# data_normed_Spring = pd.DataFrame(data_normed_Spring, columns=dataSpring.columns)\n",
    "\n",
    "# # Data Standard Scaler\n",
    "# # Create scaler\n",
    "# scaler = preprocessing.StandardScaler()\n",
    "# # Transform the feature\n",
    "# data_scaled_Spring = scaler.fit_transform(dataSpring)\n",
    "# data_scaled_Spring = pd.DataFrame(data_scaled_Spring, columns=dataSpring.columns)\n",
    "\n",
    "# Plot Histograms for Raw Data, Normalized Data and Standard-Scaled Data\n",
    "# plot_Histograms(dataSpring)\n",
    "# plot_Histograms(data_normed_Spring)\n",
    "# plot_Histograms(data_scaled_Spring)\n",
    "\n",
    "# KSTest and QQPlots for Raw Data, Normalized Data and Standard-Scaled Data\n",
    "# ksTest_QQPlots(dataSpring)\n",
    "# ksTest_QQPlots(data_normed_Spring)\n",
    "# ksTest_QQPlots(data_scaled_Spring)"
   ]
  },
  {
   "cell_type": "code",
   "execution_count": 25,
   "metadata": {},
   "outputs": [],
   "source": [
    "# dataFall = dfFall_Top80[['Volume', 'Orders', 'Ordered_Units', 'Avg_Daily_Ordered_Units', 'Days_Ordered', 'Order_Volume', 'Avg_Daily_Volume']]\n",
    "\n",
    "# # Data normalization\n",
    "# data_normed_Fall = normalize(dataFall)\n",
    "# data_normed_Fall = pd.DataFrame(data_normed_Fall, columns=dataFall.columns)\n",
    "\n",
    "# # Data Standard Scaler\n",
    "# # Create scaler\n",
    "# scaler = preprocessing.StandardScaler()\n",
    "# # Transform the feature\n",
    "# data_scaled_Fall = scaler.fit_transform(dataFall)\n",
    "# data_scaled_Fall = pd.DataFrame(data_scaled_Fall, columns=dataFall.columns)\n",
    "\n",
    "# Plot Histograms for Raw Data, Normalized Data and Standard-Scaled Data\n",
    "# plot_Histograms(dataFall)\n",
    "# plot_Histograms(data_normed_Fall)\n",
    "# plot_Histograms(data_scaled_Fall)\n",
    "\n",
    "# KSTest and QQPlots for Raw Data, Normalized Data and Standard-Scaled Data\n",
    "# ksTest_QQPlots(dataFall)\n",
    "# ksTest_QQPlots(data_normed_Fall)\n",
    "# ksTest_QQPlots(data_scaled_Fall)"
   ]
  },
  {
   "cell_type": "markdown",
   "metadata": {},
   "source": [
    "### Feature Selection for Clustering"
   ]
  },
  {
   "cell_type": "code",
   "execution_count": 26,
   "metadata": {},
   "outputs": [],
   "source": [
    "# Bootstrap Resampling\n",
    "# from sklearn.utils import resample\n",
    "# # prepare bootstrap sample\n",
    "# bootSpring = resample(dfSpring_clust, replace=True)\n",
    "# bootFall = resample(dfFall_clust, replace=True)"
   ]
  },
  {
   "cell_type": "markdown",
   "metadata": {},
   "source": [
    "### Calculate Corelation of Selected Features"
   ]
  },
  {
   "cell_type": "code",
   "execution_count": 27,
   "metadata": {
    "scrolled": true
   },
   "outputs": [],
   "source": [
    "# corr_Spring = dfSpring_clust.corr()\n",
    "# corr_Spring.style.background_gradient(cmap='coolwarm', axis=None)"
   ]
  },
  {
   "cell_type": "code",
   "execution_count": 28,
   "metadata": {},
   "outputs": [],
   "source": [
    "# corr_Fall = dfFall_clust.corr()\n",
    "# corr_Fall.style.background_gradient(cmap='coolwarm', axis=None)"
   ]
  },
  {
   "cell_type": "markdown",
   "metadata": {},
   "source": [
    "### Calculate 'p-value' of Corelation matrix"
   ]
  },
  {
   "cell_type": "code",
   "execution_count": 29,
   "metadata": {},
   "outputs": [],
   "source": [
    "# # Find p-values (p) of Spring Corelation Matrix\n",
    "# r, p = corrcoef_loop(corr_Spring.values)\n",
    "\n",
    "# # Convert the p-value matrix into a dataframe for plotting\n",
    "# p_df = pd.DataFrame(p)\n",
    "# p_df.columns = CLUSTERING_FEATURE_SET\n",
    "# p_df.index = CLUSTERING_FEATURE_SET\n",
    "\n",
    "# p_df.style.background_gradient(cmap='coolwarm', axis=None)"
   ]
  },
  {
   "cell_type": "code",
   "execution_count": 30,
   "metadata": {},
   "outputs": [],
   "source": [
    "# # Find p-values (p) of Fall Corelation Matrix\n",
    "# r, p = corrcoef_loop(corr_Fall.values)\n",
    "\n",
    "# # Convert the p-value matrix into a dataframe for plotting\n",
    "# p_df = pd.DataFrame(p)\n",
    "# p_df.columns = CLUSTERING_FEATURE_SET\n",
    "# p_df.index = CLUSTERING_FEATURE_SET\n",
    "\n",
    "# p_df.style.background_gradient(cmap='coolwarm', axis=None)"
   ]
  },
  {
   "cell_type": "markdown",
   "metadata": {},
   "source": [
    "### Calculate 'Confidence Interval' of clustering dataset"
   ]
  },
  {
   "cell_type": "code",
   "execution_count": 31,
   "metadata": {},
   "outputs": [],
   "source": [
    "# # Calculate confidence interval of Spring dataset\n",
    "# confInt_Spring =  pd.DataFrame(sms.DescrStatsW(dfSpring_clust).tconfint_mean(),\n",
    "#                                columns=CLUSTERING_FEATURE_SET)\n",
    "# print('\\n----- Confidence interval of Spring dataset -----\\n\\n', confInt_Spring)\n",
    "\n",
    "# # Calculate confidence interval of Fall dataset\n",
    "# confInt_Fall = pd.DataFrame(sms.DescrStatsW(dfFall_clust).tconfint_mean(),\n",
    "#                             columns=CLUSTERING_FEATURE_SET)\n",
    "# print('\\n----- Confidence interval of Fall dataset -----\\n\\n', confInt_Fall)"
   ]
  },
  {
   "cell_type": "code",
   "execution_count": 32,
   "metadata": {},
   "outputs": [],
   "source": [
    "CLUSTERING_FEATURE_SET_1 = ['Volume', 'Orders', 'Ordered_Units', 'Days_Ordered', 'Order_Volume']\n",
    "CLUSTERING_FEATURE_SET_2 = ['Volume', 'Orders', 'Avg_Daily_Ordered_Units', 'Days_Ordered', 'Order_Volume']\n",
    "CLUSTERING_FEATURE_SET_3 = ['Volume', 'Orders', 'Ordered_Units', 'Days_Ordered', 'Avg_Daily_Volume']\n",
    "CLUSTERING_FEATURE_SET_4 = ['Volume', 'Orders', 'Avg_Daily_Ordered_Units', 'Days_Ordered', 'Avg_Daily_Volume']\n",
    "\n",
    "CLUSTERING_FEATURE_SET = CLUSTERING_FEATURE_SET_4\n",
    "\n",
    "dfSpring_clust = dfSpring_Top80[CLUSTERING_FEATURE_SET]\n",
    "dfFall_clust = dfFall_Top80[CLUSTERING_FEATURE_SET]"
   ]
  },
  {
   "cell_type": "markdown",
   "metadata": {},
   "source": [
    "### GMM Clustering"
   ]
  },
  {
   "cell_type": "code",
   "execution_count": 33,
   "metadata": {},
   "outputs": [
    {
     "name": "stdout",
     "output_type": "stream",
     "text": [
      "\n",
      "----- Spring Cluster_Label counts with GMM n=3 -----\n",
      "0    1457\n",
      "1     482\n",
      "2     341\n",
      "Name: GMM_Cluster3_Label, dtype: int64\n",
      "Accuracy of GMM with n=3 on Spring data:  0.1923006926724379\n"
     ]
    },
    {
     "data": {
      "image/png": "[encoded data removed]",
      "text/plain": [
       "<Figure size 432x288 with 1 Axes>"
      ]
     },
     "metadata": {
      "needs_background": "light"
     },
     "output_type": "display_data"
    }
   ],
   "source": [
    "# Cluster Spring by K-Means Clustering\n",
    "dfSpring_GMM = dfSpring_clust.copy()\n",
    "\n",
    "# GMM with n=3 on Spring Data\n",
    "spring_cluster3_label = GMM_clusterLabels(dfSpring_GMM , 3)\n",
    "dfSpring_Top80['GMM_Cluster3_Label'] = spring_cluster3_label\n",
    "\n",
    "print(\"\\n----- Spring Cluster_Label counts with GMM n=3 -----\")\n",
    "print(dfSpring_Top80['GMM_Cluster3_Label'].value_counts())\n",
    "\n",
    "# Clustering Accuracy : Calculate Silhouette Coefficient\n",
    "# Evaluate the 3-cluster model for Spring\n",
    "accuracySpring = silhouette_score(dfSpring_GMM , spring_cluster3_label)\n",
    "print(\"Accuracy of GMM with n=3 on Spring data: \", accuracySpring)\n",
    "\n",
    "# # Add binary response values for each Cluster Labels\n",
    "# dfSpring_Top80 = add_binary_response_GMM_clusterLabels(dfSpring_Top80)"
   ]
  },
  {
   "cell_type": "code",
   "execution_count": 34,
   "metadata": {},
   "outputs": [
    {
     "name": "stdout",
     "output_type": "stream",
     "text": [
      "\n",
      "----- Fall Cluster_Label counts with GMM n=3 -----\n",
      "2    1819\n",
      "1     445\n",
      "0     284\n",
      "Name: GMM_Cluster3_Label, dtype: int64\n",
      "Accuracy of GMM with n=3 on Fall data:  0.20254479855888324\n"
     ]
    },
    {
     "data": {
      "image/png": "[encoded data removed]",
      "text/plain": [
       "<Figure size 432x288 with 1 Axes>"
      ]
     },
     "metadata": {
      "needs_background": "light"
     },
     "output_type": "display_data"
    }
   ],
   "source": [
    "# Cluster Fall by K-Means Clustering\n",
    "dfFall_GMM = dfFall_clust.copy()\n",
    "\n",
    "# GMM with n=3 on Fall Data\n",
    "Fall_cluster3_label = GMM_clusterLabels(dfFall_GMM , 3)\n",
    "dfFall_Top80['GMM_Cluster3_Label'] = Fall_cluster3_label\n",
    "\n",
    "print(\"\\n----- Fall Cluster_Label counts with GMM n=3 -----\")\n",
    "print(dfFall_Top80['GMM_Cluster3_Label'].value_counts())\n",
    "\n",
    "# Clustering Accuracy : Calculate Silhouette Coefficient\n",
    "# Evaluate the 3-cluster model for Fall\n",
    "accuracyFall = silhouette_score(dfFall_GMM , Fall_cluster3_label)\n",
    "print(\"Accuracy of GMM with n=3 on Fall data: \", accuracyFall)\n",
    "\n",
    "# # Add binary response values for each Cluster Labels\n",
    "# dfFall_Top80 = add_binary_response_GMM_clusterLabels(dfFall_Top80)"
   ]
  },
  {
   "cell_type": "markdown",
   "metadata": {},
   "source": [
    "### Agglomerative Clustering"
   ]
  },
  {
   "cell_type": "code",
   "execution_count": 35,
   "metadata": {},
   "outputs": [],
   "source": [
    "# data = dfSpring_clust.copy()\n",
    "# data_scaled = normalize(data)\n",
    "# data_scaled = pd.DataFrame(data_scaled, columns=data.columns)\n",
    "\n",
    "# plt.figure(figsize=(10, 7))  \n",
    "# plt.title(\"Dendrograms\")  \n",
    "# dend = shc.dendrogram(shc.linkage(data_scaled, method='ward'))"
   ]
  },
  {
   "cell_type": "code",
   "execution_count": 36,
   "metadata": {},
   "outputs": [],
   "source": [
    "# # Cluster Spring data by Agglomerative Clustering\n",
    "# # Agglomerative with n=3\n",
    "# cluster_label = Agglomerative_clusterLabels(data_scaled, 3)\n",
    "\n",
    "# dfSpring_Top80['Agglo_Cluster3_Label'] = cluster_label\n",
    "# print(\"\\n----- Spring Cluster_Label counts with Agglomerative n=3 -----\")\n",
    "# print(dfSpring_Top80['Agglo_Cluster3_Label'].value_counts())\n",
    "\n",
    "# # Clustering Accuracy : Calculate Silhouette Coefficient\n",
    "# # Evaluate the cluster model for Spring data\n",
    "# accuracySpring = silhouette_score(data_scaled, cluster_label)\n",
    "# print(\"Accuracy of Agglomerative with n=3 on Spring data: \", accuracySpring)"
   ]
  },
  {
   "cell_type": "code",
   "execution_count": 37,
   "metadata": {},
   "outputs": [],
   "source": [
    "# data = dfFall_clust.copy()\n",
    "# data_scaled = normalize(data)\n",
    "# data_scaled = pd.DataFrame(data_scaled, columns=data.columns)\n",
    "\n",
    "# plt.figure(figsize=(10, 7))  \n",
    "# plt.title(\"Dendrograms\")  \n",
    "# dend = shc.dendrogram(shc.linkage(data_scaled, method='ward'))"
   ]
  },
  {
   "cell_type": "code",
   "execution_count": 38,
   "metadata": {},
   "outputs": [],
   "source": [
    "# # Cluster Fall data by Agglomerative Clustering\n",
    "# # Agglomerative with n=3\n",
    "# cluster_label = Agglomerative_clusterLabels(data_scaled, 3)\n",
    "\n",
    "# dfFall_Top80['Agglo_Cluster3_Label'] = cluster_label\n",
    "# print(\"\\n----- Fall Cluster_Label counts with Agglomerative n=3 -----\")\n",
    "# print(dfFall_Top80['Agglo_Cluster3_Label'].value_counts())\n",
    "\n",
    "# # Clustering Accuracy : Calculate Silhouette Coefficient\n",
    "# # Evaluate the cluster model for Fall data\n",
    "# accuracyFall = silhouette_score(data_scaled, cluster_label)\n",
    "# print(\"Accuracy of Agglomerative with n=3 on Fall data: \", accuracyFall)"
   ]
  },
  {
   "cell_type": "markdown",
   "metadata": {},
   "source": [
    "### K-Means Clustering"
   ]
  },
  {
   "cell_type": "code",
   "execution_count": 39,
   "metadata": {},
   "outputs": [],
   "source": [
    "# # Cluster Spring by K-Means Clustering\n",
    "# dfSpring_KMeans = dfSpring_clust.copy()\n",
    "\n",
    "# # Kmeans with n=3 on Spring Data\n",
    "# spring_cluster3_label = KMeans_clusterLabels(dfSpring_KMeans , 3)\n",
    "# dfSpring_Top80['KMeans_Cluster3_Label'] = spring_cluster3_label\n",
    "\n",
    "# print(\"\\n----- Spring Cluster_Label counts with KMeans n=3 -----\")\n",
    "# print(dfSpring_Top80['KMeans_Cluster3_Label'].value_counts())\n",
    "\n",
    "# # Clustering Accuracy : Calculate Silhouette Coefficient\n",
    "# # Evaluate the 3-cluster model for Spring\n",
    "# accuracySpring = silhouette_score(dfSpring_KMeans , spring_cluster3_label)\n",
    "# print(\"Accuracy of KMeans with n=3 on Spring data: \", accuracySpring)\n",
    "\n",
    "# # Add binary response values for each Cluster Labels\n",
    "# dfSpring_Top80 = add_binary_response_Kmeans_clusterLabels(dfSpring_Top80)"
   ]
  },
  {
   "cell_type": "code",
   "execution_count": 40,
   "metadata": {},
   "outputs": [],
   "source": [
    "# # Cluster Fall by K-Means Clustering\n",
    "# dfFall_KMeans = dfFall_clust.copy()\n",
    "\n",
    "# # Kmeans with n=3 on Fall Data\n",
    "# fall_cluster3_label = KMeans_clusterLabels(dfFall_KMeans, 3)\n",
    "# dfFall_Top80['KMeans_Cluster3_Label'] = fall_cluster3_label\n",
    "\n",
    "# print(\"\\n----- Fall Cluster_Label counts with KMeans n=3 -----\")\n",
    "# print(dfFall_Top80['KMeans_Cluster3_Label'].value_counts())\n",
    "\n",
    "# # Clustering Accuracy : Calculate Silhouette Coefficient\n",
    "# # Evaluate the 3-cluster model for Fall\n",
    "# accuracyFall = silhouette_score(dfFall_KMeans, fall_cluster3_label)\n",
    "# print(\"Accuracy of KMeans with n=3 on Fall data: \", accuracyFall)\n",
    "\n",
    "# # Add binary response values for each Cluster Labels\n",
    "# dfFall_Top80 = add_binary_response_Kmeans_clusterLabels(dfFall_Top80)"
   ]
  },
  {
   "cell_type": "code",
   "execution_count": 41,
   "metadata": {},
   "outputs": [
    {
     "name": "stdout",
     "output_type": "stream",
     "text": [
      "Spring dataset shape:  (2280, 26)\n",
      "----- Feature Set ----- \n",
      " ['Experiment_Id', 'Department', 'Category', 'SubCategory', 'Material', 'Style', 'Dimension', 'ProductSize', 'Volume', 'InventorySegment', 'Color', 'UPC', 'NewProduct', 'Contract', 'Future_Contract', 'Popularity', 'Orders', 'Ordered_Units', 'Avg_Daily_Ordered_Units', 'Days_Ordered', 'Order_Volume', 'Avg_Daily_Volume', 'GMM_Cluster3_Label', 'Suggested_Storage_Type', 'Class', 'Season']\n",
      "\n",
      "\n",
      "Fall dataset shape:  (2548, 25)\n",
      "----- Feature Set ----- \n",
      " ['Experiment_Id', 'Department', 'Category', 'SubCategory', 'Material', 'Style', 'Dimension', 'ProductSize', 'Volume', 'InventorySegment', 'Color', 'UPC', 'NewProduct', 'Contract', 'Future_Contract', 'Popularity', 'Orders', 'Ordered_Units', 'Avg_Daily_Ordered_Units', 'Days_Ordered', 'Order_Volume', 'Avg_Daily_Volume', 'GMM_Cluster3_Label', 'Suggested_Storage_Type', 'Class', 'Season']\n",
      "\n",
      "Annual dataset shape:  (4828, 26)\n",
      "----- Feature Set ----- \n",
      " ['Experiment_Id', 'Department', 'Category', 'SubCategory', 'Material', 'Style', 'Dimension', 'ProductSize', 'Volume', 'InventorySegment', 'Color', 'UPC', 'NewProduct', 'Contract', 'Future_Contract', 'Popularity', 'Orders', 'Ordered_Units', 'Avg_Daily_Ordered_Units', 'Days_Ordered', 'Order_Volume', 'Avg_Daily_Volume', 'GMM_Cluster3_Label', 'Suggested_Storage_Type', 'Class', 'Season']\n",
      "1    2548\n",
      "0    2280\n",
      "Name: Season, dtype: int64\n",
      "2    2160\n",
      "0    1741\n",
      "1     927\n",
      "Name: GMM_Cluster3_Label, dtype: int64\n"
     ]
    }
   ],
   "source": [
    "# Create datasets for Classification (Spring and Fall)\n",
    "dfSpring = create_Classification_Dataset(dfSpring_Top80)\n",
    "dfSpring['Season'] = '0'\n",
    "print(\"Spring dataset shape: \", dfSpring.shape)\n",
    "print(\"----- Feature Set ----- \\n\", list(dfSpring.columns))\n",
    "print(\"\\n\")\n",
    "\n",
    "dfFall = create_Classification_Dataset(dfFall_Top80)\n",
    "print(\"Fall dataset shape: \", dfFall.shape)\n",
    "dfFall['Season'] = '1'\n",
    "print(\"----- Feature Set ----- \\n\", list(dfFall.columns))\n",
    "\n",
    "# # Create datasets for Classification (Annual) - Combine the Spring and Fall Datasets\n",
    "dfAnnual = pd.concat([dfSpring, dfFall])\n",
    "print(\"\\nAnnual dataset shape: \", dfAnnual.shape)\n",
    "print(\"----- Feature Set ----- \\n\", list(dfAnnual.columns))\n",
    "print(dfAnnual['Season'].value_counts())\n",
    "print(dfAnnual['GMM_Cluster3_Label'].value_counts())"
   ]
  },
  {
   "cell_type": "code",
   "execution_count": 42,
   "metadata": {},
   "outputs": [],
   "source": [
    "## Box-plots\n",
    "# sns.boxplot(x='Suggested_Storage_Type', y='Avg_Daily_Volume', data=dfSpring, showfliers=False)\n",
    "# sns.boxplot(x='Agglo_Cluster3_Label', y='Avg_Daily_Volume', data=dfSpring, showfliers=False)\n",
    "# sns.boxplot(x='KMeans_Cluster3_Label', y='Avg_Daily_Volume', data=dfSpring, showfliers=False)\n",
    "# sns.boxplot(x='GMM_Cluster3_Label', y='Avg_Daily_Volume', data=dfSpring, showfliers=False)\n",
    "\n",
    "# sns.boxplot(x='Suggested_Storage_Type', y='Avg_Daily_Volume', data=dfFall, showfliers=False)\n",
    "# sns.boxplot(x='Agglo_Cluster3_Label', y='Avg_Daily_Volume', data=dfFall, showfliers=False)\n",
    "# sns.boxplot(x='KMeans_Cluster3_Label', y='Avg_Daily_Volume', data=dfFall, showfliers=False)\n",
    "# sns.boxplot(x='GMM_Cluster3_Label', y='Avg_Daily_Volume', data=dfFall, showfliers=False)"
   ]
  },
  {
   "cell_type": "markdown",
   "metadata": {},
   "source": [
    "### Classification - Multinomial Logistic Regression"
   ]
  },
  {
   "cell_type": "markdown",
   "metadata": {},
   "source": [
    "#### Resampling data to have equal cluster labels"
   ]
  },
  {
   "cell_type": "code",
   "execution_count": 43,
   "metadata": {},
   "outputs": [
    {
     "name": "stdout",
     "output_type": "stream",
     "text": [
      "0    1457\n",
      "1     482\n",
      "2     341\n",
      "Name: GMM_Cluster3_Label, dtype: int64 \n",
      "\n",
      "Downsampling dataset ...\n",
      "Upsampling dataset ...\n",
      "Upsampling dataset ...\n",
      "\n",
      "Resampled Spring dataset shape:  (2280, 26)\n",
      "1    760\n",
      "2    760\n",
      "0    760\n",
      "Name: GMM_Cluster3_Label, dtype: int64\n"
     ]
    }
   ],
   "source": [
    "# Resampling SPRING Data\n",
    "\n",
    "print(dfSpring['GMM_Cluster3_Label'].value_counts(),\"\\n\")\n",
    "\n",
    "# sampling size: mean of cluster label assignments\n",
    "n_samples = int(np.mean(dfSpring['GMM_Cluster3_Label'].value_counts()))\n",
    "\n",
    "# Separate the classes into individual dataframes\n",
    "dfSpring_clus1 = dfSpring[dfSpring['GMM_Cluster3_Label']==0]\n",
    "dfSpring_clus2 = dfSpring[dfSpring['GMM_Cluster3_Label']==1]\n",
    "dfSpring_clus3 = dfSpring[dfSpring['GMM_Cluster3_Label']==2]\n",
    "\n",
    "clus1_samples = dfSpring_clus1['GMM_Cluster3_Label'].count()\n",
    "clus2_samples = dfSpring_clus2['GMM_Cluster3_Label'].count()\n",
    "clus3_samples = dfSpring_clus3['GMM_Cluster3_Label'].count()\n",
    "\n",
    "# Resample Cluster1 assignments\n",
    "if clus1_samples < n_samples:\n",
    "    dfSpring_clus1_resampled = upsample(dfSpring_clus1, n_samples)\n",
    "    \n",
    "elif clus1_samples > n_samples:\n",
    "    dfSpring_clus1_resampled = downsample(dfSpring_clus1, n_samples)\n",
    "    \n",
    "else:\n",
    "    dfSpring_clus1_resampled = dfSpring_clus1.copy()\n",
    "\n",
    "# Resample Cluster2 assignments\n",
    "if clus2_samples < n_samples:\n",
    "    dfSpring_clus2_resampled = upsample(dfSpring_clus2, n_samples)\n",
    "    \n",
    "elif clus2_samples > n_samples:\n",
    "    dfSpring_clus2_resampled = downsample(dfSpring_clus2, n_samples)\n",
    "    \n",
    "else:\n",
    "    dfSpring_clus2_resampled = dfSpring_clus2.copy()\n",
    "    \n",
    "# Resample Cluster3 assignments\n",
    "if clus3_samples < n_samples:\n",
    "    dfSpring_clus3_resampled = upsample(dfSpring_clus3, n_samples)\n",
    "    \n",
    "elif clus3_samples > n_samples:\n",
    "    dfSpring_clus3_resampled = downsample(dfSpring_clus3, n_samples)\n",
    "    \n",
    "else:\n",
    "    dfSpring_clus3_resampled = dfSpring_clus3.copy()\n",
    "    \n",
    "# Combine the resampled classes\n",
    "dfSpring_resampled = pd.concat([dfSpring_clus1_resampled, dfSpring_clus2_resampled, dfSpring_clus3_resampled])\n",
    "\n",
    "print(\"\\nResampled Spring dataset shape: \", dfSpring_resampled.shape)\n",
    "print(dfSpring_resampled['GMM_Cluster3_Label'].value_counts())"
   ]
  },
  {
   "cell_type": "code",
   "execution_count": 44,
   "metadata": {},
   "outputs": [
    {
     "name": "stdout",
     "output_type": "stream",
     "text": [
      "2    1819\n",
      "1     445\n",
      "0     284\n",
      "Name: GMM_Cluster3_Label, dtype: int64 \n",
      "\n",
      "Upsampling dataset ...\n",
      "Upsampling dataset ...\n",
      "Downsampling dataset ...\n",
      "\n",
      "Resampled Fall dataset shape:  (2547, 26)\n",
      "1    849\n",
      "2    849\n",
      "0    849\n",
      "Name: GMM_Cluster3_Label, dtype: int64\n"
     ]
    }
   ],
   "source": [
    "# Resampling FALL Data\n",
    "\n",
    "print(dfFall['GMM_Cluster3_Label'].value_counts(),\"\\n\")\n",
    "\n",
    "# sampling size: mean of cluster label assignments\n",
    "n_samples = int(np.mean(dfFall['GMM_Cluster3_Label'].value_counts()))\n",
    "\n",
    "# Separate the classes into individual dataframes\n",
    "dfFall_clus1 = dfFall[dfFall['GMM_Cluster3_Label']==0]\n",
    "dfFall_clus2 = dfFall[dfFall['GMM_Cluster3_Label']==1]\n",
    "dfFall_clus3 = dfFall[dfFall['GMM_Cluster3_Label']==2]\n",
    "\n",
    "clus1_samples = dfFall_clus1['GMM_Cluster3_Label'].count()\n",
    "clus2_samples = dfFall_clus2['GMM_Cluster3_Label'].count()\n",
    "clus3_samples = dfFall_clus3['GMM_Cluster3_Label'].count()\n",
    "\n",
    "# Resample Cluster1 assignments\n",
    "if clus1_samples < n_samples:\n",
    "    dfFall_clus1_resampled = upsample(dfFall_clus1, n_samples)\n",
    "    \n",
    "elif clus1_samples > n_samples:\n",
    "    dfFall_clus1_resampled = downsample(dfFall_clus1, n_samples)\n",
    "    \n",
    "else:\n",
    "    dfFall_clus1_resampled = dfFall_clus1.copy()\n",
    "\n",
    "# Resample Cluster2 assignments\n",
    "if clus2_samples < n_samples:\n",
    "    dfFall_clus2_resampled = upsample(dfFall_clus2, n_samples)\n",
    "    \n",
    "elif clus2_samples > n_samples:\n",
    "    dfFall_clus2_resampled = downsample(dfFall_clus2, n_samples)\n",
    "    \n",
    "else:\n",
    "    dfFall_clus2_resampled = dfFall_clus2.copy()\n",
    "    \n",
    "# Resample Cluster3 assignments\n",
    "if clus3_samples < n_samples:\n",
    "    dfFall_clus3_resampled = upsample(dfFall_clus3, n_samples)\n",
    "    \n",
    "elif clus3_samples > n_samples:\n",
    "    dfFall_clus3_resampled = downsample(dfFall_clus3, n_samples)\n",
    "    \n",
    "else:\n",
    "    dfFall_clus3_resampled = dfFall_clus3.copy()\n",
    "    \n",
    "# Combine the resampled classes\n",
    "dfFall_resampled = pd.concat([dfFall_clus1_resampled, dfFall_clus2_resampled, dfFall_clus3_resampled])\n",
    "\n",
    "print(\"\\nResampled Fall dataset shape: \", dfFall_resampled.shape)\n",
    "print(dfFall_resampled['GMM_Cluster3_Label'].value_counts())"
   ]
  },
  {
   "cell_type": "code",
   "execution_count": 45,
   "metadata": {},
   "outputs": [
    {
     "name": "stdout",
     "output_type": "stream",
     "text": [
      "2    2160\n",
      "0    1741\n",
      "1     927\n",
      "Name: GMM_Cluster3_Label, dtype: int64 \n",
      "\n",
      "Downsampling dataset ...\n",
      "Upsampling dataset ...\n",
      "Downsampling dataset ...\n",
      "\n",
      "Resampled Annual dataset shape:  (4827, 26)\n",
      "2    1609\n",
      "1    1609\n",
      "0    1609\n",
      "Name: GMM_Cluster3_Label, dtype: int64\n"
     ]
    }
   ],
   "source": [
    "# Resampling ANNUAL Data\n",
    "\n",
    "print(dfAnnual['GMM_Cluster3_Label'].value_counts(),\"\\n\")\n",
    "\n",
    "# sampling size: mean of cluster label assignments\n",
    "n_samples = int(np.mean(dfAnnual['GMM_Cluster3_Label'].value_counts()))\n",
    "\n",
    "# Separate the classes into individual dataframes\n",
    "dfAnnual_clus1 = dfAnnual[dfAnnual['GMM_Cluster3_Label']==0]\n",
    "dfAnnual_clus2 = dfAnnual[dfAnnual['GMM_Cluster3_Label']==1]\n",
    "dfAnnual_clus3 = dfAnnual[dfAnnual['GMM_Cluster3_Label']==2]\n",
    "\n",
    "clus1_samples = dfAnnual_clus1['GMM_Cluster3_Label'].count()\n",
    "clus2_samples = dfAnnual_clus2['GMM_Cluster3_Label'].count()\n",
    "clus3_samples = dfAnnual_clus3['GMM_Cluster3_Label'].count()\n",
    "\n",
    "# Resample Cluster1 assignments\n",
    "if clus1_samples < n_samples:\n",
    "    dfAnnual_clus1_resampled = upsample(dfAnnual_clus1, n_samples)\n",
    "    \n",
    "elif clus1_samples > n_samples:\n",
    "    dfAnnual_clus1_resampled = downsample(dfAnnual_clus1, n_samples)\n",
    "    \n",
    "else:\n",
    "    dfAnnual_clus1_resampled = dfAnnual_clus1.copy()\n",
    "\n",
    "# Resample Cluster2 assignments\n",
    "if clus2_samples < n_samples:\n",
    "    dfAnnual_clus2_resampled = upsample(dfAnnual_clus2, n_samples)\n",
    "    \n",
    "elif clus2_samples > n_samples:\n",
    "    dfAnnual_clus2_resampled = downsample(dfAnnual_clus2, n_samples)\n",
    "    \n",
    "else:\n",
    "    dfAnnual_clus2_resampled = dfAnnual_clus2.copy()\n",
    "    \n",
    "# Resample Cluster3 assignments\n",
    "if clus3_samples < n_samples:\n",
    "    dfAnnual_clus3_resampled = upsample(dfAnnual_clus3, n_samples)\n",
    "    \n",
    "elif clus3_samples > n_samples:\n",
    "    dfAnnual_clus3_resampled = downsample(dfAnnual_clus3, n_samples)\n",
    "    \n",
    "else:\n",
    "    dfAnnual_clus3_resampled = dfAnnual_clus3.copy()\n",
    "    \n",
    "# Combine the resampled classes\n",
    "dfAnnual_resampled = pd.concat([dfAnnual_clus1_resampled, dfAnnual_clus2_resampled, dfAnnual_clus3_resampled])\n",
    "\n",
    "print(\"\\nResampled Annual dataset shape: \", dfAnnual_resampled.shape)\n",
    "print(dfAnnual_resampled['GMM_Cluster3_Label'].value_counts())"
   ]
  },
  {
   "cell_type": "code",
   "execution_count": 46,
   "metadata": {},
   "outputs": [],
   "source": [
    "# #Corelation matrix of Features: Spring Data\n",
    "# FEATURES =['Volume', 'NewProduct', 'Contract', 'Future_Contract', 'Popularity', 'Orders', 'Ordered_Units', 'Avg_Daily_Ordered_Units', 'Days_Ordered', 'Order_Volume', 'Avg_Daily_Volume']\n",
    "# corr_Spring = dfSpring_resampled[FEATURES].corr()\n",
    "# corr_Spring.style.background_gradient(cmap='coolwarm', axis=None)"
   ]
  },
  {
   "cell_type": "code",
   "execution_count": 47,
   "metadata": {},
   "outputs": [],
   "source": [
    "# # Find p-values (p) of Spring Corelation Matrix\n",
    "# r, p = corrcoef_loop(corr_Spring.values)\n",
    "# p_df = pd.DataFrame(p, columns=corr_Spring.columns, index=corr_Spring.index)\n",
    "# p_df.style.background_gradient(cmap='coolwarm', axis=None)"
   ]
  },
  {
   "cell_type": "code",
   "execution_count": 48,
   "metadata": {},
   "outputs": [],
   "source": [
    "# #Corelation matrix of Features: Fall Data\n",
    "# FEATURES =['Volume', 'NewProduct', 'Contract', 'Future_Contract', 'Popularity', 'Orders', 'Ordered_Units', 'Avg_Daily_Ordered_Units', 'Days_Ordered', 'Order_Volume', 'Avg_Daily_Volume']\n",
    "# corr_Fall = dfFall_resampled[FEATURES].corr()\n",
    "# corr_Fall.style.background_gradient(cmap='coolwarm', axis=None)"
   ]
  },
  {
   "cell_type": "code",
   "execution_count": 49,
   "metadata": {},
   "outputs": [],
   "source": [
    "# # Find p-values (p) of Fall Corelation Matrix\n",
    "# r, p = corrcoef_loop(corr_Fall.values)\n",
    "# p_df = pd.DataFrame(p, columns=corr_Fall.columns, index=corr_Fall.index)\n",
    "# p_df.style.background_gradient(cmap='coolwarm', axis=None)"
   ]
  },
  {
   "cell_type": "code",
   "execution_count": 50,
   "metadata": {},
   "outputs": [],
   "source": [
    "# # For Spring and Fall Classification\n",
    "# FEATURE_SET = ['Ordered_Units', 'Future_Contract', 'NewProduct'] \n",
    "\n",
    "# For Annual Classification\n",
    "FEATURE_SET = ['Ordered_Units', 'Future_Contract', 'NewProduct', 'Season']\n",
    "\n",
    "# TARGET_CLUSTER = ['KMeans_Cluster3_Label']\n",
    "TARGET_CLUSTER = ['GMM_Cluster3_Label']\n",
    "TARGET_CLASS = ['Class']"
   ]
  },
  {
   "cell_type": "code",
   "execution_count": 51,
   "metadata": {},
   "outputs": [],
   "source": [
    "# SPRING DATA\n",
    "# spring_X = dfSpring[FEATURE_SET]     # Spring Training Set\n",
    "# spring_y1 = dfSpring[TARGET_CLUSTER] # Target: 3-cluster labels\n",
    "# spring_y2 = dfSpring[TARGET_CLASS]   # Target: Class (Dale's classification)\n",
    "\n",
    "# spring_cluster_y1 = dfSpring_resampled['Cluster_1'] # Target: Spring Cluster_1 binary response\n",
    "# spring_cluster_y2 = dfSpring_resampled['Cluster_2'] # Target: Spring Cluster_2 binary response\n",
    "# spring_cluster_y3 = dfSpring_resampled['Cluster_3'] # Target: Spring Cluster_3 binary response\n",
    "\n",
    "# FALL DATA\n",
    "# fall_X = dfFall[FEATURE_SET]     # Fall Training Set\n",
    "# fall_y1 = dfFall[TARGET_CLUSTER] # Target: 3-cluster labels\n",
    "# fall_y2 = dfFall[TARGET_CLASS]   # Target: Class (Dale's classification)\n",
    "\n",
    "# fall_cluster_y1 = dfFall_resampled['Cluster_1'] # Target: Fall Cluster_1 binary response\n",
    "# fall_cluster_y2 = dfFall_resampled['Cluster_2'] # Target: Fall Cluster_2 binary response\n",
    "# fall_cluster_y3 = dfFall_resampled['Cluster_3'] # Target: Fall Cluster_3 binary response\n",
    "\n",
    "# ANNUAL DATA\n",
    "# annual_X = dfAnnual[FEATURE_SET]     # Annual Training Set\n",
    "# annual_y1 = dfAnnual[TARGET_CLUSTER] # Target: 3-cluster labels\n",
    "# annual_y2 = dfAnnual[TARGET_CLASS]   # Target: Class (Dale's classification)\n",
    "\n",
    "# annual_cluster_y1 = dfAnnual_resampled['Cluster_1'] # Target: Annual Cluster_1 binary response\n",
    "# annual_cluster_y2 = dfAnnual_resampled['Cluster_2'] # Target: Annual Cluster_2 binary response\n",
    "# annual_cluster_y3 = dfAnnual_resampled['Cluster_3'] # Target: Annual Cluster_3 binary response"
   ]
  },
  {
   "cell_type": "code",
   "execution_count": 52,
   "metadata": {},
   "outputs": [],
   "source": [
    "# SPRING DATA (resampled)\n",
    "# spring_X = dfSpring_resampled[FEATURE_SET]     # Spring Training Set\n",
    "# spring_y1 = dfSpring_resampled[TARGET_CLUSTER] # Target: 3-cluster labels\n",
    "# spring_y2 = dfSpring_resampled[TARGET_CLASS]   # Target: Class (Dale's classification)\n",
    "\n",
    "# spring_cluster_y1 = dfSpring_resampled['Cluster_1'] # Target: Spring Cluster_1 binary response\n",
    "# spring_cluster_y2 = dfSpring_resampled['Cluster_2'] # Target: Spring Cluster_2 binary response\n",
    "# spring_cluster_y3 = dfSpring_resampled['Cluster_3'] # Target: Spring Cluster_3 binary response\n",
    "\n",
    "# FALL DATA (resampled)\n",
    "# fall_X = dfFall_resampled[FEATURE_SET]     # Fall Training Set\n",
    "# fall_y1 = dfFall_resampled[TARGET_CLUSTER] # Target: 3-cluster labels\n",
    "# fall_y2 = dfFall_resampled[TARGET_CLASS]   # Target: Class (Dale's classification)\n",
    "\n",
    "# fall_cluster_y1 = dfFall_resampled['Cluster_1'] # Target: Fall Cluster_1 binary response\n",
    "# fall_cluster_y2 = dfFall_resampled['Cluster_2'] # Target: Fall Cluster_2 binary response\n",
    "# fall_cluster_y3 = dfFall_resampled['Cluster_3'] # Target: Fall Cluster_3 binary response\n",
    "\n",
    "# ANNUAL DATA (resampled)\n",
    "annual_X = dfAnnual_resampled[FEATURE_SET]     # Annual Training Set\n",
    "annual_y1 = dfAnnual_resampled[TARGET_CLUSTER] # Target: 3-cluster labels\n",
    "annual_y2 = dfAnnual_resampled[TARGET_CLASS]   # Target: Class (Dale's classification)\n",
    "\n",
    "# annual_cluster_y1 = dfAnnual_resampled['Cluster_1'] # Target: Annual Cluster_1 binary response\n",
    "# annual_cluster_y2 = dfAnnual_resampled['Cluster_2'] # Target: Annual Cluster_2 binary response\n",
    "# annual_cluster_y3 = dfAnnual_resampled['Cluster_3'] # Target: Annual Cluster_3 binary response"
   ]
  },
  {
   "cell_type": "markdown",
   "metadata": {},
   "source": [
    "#### Multinomial Logit - Fit Statistics"
   ]
  },
  {
   "cell_type": "code",
   "execution_count": 53,
   "metadata": {},
   "outputs": [],
   "source": [
    "# # Train Model and get the Fit Statistics\n",
    "# # Target: Spring Cluster_1 binary response\n",
    "# logit_model=sm.Logit(spring_cluster_y1.astype(float),spring_X.astype(float))\n",
    "# result=logit_model.fit()\n",
    "# print(result.summary())"
   ]
  },
  {
   "cell_type": "code",
   "execution_count": 54,
   "metadata": {},
   "outputs": [],
   "source": [
    "# # Train Model and get the Fit Statistics\n",
    "# # Target: Spring Cluster_2 binary response\n",
    "# logit_model=sm.Logit(spring_cluster_y2.astype(float),spring_X.astype(float))\n",
    "# result=logit_model.fit()\n",
    "# print(result.summary())"
   ]
  },
  {
   "cell_type": "code",
   "execution_count": 55,
   "metadata": {},
   "outputs": [],
   "source": [
    "# # Train Model and get the Fit Statistics\n",
    "# # Target: Spring Cluster_3 binary response\n",
    "# logit_model=sm.Logit(spring_cluster_y3.astype(float),spring_X.astype(float))\n",
    "# result=logit_model.fit()\n",
    "# print(result.summary())"
   ]
  },
  {
   "cell_type": "code",
   "execution_count": 56,
   "metadata": {},
   "outputs": [],
   "source": [
    "# # Train Model and get the Fit Statistics\n",
    "# # Target: Fall Cluster_1 binary response\n",
    "# logit_model=sm.Logit(fall_cluster_y1.astype(float),fall_X.astype(float))\n",
    "# result=logit_model.fit()\n",
    "# print(result.summary())"
   ]
  },
  {
   "cell_type": "code",
   "execution_count": 57,
   "metadata": {},
   "outputs": [],
   "source": [
    "# # Train Model and get the Fit Statistics\n",
    "# # Target: Fall Cluster_2 binary response\n",
    "# logit_model=sm.Logit(fall_cluster_y2.astype(float),fall_X.astype(float))\n",
    "# result=logit_model.fit()\n",
    "# print(result.summary())"
   ]
  },
  {
   "cell_type": "code",
   "execution_count": 58,
   "metadata": {},
   "outputs": [],
   "source": [
    "# # Train Model and get the Fit Statistics\n",
    "# # Target: Fall Cluster_3 binary response\n",
    "# logit_model=sm.Logit(fall_cluster_y3.astype(float),fall_X.astype(float))\n",
    "# result=logit_model.fit()\n",
    "# print(result.summary())"
   ]
  },
  {
   "cell_type": "code",
   "execution_count": 59,
   "metadata": {},
   "outputs": [],
   "source": [
    "# # Train Model and get the Fit Statistics\n",
    "# # Target: Target: 3-cluster labels\n",
    "# logit_model=sm.MNLogit(spring_y1.astype(float),spring_X.astype(float))\n",
    "# result=logit_model.fit()\n",
    "# print(result.summary())"
   ]
  },
  {
   "cell_type": "code",
   "execution_count": 60,
   "metadata": {},
   "outputs": [],
   "source": [
    "# # Train Model and get the Fit Statistics\n",
    "# # Target: Target: 3-cluster labels\n",
    "# logit_model=sm.MNLogit(fall_y1.astype(float),fall_X.astype(float))\n",
    "# result=logit_model.fit()\n",
    "# print(result.summary())"
   ]
  },
  {
   "cell_type": "code",
   "execution_count": 61,
   "metadata": {},
   "outputs": [
    {
     "name": "stdout",
     "output_type": "stream",
     "text": [
      "Optimization terminated successfully.\n",
      "         Current function value: 0.716843\n",
      "         Iterations 9\n",
      "                          MNLogit Regression Results                          \n",
      "==============================================================================\n",
      "Dep. Variable:     GMM_Cluster3_Label   No. Observations:                 4827\n",
      "Model:                        MNLogit   Df Residuals:                     4819\n",
      "Method:                           MLE   Df Model:                            6\n",
      "Date:                Tue, 01 Oct 2019   Pseudo R-squ.:                  0.3475\n",
      "Time:                        10:16:22   Log-Likelihood:                -3460.2\n",
      "converged:                       True   LL-Null:                       -5303.0\n",
      "                                        LLR p-value:                     0.000\n",
      "========================================================================================\n",
      "GMM_Cluster3_Label=1       coef    std err          z      P>|z|      [0.025      0.975]\n",
      "----------------------------------------------------------------------------------------\n",
      "Ordered_Units         9.769e-05   2.29e-05      4.260      0.000    5.27e-05       0.000\n",
      "Future_Contract       7.824e-05   1.87e-05      4.195      0.000    4.17e-05       0.000\n",
      "NewProduct              -1.3785      0.146     -9.420      0.000      -1.665      -1.092\n",
      "Season                  -0.1784      0.104     -1.719      0.086      -0.382       0.025\n",
      "----------------------------------------------------------------------------------------\n",
      "GMM_Cluster3_Label=2       coef    std err          z      P>|z|      [0.025      0.975]\n",
      "----------------------------------------------------------------------------------------\n",
      "Ordered_Units           -0.0007   3.73e-05    -19.857      0.000      -0.001      -0.001\n",
      "Future_Contract          0.0003   2.38e-05     10.968      0.000       0.000       0.000\n",
      "NewProduct              -0.9824      0.146     -6.725      0.000      -1.269      -0.696\n",
      "Season                   3.6768      0.119     30.930      0.000       3.444       3.910\n",
      "========================================================================================\n"
     ]
    }
   ],
   "source": [
    "# Train Model and get the Fit Statistics\n",
    "# Target: Target: 3-cluster labels\n",
    "logit_model=sm.MNLogit(annual_y1.astype(float),annual_X.astype(float))\n",
    "result=logit_model.fit()\n",
    "print(result.summary())"
   ]
  },
  {
   "cell_type": "code",
   "execution_count": 62,
   "metadata": {},
   "outputs": [],
   "source": [
    "# # Train Model and get the Fit Statistics\n",
    "# # Target: Class (Dale's classification)\n",
    "# logit_model=sm.MNLogit(spring_y2.astype(float),spring_X.astype(float))\n",
    "# result=logit_model.fit()\n",
    "# print(result.summary())"
   ]
  },
  {
   "cell_type": "code",
   "execution_count": 63,
   "metadata": {},
   "outputs": [],
   "source": [
    "# # Train Model and get the Fit Statistics\n",
    "# # Target: Class (Dale's classification)\n",
    "# logit_model=sm.MNLogit(fall_y2.astype(float),fall_X.astype(float))\n",
    "# result=logit_model.fit()\n",
    "# print(result.summary())"
   ]
  },
  {
   "cell_type": "code",
   "execution_count": 64,
   "metadata": {},
   "outputs": [
    {
     "name": "stdout",
     "output_type": "stream",
     "text": [
      "Optimization terminated successfully.\n",
      "         Current function value: 1.052489\n",
      "         Iterations 7\n",
      "                          MNLogit Regression Results                          \n",
      "==============================================================================\n",
      "Dep. Variable:                  Class   No. Observations:                 4827\n",
      "Model:                        MNLogit   Df Residuals:                     4819\n",
      "Method:                           MLE   Df Model:                            6\n",
      "Date:                Tue, 01 Oct 2019   Pseudo R-squ.:                -0.07422\n",
      "Time:                        10:16:23   Log-Likelihood:                -5080.4\n",
      "converged:                       True   LL-Null:                       -4729.4\n",
      "                                        LLR p-value:                     1.000\n",
      "===================================================================================\n",
      "        Class=1       coef    std err          z      P>|z|      [0.025      0.975]\n",
      "-----------------------------------------------------------------------------------\n",
      "Ordered_Units    2.683e-05   1.76e-05      1.526      0.127   -7.64e-06    6.13e-05\n",
      "Future_Contract  5.113e-05   1.41e-05      3.629      0.000    2.35e-05    7.87e-05\n",
      "NewProduct         -0.0126      0.118     -0.107      0.915      -0.243       0.218\n",
      "Season             -0.3966      0.061     -6.534      0.000      -0.516      -0.278\n",
      "-----------------------------------------------------------------------------------\n",
      "        Class=2       coef    std err          z      P>|z|      [0.025      0.975]\n",
      "-----------------------------------------------------------------------------------\n",
      "Ordered_Units    4.876e-05   1.79e-05      2.717      0.007    1.36e-05    8.39e-05\n",
      "Future_Contract  3.502e-05   1.44e-05      2.428      0.015    6.76e-06    6.33e-05\n",
      "NewProduct          0.1107      0.127      0.871      0.384      -0.138       0.360\n",
      "Season             -1.0197      0.068    -14.921      0.000      -1.154      -0.886\n",
      "===================================================================================\n"
     ]
    }
   ],
   "source": [
    "# Train Model and get the Fit Statistics\n",
    "# Target: Class (Dale's classification)\n",
    "logit_model=sm.MNLogit(annual_y2.astype(float),annual_X.astype(float))\n",
    "result=logit_model.fit()\n",
    "print(result.summary())"
   ]
  },
  {
   "cell_type": "code",
   "execution_count": 65,
   "metadata": {},
   "outputs": [],
   "source": [
    "# Function to calculate accuracy of classification model\n",
    "def cal_accuracy(y_test, y_pred):      \n",
    "    print(\"Confusion Matrix: \\n\", confusion_matrix(y_test, y_pred)) \n",
    "    print (\"\\nAccuracy percentage: \", accuracy_score(y_test,y_pred)*100)   \n",
    "    print(\"\\n\", classification_report(y_test, y_pred))"
   ]
  },
  {
   "cell_type": "markdown",
   "metadata": {},
   "source": [
    "#### Multinomial Logit Classification (One-vs-Rest)"
   ]
  },
  {
   "cell_type": "code",
   "execution_count": 66,
   "metadata": {},
   "outputs": [
    {
     "name": "stdout",
     "output_type": "stream",
     "text": [
      "\n",
      "Accuracy score with 3-cluster labels:\n",
      "\n",
      "Confusion Matrix: \n",
      " [[156  33 130]\n",
      " [  0 316  11]\n",
      " [ 18  35 267]]\n",
      "\n",
      "Accuracy percentage:  76.50103519668737\n",
      "\n",
      "               precision    recall  f1-score   support\n",
      "\n",
      "           0       0.90      0.49      0.63       319\n",
      "           1       0.82      0.97      0.89       327\n",
      "           2       0.65      0.83      0.73       320\n",
      "\n",
      "   micro avg       0.77      0.77      0.77       966\n",
      "   macro avg       0.79      0.76      0.75       966\n",
      "weighted avg       0.79      0.77      0.75       966\n",
      "\n"
     ]
    }
   ],
   "source": [
    "# Split the dataset into train and test\n",
    "# Target: 3-cluster labels\n",
    "X_train, X_test, y1_train, y1_test = train_test_split(annual_X, annual_y1, test_size=0.2, random_state=0)\n",
    "\n",
    "# Create one-vs-rest multinomial logistic regression object\n",
    "clf = LogisticRegression(random_state=0, multi_class='ovr')\n",
    "\n",
    "# Train Model and get the Accuracy Score\n",
    "model = clf.fit(X_train, y1_train)\n",
    "predictions = clf.predict(X_test)\n",
    "# accuracy = model.score(X_test, y1_test)\n",
    "\n",
    "# Calculate accuracy\n",
    "print(\"\\nAccuracy score with 3-cluster labels:\\n\")\n",
    "cal_accuracy(y1_test, predictions)"
   ]
  },
  {
   "cell_type": "code",
   "execution_count": 67,
   "metadata": {
    "scrolled": true
   },
   "outputs": [
    {
     "name": "stdout",
     "output_type": "stream",
     "text": [
      "\n",
      "Accuracy score with class labels (Dale's classification):\n",
      "\n",
      "Confusion Matrix: \n",
      " [[424  23   0]\n",
      " [211 167  18]\n",
      " [ 36  55  32]]\n",
      "\n",
      "Accuracy percentage:  64.4927536231884\n",
      "\n",
      "               precision    recall  f1-score   support\n",
      "\n",
      "           0       0.63      0.95      0.76       447\n",
      "           1       0.68      0.42      0.52       396\n",
      "           2       0.64      0.26      0.37       123\n",
      "\n",
      "   micro avg       0.64      0.64      0.64       966\n",
      "   macro avg       0.65      0.54      0.55       966\n",
      "weighted avg       0.65      0.64      0.61       966\n",
      "\n"
     ]
    }
   ],
   "source": [
    "# Split the dataset into train and test\n",
    "# Target: Class (Dale's classification)\n",
    "X_train, X_test, y2_train, y2_test = train_test_split(annual_X, annual_y2, test_size=0.2, random_state=0)\n",
    "\n",
    "# Create one-vs-rest multinomial logistic regression object\n",
    "clf = LogisticRegression(random_state=0, multi_class='ovr')\n",
    "\n",
    "# Train Model and get the Accuracy Score\n",
    "model = clf.fit(X_train, y2_train)\n",
    "predictions = clf.predict(X_test)\n",
    "# accuracy = model.score(X_test, y2_test)\n",
    "\n",
    "# Calculate accuracy\n",
    "print(\"\\nAccuracy score with class labels (Dale's classification):\\n\")\n",
    "cal_accuracy(y2_test, predictions)"
   ]
  },
  {
   "cell_type": "markdown",
   "metadata": {},
   "source": [
    "#### Multinomial Logit Classification (Multinomial)"
   ]
  },
  {
   "cell_type": "code",
   "execution_count": 68,
   "metadata": {},
   "outputs": [
    {
     "name": "stdout",
     "output_type": "stream",
     "text": [
      "\n",
      "Accuracy score with 3-cluster labels:\n",
      "\n",
      "Confusion Matrix: \n",
      " [[273   6  40]\n",
      " [ 23 288  16]\n",
      " [ 38  18 264]]\n",
      "\n",
      "Accuracy percentage:  85.40372670807453\n",
      "\n",
      "               precision    recall  f1-score   support\n",
      "\n",
      "           0       0.82      0.86      0.84       319\n",
      "           1       0.92      0.88      0.90       327\n",
      "           2       0.82      0.82      0.82       320\n",
      "\n",
      "   micro avg       0.85      0.85      0.85       966\n",
      "   macro avg       0.86      0.85      0.85       966\n",
      "weighted avg       0.86      0.85      0.85       966\n",
      "\n"
     ]
    }
   ],
   "source": [
    "# Split the dataset into train and test\n",
    "# Target: 3-cluster labels\n",
    "X_train, X_test, y1_train, y1_test = train_test_split(annual_X, annual_y1, test_size=0.2, random_state=0)\n",
    "\n",
    "# Create multinomial logistic regression object\n",
    "clf = LogisticRegression(random_state=0, multi_class='multinomial', solver='newton-cg')\n",
    "\n",
    "# Train Model and get the Accuracy Score\n",
    "model = clf.fit(X_train, y1_train)\n",
    "predictions = clf.predict(X_test)\n",
    "# accuracy = model.score(X_test, y1_test)\n",
    "\n",
    "# Calculate accuracy\n",
    "print(\"\\nAccuracy score with 3-cluster labels:\\n\")\n",
    "cal_accuracy(y1_test, predictions)"
   ]
  },
  {
   "cell_type": "code",
   "execution_count": 69,
   "metadata": {},
   "outputs": [
    {
     "name": "stdout",
     "output_type": "stream",
     "text": [
      "\n",
      "Accuracy score with class labels (Dale's classification):\n",
      "\n",
      "Confusion Matrix: \n",
      " [[413  34   0]\n",
      " [183 201  12]\n",
      " [ 25  70  28]]\n",
      "\n",
      "Accuracy percentage:  66.45962732919256\n",
      "\n",
      "               precision    recall  f1-score   support\n",
      "\n",
      "           0       0.67      0.92      0.77       447\n",
      "           1       0.66      0.51      0.57       396\n",
      "           2       0.70      0.23      0.34       123\n",
      "\n",
      "   micro avg       0.66      0.66      0.66       966\n",
      "   macro avg       0.67      0.55      0.56       966\n",
      "weighted avg       0.67      0.66      0.64       966\n",
      "\n"
     ]
    }
   ],
   "source": [
    "# Split the dataset into train and test\n",
    "# Target: Class (Dale's classification)\n",
    "X_train, X_test, y2_train, y2_test = train_test_split(annual_X, annual_y2, test_size=0.2, random_state=0)\n",
    "\n",
    "# Create multinomial logistic regression object\n",
    "clf = LogisticRegression(random_state=0, multi_class='multinomial', solver='newton-cg')\n",
    "\n",
    "# Train Model and get the Accuracy Score\n",
    "model = clf.fit(X_train, y2_train)\n",
    "predictions = clf.predict(X_test)\n",
    "# accuracy = model.score(X_test, y2_test)\n",
    "\n",
    "# Calculate accuracy\n",
    "print(\"\\nAccuracy score with class labels (Dale's classification):\\n\")\n",
    "cal_accuracy(y2_test, predictions)"
   ]
  },
  {
   "cell_type": "markdown",
   "metadata": {},
   "source": [
    "#### Predict Class Labels of Annual Dataset"
   ]
  },
  {
   "cell_type": "code",
   "execution_count": 70,
   "metadata": {
    "scrolled": true
   },
   "outputs": [
    {
     "name": "stdout",
     "output_type": "stream",
     "text": [
      "2    2160\n",
      "0    1741\n",
      "1     927\n",
      "Name: GMM_Cluster3_Label, dtype: int64\n",
      "2    2074\n",
      "0    1775\n",
      "1     979\n",
      "Name: Predicted_Class, dtype: int64\n",
      "\n",
      "Annual dataset shape:  (4828, 27)\n",
      "----- Feature Set ----- \n",
      " ['Experiment_Id', 'Department', 'Category', 'SubCategory', 'Material', 'Style', 'Dimension', 'ProductSize', 'Volume', 'InventorySegment', 'Color', 'UPC', 'NewProduct', 'Contract', 'Future_Contract', 'Popularity', 'Orders', 'Ordered_Units', 'Avg_Daily_Ordered_Units', 'Days_Ordered', 'Order_Volume', 'Avg_Daily_Volume', 'GMM_Cluster3_Label', 'Suggested_Storage_Type', 'Class', 'Season', 'Predicted_Class']\n",
      "\n",
      "Accuracy score of prediction:\n",
      "\n",
      "Confusion Matrix: \n",
      " [[1456   50  235]\n",
      " [  62  805   60]\n",
      " [ 257  124 1779]]\n",
      "\n",
      "Accuracy percentage:  83.67854183927092\n",
      "\n",
      "               precision    recall  f1-score   support\n",
      "\n",
      "           0       0.82      0.84      0.83      1741\n",
      "           1       0.82      0.87      0.84       927\n",
      "           2       0.86      0.82      0.84      2160\n",
      "\n",
      "   micro avg       0.84      0.84      0.84      4828\n",
      "   macro avg       0.83      0.84      0.84      4828\n",
      "weighted avg       0.84      0.84      0.84      4828\n",
      "\n"
     ]
    }
   ],
   "source": [
    "# Target: 3-cluster labels\n",
    "# Create multinomial logistic regression object\n",
    "clf = LogisticRegression(random_state=0, multi_class='multinomial', solver='newton-cg')\n",
    "\n",
    "# Train Model\n",
    "model = clf.fit(annual_X, annual_y1)\n",
    "\n",
    "# Get the Predictions on Annual Dataset (before resampling)\n",
    "predictions = clf.predict(dfAnnual[FEATURE_SET])\n",
    "\n",
    "# Add the predictions as a new column in the Annual Dataset for comparing with the cluster labels\n",
    "dfAnnual['Predicted_Class'] = predictions\n",
    "\n",
    "print(dfAnnual['GMM_Cluster3_Label'].value_counts())\n",
    "print(dfAnnual['Predicted_Class'].value_counts())\n",
    "print(\"\\nAnnual dataset shape: \", dfAnnual.shape)\n",
    "print(\"----- Feature Set ----- \\n\", list(dfAnnual.columns))\n",
    "\n",
    "# Calculate accuracy\n",
    "print(\"\\nAccuracy score of prediction:\\n\")\n",
    "cal_accuracy(dfAnnual[TARGET_CLUSTER], predictions)"
   ]
  },
  {
   "cell_type": "code",
   "execution_count": 72,
   "metadata": {},
   "outputs": [],
   "source": [
    "# Write the Annual Dataset into csv file\n",
    "dfAnnual.to_csv(r'C:\\Users\\abandyopadhyay\\ALOKPARNA\\RCV_SLOTTING\\Dataset\\Prediction\\Annual_Prediction.csv', index=False)"
   ]
  },
  {
   "cell_type": "code",
   "execution_count": null,
   "metadata": {},
   "outputs": [],
   "source": []
  }
 ],
 "metadata": {
  "kernelspec": {
   "display_name": "Python 3",
   "language": "python",
   "name": "python3"
  },
  "language_info": {
   "codemirror_mode": {
    "name": "ipython",
    "version": 3
   },
   "file_extension": ".py",
   "mimetype": "text/x-python",
   "name": "python",
   "nbconvert_exporter": "python",
   "pygments_lexer": "ipython3",
   "version": "3.7.3"
  },
  "name": "SlottingTrainingPipeline",
  "notebookId": 4085007594758113
 },
 "nbformat": 4,
 "nbformat_minor": 1
}
